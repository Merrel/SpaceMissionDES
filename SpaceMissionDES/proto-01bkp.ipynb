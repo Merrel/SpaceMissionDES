{
 "cells": [
  {
   "cell_type": "code",
   "execution_count": 94,
   "metadata": {},
   "outputs": [],
   "source": [
    "from dataclasses import dataclass, field\n",
    "from heapq import heappush, heappop\n",
    "from pprint import pprint # pretty-printing basic data structures\n",
    "import random\n",
    "\n",
    "import pandas as pd"
   ]
  },
  {
   "cell_type": "markdown",
   "metadata": {},
   "source": [
    "Clock"
   ]
  },
  {
   "cell_type": "code",
   "execution_count": 95,
   "metadata": {},
   "outputs": [
    {
     "name": "stdout",
     "output_type": "stream",
     "text": [
      "The current simulation time is 0 o'clock.\n"
     ]
    }
   ],
   "source": [
    "# https://stackoverflow.com/questions/279561/what-is-the-python-equivalent-of-static-variables-inside-a-function\n",
    "def static_vars(**kwargs):\n",
    "    def decorate(func):\n",
    "        for k in kwargs:\n",
    "            setattr(func, k, kwargs[k])\n",
    "        return func\n",
    "    return decorate\n",
    "\n",
    "@static_vars(t=0)\n",
    "def now():\n",
    "    return now.t\n",
    "\n",
    "def set_time(t_new=0):\n",
    "    now.t = t_new\n",
    "    return now()\n",
    "\n",
    "print(\"The current simulation time is\", now(), \"o'clock.\")"
   ]
  },
  {
   "cell_type": "markdown",
   "metadata": {},
   "source": [
    "Events"
   ]
  },
  {
   "cell_type": "code",
   "execution_count": 96,
   "metadata": {},
   "outputs": [],
   "source": [
    "@dataclass\n",
    "class Event:\n",
    "    name: str"
   ]
  },
  {
   "cell_type": "markdown",
   "metadata": {},
   "source": [
    "Activities"
   ]
  },
  {
   "cell_type": "code",
   "execution_count": 97,
   "metadata": {},
   "outputs": [],
   "source": [
    "@dataclass\n",
    "class Activity:\n",
    "    name: str\n",
    "    start: Event\n",
    "    end: Event\n",
    "    duration: float\n",
    "    dependency: dict = field(default_factory=dict)\n",
    "    resource_change: dict = field(default_factory=dict)\n",
    "    success_rate: float = 1.0\n",
    "\n",
    "# waiting = Activity(\"waiting\", INIT, liftoff, 0)\n",
    "# s1_ascent = Activity(\"s1_ascent\", liftoff, stage, 5)\n",
    "# s2_ascent = Activity(\"s2_ascent\", stage, orbit, 5)"
   ]
  },
  {
   "cell_type": "markdown",
   "metadata": {},
   "source": [
    "Vehicles"
   ]
  },
  {
   "cell_type": "code",
   "execution_count": 110,
   "metadata": {},
   "outputs": [],
   "source": [
    "@dataclass\n",
    "class Object:\n",
    "    name: str\n",
    "    activity: Activity\n",
    "    resource: dict\n",
    "    children: list\n",
    "    trace: pd.DataFrame = pd.DataFrame(columns=['CurrentEvent', 'NextEvent', 'Resource', 'Activity'])\n",
    "\n",
    "    def __repr__(self):\n",
    "        return (f'{self.__class__.__name__} - {self.name}')\n",
    "\n",
    "    @staticmethod\n",
    "    def initialize(name, activity, resource = {}, children = []):\n",
    "        v = Object(name, activity, resource, children)\n",
    "        for child in children:\n",
    "            for resource_type, amnt in child.resource.items():\n",
    "                if resource_type in v.resource:\n",
    "                    v.resource[resource_type] += amnt\n",
    "                else:\n",
    "                    v.resource[resource_type] = amnt\n",
    "        v.update_trace()\n",
    "        return v\n",
    "\n",
    "    def process_event(self, global_trace):\n",
    "        dependencies = self.activity.dependency\n",
    "        resource_change = self.activity.resource_change\n",
    "        # dependency is a dict of events that need to be completed before this event\n",
    "        # for instance, dependency = {\"tank_1\": {\"tank_ejection\": [\"strict\"]}, \"tank_2: {\"tank_ejection\": [\"strict\"]}, {\"vehicle\": {\"positioning\": [\"moderate\", {\"propellant\": -10}]}}\n",
    "        # ideas for other severities are \"modifiable\", ie positioning unsuccessful, event can proceed but will take more resource\n",
    "\n",
    "        # resource_consumption is a dict of resources that will be changed during an event, can be positive or negative\n",
    "        # for instance, resource_change = {\"propellant\": -50}\n",
    "\n",
    "        for dependency, severity in dependencies.items():\n",
    "            if dependency not in [a.name for a in global_trace.loc[:,\"Activity\"]]:\n",
    "                if severity[0] == \"strict\":\n",
    "                    raise Exception(f\"Strict dependency {dependency} not satisfied, something failed\")\n",
    "                    break\n",
    "                # temporary, need to find a standardizable syntax\n",
    "                elif severity[0] == \"moderate\":\n",
    "                    for resource, value in severity[1].items():\n",
    "                        try:\n",
    "                            resource_change[resource] += value\n",
    "                        except:\n",
    "                            resource_change[resource] = value\n",
    "\n",
    "\n",
    "        for resource, value in resource_change.items():\n",
    "            try:\n",
    "                self.resource[resource] += value\n",
    "                if self.resource[resource] <= 0:\n",
    "                    raise Exception(f\"Ran out of {resource} during {self.activity.name}\")\n",
    "                    break\n",
    "            except:\n",
    "                raise Exception(f\"Tried to modify a resource which does not exist, {resource}\")\n",
    "                break\n",
    "\n",
    "        if random.random() > self.activity.success_rate:\n",
    "            print(f\"Oops, {self.activity.name} did not go according to plan\")\n",
    "            # does not raise an exception since not all events are process-ending\n",
    "            return \"Failed\"\n",
    "        else:\n",
    "            return \"Success\"\n",
    "        \n",
    "\n",
    "    def schedule_next_event(self, future_event_list):\n",
    "        template = self.activity.end\n",
    "        name = self.activity.end.name\n",
    "        heappush(\n",
    "            future_event_list.events,\n",
    "            ScheduledEvent(name, template, self, now() + self.activity.duration)\n",
    "        )\n",
    "\n",
    "    def update_trace(self):\n",
    "        self.trace = pd.concat([\n",
    "            self.trace,\n",
    "            pd.DataFrame({\n",
    "                \"CurrentEvent\": self.activity.start, \n",
    "                \"NextEvent\": self.activity.end, \n",
    "                \"Resource\": self.resource, \n",
    "                \"Activity\": self.activity}, index = [len(self.trace) + 1])\n",
    "        ])"
   ]
  },
  {
   "cell_type": "markdown",
   "metadata": {},
   "source": [
    "Future Events"
   ]
  },
  {
   "cell_type": "code",
   "execution_count": 99,
   "metadata": {},
   "outputs": [],
   "source": [
    "@dataclass(order=True)\n",
    "class ScheduledEvent:\n",
    "    name: str=field(compare=False)\n",
    "    template: Event=field(compare=False)\n",
    "    object: Object=field(compare=False)\n",
    "    time: float"
   ]
  },
  {
   "cell_type": "code",
   "execution_count": 100,
   "metadata": {},
   "outputs": [],
   "source": [
    "# Implement the FutureEventList from Prof. Vuduc's example\n",
    "class FutureEventList:\n",
    "    def __init__(self):\n",
    "        self.events = []\n",
    "        \n",
    "    def __iter__(self):\n",
    "        return self\n",
    "    \n",
    "    def __next__(self) -> Event:\n",
    "        from heapq import heappop\n",
    "        if self.events:\n",
    "            return heappop(self.events)\n",
    "        raise StopIteration\n",
    "    \n",
    "    def __repr__(self) -> str:\n",
    "        from pprint import pformat\n",
    "        return pformat(self.events)\n",
    "\n",
    "    def get_next(self):\n",
    "        return heappop(self.events)"
   ]
  },
  {
   "cell_type": "markdown",
   "metadata": {},
   "source": [
    "ConOps"
   ]
  },
  {
   "cell_type": "code",
   "execution_count": 101,
   "metadata": {},
   "outputs": [],
   "source": [
    "@dataclass\n",
    "class ConOps:\n",
    "    sequence: dict\n",
    "\n",
    "    def first(self):\n",
    "        return self.sequence[\"INIT\"]\n",
    "\n",
    "    def after(self, current_event):\n",
    "        # Get the activity which starts with a particular event\n",
    "        return self.sequence[current_event.name]"
   ]
  },
  {
   "cell_type": "markdown",
   "metadata": {},
   "source": [
    "### Process Example 02"
   ]
  },
  {
   "cell_type": "markdown",
   "metadata": {},
   "source": [
    "First define the ConOps as a sequence of processes"
   ]
  },
  {
   "cell_type": "code",
   "execution_count": 111,
   "metadata": {},
   "outputs": [],
   "source": [
    "# Events\n",
    "INIT = Event(\"INIT\")\n",
    "liftoff = Event(\"Liftoff\")\n",
    "tank_usage = Event(\"Tank Usage\")\n",
    "stage = Event(\"Stage\")\n",
    "tank_dropped = Event(\"Tank Dropped\")\n",
    "orbit = Event(\"Orbit\")\n",
    "DONE = Event(\"Done\")\n",
    "\n",
    "# Activities\n",
    "# setting the probabilities really low to test things\n",
    "vehicle_activities = {\n",
    "    INIT.name: Activity(\"waiting\", INIT, liftoff, duration=0),\n",
    "    liftoff.name: Activity(\"s1_ascent\", liftoff, stage, duration=10, dependency = {\"tank1\": {\"tank_usage\": \"strict\"}}, resource_change = {\"propellant\": \"40\"}, success_rate=0.8),\n",
    "    stage.name: Activity(\"s2_ascent\", stage, orbit, duration=10, dependency = {\"tank2\": {\"tank_usage\": \"strict\"}}, resource_change = {\"propellant\": \"20\"}, success_rate=0.8),\n",
    "    orbit.name: Activity(\"insertion\", orbit, DONE, duration=5, dependency = {\"tank1\": {\"tank_dropped\": \"strict\"}, \"tank2\": {\"tank_dropped\": \"strict\"}},resource_change = {\"propellant\": \"10\"}, success_rate=0.8)\n",
    "}\n",
    "# need to think of some failure event handlers, ie \"insertion\" can probably be retried, whereas \"s2_ascent\" cannot\n",
    "# for sake of simplicity a retry should probably just have the same resource change\n",
    "# sorta think it would be better if we had one master activity list, separating the conops may get a bit messy\n",
    "\n",
    "# can we make this so it is easily duplicated across multiple objects\n",
    "tank_activities = {\n",
    "    INIT.name: Activity(\"waiting\", INIT, liftoff, duration=0),\n",
    "    tank_usage.name: Activity(\"tank_usage\", tank_usage, tank_dropped, duration = 8, resource_change={\"propellant\": \"35\"}, success_rate=0.8),\n",
    "    tank_dropped.name: Activity(\"tank_dropped\", tank_dropped, DONE, duration = 8, resource_change={}, success_rate=0.8)\n",
    "}\n",
    "\n",
    "conops_vehicle = ConOps(vehicle_activities)\n",
    "conops_tank1 = ConOps(tank_activities)\n",
    "conops_tank2 = ConOps(tank_activities)\n",
    "\n",
    "system_state = {\n",
    "    activity.name: [] for activity in conops_vehicle.sequence.values()\n",
    "}"
   ]
  },
  {
   "cell_type": "markdown",
   "metadata": {},
   "source": [
    "Initialize the Simulation"
   ]
  },
  {
   "cell_type": "code",
   "execution_count": 112,
   "metadata": {},
   "outputs": [
    {
     "data": {
      "text/plain": [
       "{'waiting': [Object - LV1], 's1_ascent': [], 's2_ascent': [], 'insertion': []}"
      ]
     },
     "execution_count": 112,
     "metadata": {},
     "output_type": "execute_result"
    }
   ],
   "source": [
    "# Reset the clock\n",
    "set_time(0)\n",
    "\n",
    "# Create and empty events list\n",
    "future = FutureEventList()\n",
    "\n",
    "# Start a vehicle\n",
    "# children and resource have default empty values, have just declared them here to reduce confusion\n",
    "tank_1 = Object.initialize(\"tank1\", conops_tank1.first(), resource={\"propellant\": 50}, children=[])\n",
    "tank_2 = Object.initialize(\"tank2\", conops_tank2.first(), resource={\"propellant\": 50}, children=[])\n",
    "current_vehicle = Object.initialize(\"LV1\", conops_vehicle.first(), resource={\"propellant\": 100}, children=[tank_1, tank_2])\n",
    "\n",
    "# Vehicle starts in some activity, which will end when that activities event is processed\n",
    "current_vehicle.schedule_next_event(future)\n",
    "\n",
    "system_state[current_vehicle.activity.name].append(current_vehicle)\n",
    "\n",
    "system_state  # update the system state trace here"
   ]
  },
  {
   "cell_type": "markdown",
   "metadata": {},
   "source": [
    "Loop over events"
   ]
  },
  {
   "cell_type": "code",
   "execution_count": null,
   "metadata": {},
   "outputs": [],
   "source": [
    "# not currently accounting for child object processing, in progress\n",
    "print(\"\\n\\n********************\\n* BEGIN SIMULATION *\\n********************\\n\")\n",
    "\n",
    "for event in future:\n",
    "\n",
    "    # Update the simulation clock\n",
    "    set_time(event.time)\n",
    "\n",
    "    if event.template is DONE:\n",
    "        # system_state[event.object.activity.name].remove(vehicle)\n",
    "        print(f\"Time is {now()}\")\n",
    "        print(\"\\n******************\\n* END SIMULATION *\\n******************\")\n",
    "        break\n",
    "\n",
    "    # Transfer control to the vehicle process\n",
    "    vehicle = event.object\n",
    "\n",
    "    # Get the next activity & update the vehicle\n",
    "    previous_activity = vehicle.activity\n",
    "    vehicle.activity = conops_vehicle.after(event)\n",
    "\n",
    "    # - Update the vehicle trace\n",
    "    vehicle.update_trace()\n",
    "\n",
    "    print(f\"Time is {now()}\")\n",
    "    print(f\"\\tThe previous activity was {previous_activity.name}\")\n",
    "    print(f\"\\tThe current event is {event.name}\")\n",
    "    print(f\"\\tThe next activity is {vehicle.activity.name}\\n\")\n",
    "\n",
    "    # Update the system state\n",
    "    # print(system_state[previous_activity.name])\n",
    "    system_state[previous_activity.name].remove(vehicle)\n",
    "    system_state[vehicle.activity.name].append(vehicle)\n",
    "\n",
    "    # Schedule the next event\n",
    "    vehicle.schedule_next_event(future)\n",
    "\n",
    "    # Return control to the scheduler"
   ]
  },
  {
   "cell_type": "code",
   "execution_count": null,
   "metadata": {},
   "outputs": [],
   "source": [
    "vehicle.trace"
   ]
  },
  {
   "cell_type": "code",
   "execution_count": null,
   "metadata": {},
   "outputs": [],
   "source": [
    "system_state"
   ]
  },
  {
   "cell_type": "code",
   "execution_count": null,
   "metadata": {},
   "outputs": [
    {
     "data": {
      "text/plain": [
       "['waiting', 's1_ascent', 's2_ascent', 'insertion']"
      ]
     },
     "execution_count": 80,
     "metadata": {},
     "output_type": "execute_result"
    }
   ],
   "source": [
    "[a.name for a in vehicle.trace.loc[:,\"Activity\"]]"
   ]
  }
 ],
 "metadata": {
  "interpreter": {
   "hash": "e424518f93302f49c6cf3b0eb17b463a5ec23247dd7ad8a8782bd3c352e484ba"
  },
  "kernelspec": {
   "display_name": "Python 3.10.3 64-bit ('SpaceDES')",
   "language": "python",
   "name": "python3"
  },
  "language_info": {
   "codemirror_mode": {
    "name": "ipython",
    "version": 3
   },
   "file_extension": ".py",
   "mimetype": "text/x-python",
   "name": "python",
   "nbconvert_exporter": "python",
   "pygments_lexer": "ipython3",
   "version": "3.7.12"
  },
  "orig_nbformat": 4
 },
 "nbformat": 4,
 "nbformat_minor": 2
}
