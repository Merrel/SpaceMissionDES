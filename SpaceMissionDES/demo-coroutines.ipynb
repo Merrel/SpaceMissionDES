{
 "cells": [
  {
   "cell_type": "markdown",
   "metadata": {},
   "source": [
    "# Demo Coroutines\n",
    "\n",
    "A process-oriented DES often has a concept of passing control from one \"thread\" to another.\n",
    "\n",
    "<img src=\"./media/Threads-Concept-01.png\" width=500>\n",
    "\n",
    "In the general case, this idea of a thread may actually be better described as a \"*coroutine*\". Python's `asyncio` library can mode coroutines."
   ]
  },
  {
   "cell_type": "markdown",
   "metadata": {},
   "source": [
    "### A Space Misison Coroutine"
   ]
  },
  {
   "cell_type": "markdown",
   "metadata": {},
   "source": [
    "Consider some individual vehicle in our simulation. Lets call it *Alpha*."
   ]
  },
  {
   "cell_type": "code",
   "execution_count": 1,
   "metadata": {},
   "outputs": [],
   "source": [
    "from dataclasses import dataclass\n",
    "\n",
    "@dataclass\n",
    "class Vehicle:\n",
    "    name: str\n",
    "\n",
    "vehicle = Vehicle(\"Alpha\")"
   ]
  },
  {
   "cell_type": "markdown",
   "metadata": {},
   "source": [
    "This kind of vehicle performs an activity called *ascent* -- which is the process of flying that starts with **liftoff** and ends with **stage**."
   ]
  },
  {
   "cell_type": "code",
   "execution_count": 2,
   "metadata": {},
   "outputs": [
    {
     "data": {
      "text/plain": [
       "SpaceEvent(name='liftoff', sync=<asyncio.locks.Event object at 0x1065b1a50 [unset]>)"
      ]
     },
     "execution_count": 2,
     "metadata": {},
     "output_type": "execute_result"
    }
   ],
   "source": [
    "import asyncio\n",
    "\n",
    "@dataclass\n",
    "class SpaceEvent:\n",
    "    name: str\n",
    "    sync: asyncio.Event = asyncio.Event()\n",
    "\n",
    "liftoff = SpaceEvent(\"liftoff\")\n",
    "stage   = SpaceEvent(\"stage\")\n",
    "\n",
    "liftoff"
   ]
  },
  {
   "cell_type": "code",
   "execution_count": 3,
   "metadata": {},
   "outputs": [],
   "source": [
    "async def ascent(event_start, event_complete, vehicle): \n",
    "    print(f\"Event {event_start.name} nas occurred\")\n",
    "    print(f\"{vehicle.name}: Start Ascent\")\n",
    "\n",
    "    await event_complete.wait()\n",
    "\n",
    "    print(f\"{vehicle.name}: Complete Ascent\")"
   ]
  },
  {
   "cell_type": "code",
   "execution_count": 4,
   "metadata": {},
   "outputs": [],
   "source": [
    "@dataclass\n",
    "class Simulation:\n",
    "    future: list  # of events\n",
    "    active: list  # of tasks\n",
    "    complete: list  # of tasks\n",
    "    \n",
    "    def schedule(self, activity, event_start, event_complete, vehicle):\n",
    "\n",
    "        new_task = asyncio.create_task(activity(event_start, event_complete, vehicle))\n",
    "        # update the sim state\n",
    "        self.future.append(event_complete)\n",
    "        self.active.append(new_task)\n",
    "\n",
    "        new_task.add_done_callback(self.update_state)\n",
    "\n",
    "        # self.complete(new_task)\n",
    "\n",
    "    def update_state(self, task):\n",
    "\n",
    "        # self.future.remove(event)\n",
    "        self.active.remove(task)\n",
    "        self.complete.append(task)\n"
   ]
  },
  {
   "cell_type": "code",
   "execution_count": 5,
   "metadata": {},
   "outputs": [
    {
     "data": {
      "text/plain": [
       "Simulation(future=[SpaceEvent(name='stage', sync=<asyncio.locks.Event object at 0x1065b1a50 [unset]>)], active=[<Task pending name='Task-4' coro=<ascent() running at /var/folders/d4/714vzybx28lcn2xx4n__4n8m0000gp/T/ipykernel_89736/1073127561.py:1> cb=[Simulation.update_state()]>], complete=[])"
      ]
     },
     "execution_count": 5,
     "metadata": {},
     "output_type": "execute_result"
    }
   ],
   "source": [
    "sim = Simulation([], [], [])\n",
    "\n",
    "vehicle = Vehicle(\"Alpha\")\n",
    "\n",
    "liftoff = SpaceEvent(\"liftoff\")\n",
    "stage   = SpaceEvent(\"stage\")\n",
    "\n",
    "sim.schedule(ascent, liftoff, stage, vehicle)\n",
    "\n",
    "# sim.active\n",
    "sim"
   ]
  },
  {
   "cell_type": "code",
   "execution_count": 10,
   "metadata": {},
   "outputs": [
    {
     "data": {
      "text/plain": [
       "[]"
      ]
     },
     "execution_count": 10,
     "metadata": {},
     "output_type": "execute_result"
    },
    {
     "name": "stderr",
     "output_type": "stream",
     "text": [
      "Task exception was never retrieved\n",
      "future: <Task finished name='Task-4' coro=<ascent() done, defined at /var/folders/d4/714vzybx28lcn2xx4n__4n8m0000gp/T/ipykernel_89736/1073127561.py:1> exception=AttributeError(\"'SpaceEvent' object has no attribute 'wait'\")>\n",
      "Traceback (most recent call last):\n",
      "  File \"/var/folders/d4/714vzybx28lcn2xx4n__4n8m0000gp/T/ipykernel_89736/1073127561.py\", line 5, in ascent\n",
      "    await event_complete.wait()\n",
      "AttributeError: 'SpaceEvent' object has no attribute 'wait'\n"
     ]
    }
   ],
   "source": [
    "sim.active"
   ]
  },
  {
   "cell_type": "code",
   "execution_count": 7,
   "metadata": {},
   "outputs": [],
   "source": [
    "stage.sync.set()"
   ]
  },
  {
   "cell_type": "code",
   "execution_count": 8,
   "metadata": {},
   "outputs": [
    {
     "data": {
      "text/plain": [
       "[]"
      ]
     },
     "execution_count": 8,
     "metadata": {},
     "output_type": "execute_result"
    }
   ],
   "source": [
    "sim.active"
   ]
  },
  {
   "cell_type": "code",
   "execution_count": 9,
   "metadata": {},
   "outputs": [
    {
     "data": {
      "text/plain": [
       "[<Task finished name='Task-4' coro=<ascent() done, defined at /var/folders/d4/714vzybx28lcn2xx4n__4n8m0000gp/T/ipykernel_89736/1073127561.py:1> exception=AttributeError(\"'SpaceEvent' object has no attribute 'wait'\")>]"
      ]
     },
     "execution_count": 9,
     "metadata": {},
     "output_type": "execute_result"
    }
   ],
   "source": [
    "sim.complete"
   ]
  },
  {
   "cell_type": "code",
   "execution_count": null,
   "metadata": {},
   "outputs": [],
   "source": []
  },
  {
   "cell_type": "code",
   "execution_count": null,
   "metadata": {},
   "outputs": [],
   "source": []
  },
  {
   "cell_type": "code",
   "execution_count": null,
   "metadata": {},
   "outputs": [],
   "source": []
  }
 ],
 "metadata": {
  "interpreter": {
   "hash": "e424518f93302f49c6cf3b0eb17b463a5ec23247dd7ad8a8782bd3c352e484ba"
  },
  "kernelspec": {
   "display_name": "Python 3.10.3 64-bit ('SpaceDES')",
   "language": "python",
   "name": "python3"
  },
  "language_info": {
   "codemirror_mode": {
    "name": "ipython",
    "version": 3
   },
   "file_extension": ".py",
   "mimetype": "text/x-python",
   "name": "python",
   "nbconvert_exporter": "python",
   "pygments_lexer": "ipython3",
   "version": "3.10.3"
  },
  "orig_nbformat": 4
 },
 "nbformat": 4,
 "nbformat_minor": 2
}
