{
 "cells": [
  {
   "cell_type": "markdown",
   "metadata": {},
   "source": [
    "# SpaceMissionDES Demonstration\n",
    "#### CSE 6730, Spring 2022, Project Group #25\n",
    "Authors:\n",
    "- Benjamin Merrel\n",
    "- David Gomez\n",
    "- Edmund Chen"
   ]
  },
  {
   "cell_type": "markdown",
   "metadata": {},
   "source": [
    "#### Load Dependencies"
   ]
  },
  {
   "cell_type": "code",
   "execution_count": 1,
   "metadata": {},
   "outputs": [],
   "source": [
    "# Standard Library\n",
    "import logging\n",
    "import asyncio\n",
    "# Dependencies\n",
    "from scipy.stats import *\n",
    "# SpaceMissionDES\n",
    "from objects.events import *\n",
    "from objects.activities import *\n",
    "from objects.vehicles import Vehicle\n",
    "from objects.predicates import Predicate, vehicle_in_activity\n",
    "from drivers.simulator import Simulator\n",
    "from utilities.logging import set_logging_level"
   ]
  },
  {
   "cell_type": "markdown",
   "metadata": {},
   "source": []
  },
  {
   "cell_type": "markdown",
   "metadata": {},
   "source": [
    "## Motivation\n",
    "\n",
    "Space missions are often expressed as a complicated sequence of events.  We call this a *concept of operations* or a **ConOps**.\n",
    "\n",
    "\n",
    "<img src=\"./media/apollo_flightdiagram.jpg\">"
   ]
  },
  {
   "cell_type": "markdown",
   "metadata": {},
   "source": [
    "Stuff about how space missions are getting more complicated and now involed far more interacting entities."
   ]
  },
  {
   "cell_type": "markdown",
   "metadata": {},
   "source": [
    "Something about how discrete event simulation is a natural fit -- maybe tie back to Grant Cate's early justifications?"
   ]
  },
  {
   "cell_type": "markdown",
   "metadata": {},
   "source": [
    "## Problem Definition"
   ]
  },
  {
   "cell_type": "markdown",
   "metadata": {},
   "source": [
    "- Choosing between a large number of alternative ConOps\n",
    "- Figuring out which decisions or parts of a mission matter the most\n",
    "- Evaluating a mission in terms of probability of success, but also caring about schedule\n",
    "- Complicated range of potential states, and its just natural to use a DES"
   ]
  },
  {
   "cell_type": "markdown",
   "metadata": {},
   "source": [
    "Introduce the case of a Mars mission with on-orbit aggregation\n",
    "- Note that the number of tanker flights is a deign parameter. \n",
    "- Trading the number of flights and the capability of each tanker is tied to cost, schedule, and reliability.\n",
    "- We can address two of those with Discrete event simulation"
   ]
  },
  {
   "cell_type": "markdown",
   "metadata": {},
   "source": [
    "## Approach"
   ]
  },
  {
   "cell_type": "markdown",
   "metadata": {},
   "source": [
    "### Discrete Event Simulation\n",
    "We decided to build a process-oriented discrete event simulation.\n",
    "- The mental model of a string of interdependent processes and events that connect them maps well to space mission.\n",
    "- Many space missions effectively assume discrete time steps by treating the dynamic events (i.e. big burns) as instantaneous and book-ended by quiescent transfers.\n",
    "    - Discrete Time and Discrete state\n",
    "    - Limited number of types of processes and events lends itself to DES building blocks"
   ]
  },
  {
   "cell_type": "markdown",
   "metadata": {},
   "source": [
    "### General DES Overview\n",
    "Reminder of how a discrete event simulation works"
   ]
  },
  {
   "cell_type": "markdown",
   "metadata": {},
   "source": [
    "### Tailoring DES for Space Missions\n",
    "Events, Activities, Vehicles, and Predicates"
   ]
  },
  {
   "cell_type": "markdown",
   "metadata": {},
   "source": [
    "### Case Study: Mars Transfer Vehicle with On-Orbit Aggregation\n",
    "\n",
    "Why"
   ]
  },
  {
   "cell_type": "markdown",
   "metadata": {},
   "source": [
    "<img src=\"./media/Tanker-Flow-Diagram.png\">"
   ]
  },
  {
   "cell_type": "markdown",
   "metadata": {},
   "source": [
    "### DES Implementation"
   ]
  },
  {
   "cell_type": "markdown",
   "metadata": {},
   "source": [
    "Top Level Parameters"
   ]
  },
  {
   "cell_type": "code",
   "execution_count": 2,
   "metadata": {},
   "outputs": [],
   "source": [
    "# Probabilistic Inputs\n",
    "pra = {\n",
    "    \"scrub\": 1/4,\n",
    "    \"ascent\": 1/100,\n",
    "    \"RPO\": 1/500,\n",
    "    \"mps_burn\": 1/200,\n",
    "    \"dock\": 1/200,\n",
    "    \"checkout\": 1/1000\n",
    "}\n",
    "\n",
    "# Fleet Management and Requirements\n",
    "N_tankers_available =  1\n",
    "N_transfers_required = 6\n",
    "\n",
    "initial_vehicles = []"
   ]
  },
  {
   "cell_type": "markdown",
   "metadata": {},
   "source": [
    "#### MTV ConOps Definition"
   ]
  },
  {
   "cell_type": "code",
   "execution_count": 3,
   "metadata": {},
   "outputs": [],
   "source": [
    "# MTV - Mars Transfer Vehicle\n",
    "\n",
    "# Events\n",
    "INIT = Event(\"INIT\")\n",
    "launch = Event(\"launch\")\n",
    "burnout = Event(\"burnout\")\n",
    "capture = Event(\"capture\")\n",
    "filled = Event(\"filled\")\n",
    "tmi_burn = Event(\"tmi_burn\")\n",
    "moi_burn = Event(\"moi_burn\")\n",
    "ARRIVE = Completor(\"ARRIVE\")\n",
    "DONE = Completor(\"DON\")\n",
    "\n",
    "scrub = Event(\"scrub\")\n",
    "\n",
    "# Predicates\n",
    "def check_transers(p, sim):\n",
    "    # Check on the tanker\n",
    "    tanker = sim.entities[\"Tanker\"]\n",
    "    if tanker.state[\"transfers\"] < N_transfers_required:\n",
    "        return False\n",
    "    else:\n",
    "        logging.info(f\"Predictate <{p.predicate.name}> Satisfied\")\n",
    "        return True\n",
    "\n",
    "until_N_transfers = Predicate(f\"Wait until {N_transfers_required} propellant transfers are completed\", check_transers)\n",
    "\n",
    "# ConOps\n",
    "conops_MTV = ConOps({\n",
    "\n",
    "    # Nominal\n",
    "    INIT.name:     Activity(\"Countdown\", INIT, launch, duration=3, p_fail=pra[\"scrub\"], failure=scrub),\n",
    "    launch.name:   Activity(\"Ascent\", launch, burnout, duration=1, p_fail=pra[\"ascent\"]),\n",
    "    burnout.name:  Activity(\"Orbit Insertion\", burnout, capture, duration=2, p_fail=pra[\"mps_burn\"]),\n",
    "    # capture.name:  Activity(\"Propellant Aggregation\", capture, filled, duration = 100),\n",
    "    capture.name:  PredicatedActivity(\"Propellant Aggregation\", capture, filled, predicate=until_N_transfers),\n",
    "    filled.name:   Activity(\"Final Checkout\", filled, tmi_burn, duration=2, delay=weibull_min(c=0.5, loc=0, scale=0.1), p_fail=pra[\"checkout\"]),  #TODO: add check to see if clock is < critical value\n",
    "    tmi_burn.name: Activity(\"Begin Mars Transit\", tmi_burn, DONE, duration=0, p_fail=pra[\"mps_burn\"]),\n",
    "    # Contigencies\n",
    "    scrub.name: Activity(\"Recycle\", scrub, INIT, duration=0, delay=weibull_min(c=1, loc=0, scale=4)),\n",
    "})\n",
    "\n",
    "initial_vehicles += [\n",
    "    (0.0, Vehicle(\"MTV\", conops_MTV))\n",
    "]"
   ]
  },
  {
   "cell_type": "markdown",
   "metadata": {},
   "source": [
    "#### Tanker ConOps Definition"
   ]
  },
  {
   "cell_type": "code",
   "execution_count": 4,
   "metadata": {},
   "outputs": [],
   "source": [
    "# -----------------------------------------------------------------------------------------------------------------\n",
    "# Tanker\n",
    "\n",
    "# Events\n",
    "begin = Event(\"begin\")\n",
    "approach = Event(\"approach\")\n",
    "dock = Event(\"dock\")\n",
    "undock = Event(\"undock\")\n",
    "land = Event(\"land\")\n",
    "\n",
    "spare = Event(\"spare\")\n",
    "no_more_spares = Event(\"no_more_spares\")\n",
    "\n",
    "# Predicates\n",
    "after_MTV_deploy = Predicate(\"Wait for MTV\", vehicle_in_activity(vehicle=\"MTV\", activity=\"Propellant Aggregation\"))\n",
    "\n",
    "# Branching Events\n",
    "def limit_spares(sim, vehicle):          # branching logic functions always take (sim, vehicle)\n",
    "    if vehicle.state[\"fleet\"] > 0:\n",
    "        return begin\n",
    "    else:\n",
    "        return no_more_spares\n",
    "\n",
    "limit_tanker_spares = Branch(f\"Limit to {N_tankers_available-1} Spares\", logic=limit_spares)\n",
    "\n",
    "\n",
    "def count_transfers(sim, vehicle):          # branching logic functions always take (sim, vehicle)\n",
    "    if vehicle.state[\"transfers\"] < N_transfers_required:\n",
    "        return begin\n",
    "    else:\n",
    "        return land\n",
    "\n",
    "until_n_tankers = Branch(f\"Until {N_transfers_required} Transfers\", logic=count_transfers)\n",
    "\n",
    "# ConOps\n",
    "conops_Tanker = ConOps({\n",
    "\n",
    "    # Nominal\n",
    "    INIT.name:     PredicatedActivity(\"Wait for MTV Deploy\", INIT, limit_tanker_spares, predicate=after_MTV_deploy),\n",
    "\n",
    "    begin.name:    Activity(\"Countdown\", begin, launch, duration=0, p_fail=pra[\"scrub\"], failure=scrub),\n",
    "    launch.name:   Activity(\"Ascent\", launch, burnout, duration=1, p_fail=pra[\"ascent\"], failure=spare, update={'flights': 1}),\n",
    "    burnout.name:  Activity(\"Orbit Insertion\", burnout, capture, duration=2, p_fail=pra[\"mps_burn\"], failure=spare),\n",
    "    capture.name:  Activity(\"Redezvous\", capture, approach, duration = 1, p_fail=pra[\"RPO\"]),\n",
    "    approach.name: Activity(\"RPOD\", approach, dock, duration = 1, p_fail=pra[\"dock\"]),\n",
    "    dock.name:     Activity(\"Prop Transfer\", dock, undock, duration=0.5, update={'transfers': 1}),  # TODO: add delay\n",
    "    undock.name:   Activity(\"Return to Base\", undock, until_n_tankers, duration = 1, p_fail=pra[\"dock\"]), # TODO: add restart conditions\n",
    "    land.name:     Activity(\"End Tanker Mission\", land, DONE, duration=0),\n",
    "\n",
    "    # Contigencies\n",
    "    scrub.name:    Activity(\"Recycle\", scrub, INIT, duration=0, delay=weibull_min(c=1, loc=0, scale=4)),\n",
    "    spare.name:    Activity(\"Prepare Spare\", spare, INIT, duration=10, delay=weibull_min(c=0.8, loc=0, scale=5), update={'fleet': -1}),\n",
    "    no_more_spares.name: Activity(\"Out of Spare Tankers\", no_more_spares, Failure(), duration=0)\n",
    "})\n",
    "\n",
    "initial_vehicles += [\n",
    "    (0.0, Vehicle(\"Tanker\", conops_Tanker, state={'flights':0, 'transfers':0, 'failures':0, 'fleet': N_tankers_available}))\n",
    "]"
   ]
  },
  {
   "cell_type": "code",
   "execution_count": null,
   "metadata": {},
   "outputs": [],
   "source": []
  },
  {
   "cell_type": "markdown",
   "metadata": {},
   "source": [
    "#### Mission Demonstration"
   ]
  },
  {
   "cell_type": "code",
   "execution_count": 5,
   "metadata": {},
   "outputs": [
    {
     "name": "stdout",
     "output_type": "stream",
     "text": [
      "\n",
      "\tEVENT:  INIT  @ time 0.00\n",
      "\t  VEHICLE MTV > Begin ACTIVITY:  Countdown\n",
      "\n",
      "\tEVENT:  INIT  @ time 0.00\n",
      "\t  VEHICLE Tanker > Begin ACTIVITY:  Wait for MTV Deploy\n",
      "\n",
      "\tEVENT:  launch  @ time 3.00\n",
      "\t  VEHICLE MTV > Begin ACTIVITY:  Ascent\n",
      "\n",
      "\tEVENT:  burnout  @ time 4.00\n",
      "\t  VEHICLE MTV > Begin ACTIVITY:  Orbit Insertion\n",
      "\n",
      "\tEVENT:  capture  @ time 6.00\n",
      "\t  VEHICLE MTV > Begin ACTIVITY:  Propellant Aggregation\n",
      "Predictate <Wait for MTV> Satisfied\n",
      "\n",
      "\tEVENT:  begin  @ time 6.00\n",
      "\t  VEHICLE Tanker > Begin ACTIVITY:  Countdown\n",
      "WARNING>\t  FAIL -- VEHICLE Tanker failed ACTIVITY:  Countdown\n",
      "\n",
      "\tEVENT:  scrub  @ time 6.00\n",
      "\t  VEHICLE Tanker > Begin ACTIVITY:  Recycle\n",
      "\n",
      "\tEVENT:  INIT  @ time 7.38\n",
      "\t  VEHICLE Tanker > Begin ACTIVITY:  Wait for MTV Deploy\n",
      "Predictate <Wait for MTV> Satisfied\n",
      "\n",
      "\tEVENT:  begin  @ time 7.38\n",
      "\t  VEHICLE Tanker > Begin ACTIVITY:  Countdown\n",
      "\n",
      "\tEVENT:  launch  @ time 7.38\n",
      "\t  VEHICLE Tanker > Begin ACTIVITY:  Ascent\n",
      "\n",
      "\tEVENT:  burnout  @ time 8.38\n",
      "\t  VEHICLE Tanker > Begin ACTIVITY:  Orbit Insertion\n",
      "\n",
      "\tEVENT:  capture  @ time 10.38\n",
      "\t  VEHICLE Tanker > Begin ACTIVITY:  Redezvous\n",
      "\n",
      "\tEVENT:  approach  @ time 11.38\n",
      "\t  VEHICLE Tanker > Begin ACTIVITY:  RPOD\n",
      "\n",
      "\tEVENT:  dock  @ time 12.38\n",
      "\t  VEHICLE Tanker > Begin ACTIVITY:  Prop Transfer\n",
      "\n",
      "\tEVENT:  undock  @ time 12.88\n",
      "\t  VEHICLE Tanker > Begin ACTIVITY:  Return to Base\n",
      "\n",
      "\tEVENT:  begin  @ time 13.88\n",
      "\t  VEHICLE Tanker > Begin ACTIVITY:  Countdown\n",
      "\n",
      "\tEVENT:  launch  @ time 13.88\n",
      "\t  VEHICLE Tanker > Begin ACTIVITY:  Ascent\n",
      "\n",
      "\tEVENT:  burnout  @ time 14.88\n",
      "\t  VEHICLE Tanker > Begin ACTIVITY:  Orbit Insertion\n",
      "\n",
      "\tEVENT:  capture  @ time 16.88\n",
      "\t  VEHICLE Tanker > Begin ACTIVITY:  Redezvous\n",
      "\n",
      "\tEVENT:  approach  @ time 17.88\n",
      "\t  VEHICLE Tanker > Begin ACTIVITY:  RPOD\n",
      "\n",
      "\tEVENT:  dock  @ time 18.88\n",
      "\t  VEHICLE Tanker > Begin ACTIVITY:  Prop Transfer\n",
      "\n",
      "\tEVENT:  undock  @ time 19.38\n",
      "\t  VEHICLE Tanker > Begin ACTIVITY:  Return to Base\n",
      "\n",
      "\tEVENT:  begin  @ time 20.38\n",
      "\t  VEHICLE Tanker > Begin ACTIVITY:  Countdown\n",
      "\n",
      "\tEVENT:  launch  @ time 20.38\n",
      "\t  VEHICLE Tanker > Begin ACTIVITY:  Ascent\n",
      "\n",
      "\tEVENT:  burnout  @ time 21.38\n",
      "\t  VEHICLE Tanker > Begin ACTIVITY:  Orbit Insertion\n",
      "\n",
      "\tEVENT:  capture  @ time 23.38\n",
      "\t  VEHICLE Tanker > Begin ACTIVITY:  Redezvous\n",
      "\n",
      "\tEVENT:  approach  @ time 24.38\n",
      "\t  VEHICLE Tanker > Begin ACTIVITY:  RPOD\n",
      "\n",
      "\tEVENT:  dock  @ time 25.38\n",
      "\t  VEHICLE Tanker > Begin ACTIVITY:  Prop Transfer\n",
      "\n",
      "\tEVENT:  undock  @ time 25.88\n",
      "\t  VEHICLE Tanker > Begin ACTIVITY:  Return to Base\n",
      "\n",
      "\tEVENT:  begin  @ time 26.88\n",
      "\t  VEHICLE Tanker > Begin ACTIVITY:  Countdown\n",
      "WARNING>\t  FAIL -- VEHICLE Tanker failed ACTIVITY:  Countdown\n",
      "\n",
      "\tEVENT:  scrub  @ time 26.88\n",
      "\t  VEHICLE Tanker > Begin ACTIVITY:  Recycle\n",
      "\n",
      "\tEVENT:  INIT  @ time 36.74\n",
      "\t  VEHICLE Tanker > Begin ACTIVITY:  Wait for MTV Deploy\n",
      "Predictate <Wait for MTV> Satisfied\n",
      "\n",
      "\tEVENT:  begin  @ time 36.74\n",
      "\t  VEHICLE Tanker > Begin ACTIVITY:  Countdown\n",
      "\n",
      "\tEVENT:  launch  @ time 36.74\n",
      "\t  VEHICLE Tanker > Begin ACTIVITY:  Ascent\n",
      "\n",
      "\tEVENT:  burnout  @ time 37.74\n",
      "\t  VEHICLE Tanker > Begin ACTIVITY:  Orbit Insertion\n",
      "\n",
      "\tEVENT:  capture  @ time 39.74\n",
      "\t  VEHICLE Tanker > Begin ACTIVITY:  Redezvous\n",
      "\n",
      "\tEVENT:  approach  @ time 40.74\n",
      "\t  VEHICLE Tanker > Begin ACTIVITY:  RPOD\n",
      "\n",
      "\tEVENT:  dock  @ time 41.74\n",
      "\t  VEHICLE Tanker > Begin ACTIVITY:  Prop Transfer\n",
      "\n",
      "\tEVENT:  undock  @ time 42.24\n",
      "\t  VEHICLE Tanker > Begin ACTIVITY:  Return to Base\n",
      "\n",
      "\tEVENT:  begin  @ time 43.24\n",
      "\t  VEHICLE Tanker > Begin ACTIVITY:  Countdown\n",
      "\n",
      "\tEVENT:  launch  @ time 43.24\n",
      "\t  VEHICLE Tanker > Begin ACTIVITY:  Ascent\n",
      "\n",
      "\tEVENT:  burnout  @ time 44.24\n",
      "\t  VEHICLE Tanker > Begin ACTIVITY:  Orbit Insertion\n",
      "\n",
      "\tEVENT:  capture  @ time 46.24\n",
      "\t  VEHICLE Tanker > Begin ACTIVITY:  Redezvous\n",
      "\n",
      "\tEVENT:  approach  @ time 47.24\n",
      "\t  VEHICLE Tanker > Begin ACTIVITY:  RPOD\n",
      "\n",
      "\tEVENT:  dock  @ time 48.24\n",
      "\t  VEHICLE Tanker > Begin ACTIVITY:  Prop Transfer\n",
      "\n",
      "\tEVENT:  undock  @ time 48.74\n",
      "\t  VEHICLE Tanker > Begin ACTIVITY:  Return to Base\n",
      "\n",
      "\tEVENT:  begin  @ time 49.74\n",
      "\t  VEHICLE Tanker > Begin ACTIVITY:  Countdown\n",
      "WARNING>\t  FAIL -- VEHICLE Tanker failed ACTIVITY:  Countdown\n",
      "\n",
      "\tEVENT:  scrub  @ time 49.74\n",
      "\t  VEHICLE Tanker > Begin ACTIVITY:  Recycle\n",
      "\n",
      "\tEVENT:  INIT  @ time 53.56\n",
      "\t  VEHICLE Tanker > Begin ACTIVITY:  Wait for MTV Deploy\n",
      "Predictate <Wait for MTV> Satisfied\n",
      "\n",
      "\tEVENT:  begin  @ time 53.56\n",
      "\t  VEHICLE Tanker > Begin ACTIVITY:  Countdown\n",
      "\n",
      "\tEVENT:  launch  @ time 53.56\n",
      "\t  VEHICLE Tanker > Begin ACTIVITY:  Ascent\n",
      "\n",
      "\tEVENT:  burnout  @ time 54.56\n",
      "\t  VEHICLE Tanker > Begin ACTIVITY:  Orbit Insertion\n",
      "\n",
      "\tEVENT:  capture  @ time 56.56\n",
      "\t  VEHICLE Tanker > Begin ACTIVITY:  Redezvous\n",
      "\n",
      "\tEVENT:  approach  @ time 57.56\n",
      "\t  VEHICLE Tanker > Begin ACTIVITY:  RPOD\n",
      "\n",
      "\tEVENT:  dock  @ time 58.56\n",
      "\t  VEHICLE Tanker > Begin ACTIVITY:  Prop Transfer\n",
      "\n",
      "\tEVENT:  undock  @ time 59.06\n",
      "\t  VEHICLE Tanker > Begin ACTIVITY:  Return to Base\n",
      "Predictate <Wait until 6 propellant transfers are completed> Satisfied\n",
      "\n",
      "\tEVENT:  filled  @ time 59.06\n",
      "\t  VEHICLE MTV > Begin ACTIVITY:  Final Checkout\n",
      "\n",
      "\tEVENT:  land  @ time 60.06\n",
      "\t  VEHICLE Tanker > Begin ACTIVITY:  End Tanker Mission\n",
      "\tTERMINAL EVENT @ time 60.06180703281874\n",
      "\n",
      "\tEVENT:  tmi_burn  @ time 61.20\n",
      "\t  VEHICLE MTV > Begin ACTIVITY:  Begin Mars Transit\n",
      "\tTERMINAL EVENT @ time 61.19687943343449\n",
      "\n",
      "COMPLETE\n",
      "\n"
     ]
    }
   ],
   "source": [
    "set_logging_level(logging.INFO)\n",
    "\n",
    "sim = Simulator()\n",
    "\n",
    "try:\n",
    "    await sim.run(initial_vehicles)\n",
    "except asyncio.CancelledError:\n",
    "    logging.warning(\"CONOPS FAILED\")"
   ]
  },
  {
   "cell_type": "code",
   "execution_count": null,
   "metadata": {},
   "outputs": [],
   "source": []
  },
  {
   "cell_type": "markdown",
   "metadata": {},
   "source": [
    "### Gaining Insight via Monte Carlo Studies"
   ]
  },
  {
   "cell_type": "markdown",
   "metadata": {},
   "source": [
    "Something about how the real value comes from running a monte carlo\n",
    "\n",
    "Mention that in our case, we found that running muliple replicationsin parallel was sufficient -- no need for additional sophistication."
   ]
  },
  {
   "cell_type": "markdown",
   "metadata": {},
   "source": [
    "Make a little graphic to show the monte carlo flow"
   ]
  },
  {
   "cell_type": "markdown",
   "metadata": {},
   "source": [
    "#### Convergence Study"
   ]
  },
  {
   "cell_type": "markdown",
   "metadata": {},
   "source": [
    "*How many replicants do we need?*\n",
    "\n",
    "<img src=\"./media/Convergence_Case04-r05__Tx02-Tk10.svg\">"
   ]
  },
  {
   "cell_type": "code",
   "execution_count": null,
   "metadata": {},
   "outputs": [],
   "source": []
  },
  {
   "cell_type": "code",
   "execution_count": null,
   "metadata": {},
   "outputs": [],
   "source": []
  },
  {
   "cell_type": "code",
   "execution_count": null,
   "metadata": {},
   "outputs": [],
   "source": []
  },
  {
   "cell_type": "code",
   "execution_count": null,
   "metadata": {},
   "outputs": [],
   "source": []
  }
 ],
 "metadata": {
  "interpreter": {
   "hash": "c0d584d2a29dccce9f0ca87671acea225be4f5a93d19dd18a0936eea46ef1c14"
  },
  "kernelspec": {
   "display_name": "SpaceMissionDES",
   "language": "python",
   "name": "python3"
  },
  "language_info": {
   "codemirror_mode": {
    "name": "ipython",
    "version": 3
   },
   "file_extension": ".py",
   "mimetype": "text/x-python",
   "name": "python",
   "nbconvert_exporter": "python",
   "pygments_lexer": "ipython3",
   "version": "3.10.3"
  }
 },
 "nbformat": 4,
 "nbformat_minor": 2
}
