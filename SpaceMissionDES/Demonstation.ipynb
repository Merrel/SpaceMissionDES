{
 "cells": [
  {
   "cell_type": "markdown",
   "metadata": {},
   "source": [
    "# SpaceMissionDES Demonstration\n",
    "#### CSE 6730, Spring 2022, Project Group #35\n",
    "Authors:\n",
    "- Benjamin Merrel\n",
    "- David Gomez\n",
    "- Edmund Chen"
   ]
  },
  {
   "cell_type": "markdown",
   "metadata": {},
   "source": [
    "#### Load Dependencies"
   ]
  },
  {
   "cell_type": "code",
   "execution_count": 1,
   "metadata": {},
   "outputs": [],
   "source": [
    "# Standard Library\n",
    "import logging\n",
    "import asyncio\n",
    "from pathlib import Path\n",
    "# Dependencies\n",
    "from scipy.stats import *\n",
    "import pandas as pd\n",
    "import altair as alt\n",
    "alt.data_transformers.enable('data_server')\n",
    "# SpaceMissionDES\n",
    "from objects.events import *\n",
    "from objects.activities import *\n",
    "from objects.vehicles import Vehicle\n",
    "from objects.predicates import Predicate, vehicle_in_activity\n",
    "from drivers.simulator import Simulator\n",
    "from utilities.logging import set_logging_level"
   ]
  },
  {
   "cell_type": "markdown",
   "metadata": {},
   "source": []
  },
  {
   "cell_type": "markdown",
   "metadata": {},
   "source": [
    "## Motivation\n",
    "\n",
    "Space missions are often expressed as a complicated sequence of events.  We call this a *concept of operations* or a **ConOps**.\n",
    "\n",
    "\n",
    "<img src=\"./media/apollo_flightdiagram.jpg\">"
   ]
  },
  {
   "cell_type": "markdown",
   "metadata": {},
   "source": [
    "Under the current exploration effort, the Artemis Program, there are numerous ConOps under consideration. To select between the available options, we need simulations to study characteristics such as **reliability** and **duration**.\n",
    "\n",
    "Consider the comparison between the Apollo ConOps (left) and the more complicated Artemis ConOps (right).\n",
    "\n",
    "<img src=\"./media/Compare ConOps.png\">"
   ]
  },
  {
   "cell_type": "markdown",
   "metadata": {},
   "source": [
    "## Problem Definition"
   ]
  },
  {
   "cell_type": "markdown",
   "metadata": {},
   "source": [
    "#### Objective\n",
    "Consider a variety of alternative ConOps and compare them on the basis of **reliability** and **mission duration**."
   ]
  },
  {
   "cell_type": "markdown",
   "metadata": {},
   "source": [
    "#### Features To Consider\n",
    "- Activities with variable duration\n",
    "- Activities which can fail\n",
    "- Branching paths in which activities change based on some conditions\n",
    "- Predicated Activities -- i.e. launch one vehicle before another a can star"
   ]
  },
  {
   "cell_type": "markdown",
   "metadata": {},
   "source": [
    "#### Desired Insight from Simulation\n",
    "- Choosing between a large number of alternative ConOps\n",
    "- Figuring out which decisions or parts of a mission matter the most\n",
    "- Evaluating a mission in terms of probability of success, but also caring about schedule\n",
    "- Complicated range of potential states, and its just natural to use a DES"
   ]
  },
  {
   "cell_type": "markdown",
   "metadata": {},
   "source": [
    "#### Mission of Interest\n",
    "\n",
    "<img src=\"./media/Starship to Mars.svg\" width=\"800\">"
   ]
  },
  {
   "cell_type": "markdown",
   "metadata": {},
   "source": [
    "Introduce the case of a Mars mission with on-orbit aggregation\n",
    "- Note that the number of tanker flights is a deign parameter. \n",
    "- Trading the number of flights and the capability of each tanker is tied to cost, schedule, and reliability.\n",
    "- We can address two of those with Discrete event simulation"
   ]
  },
  {
   "cell_type": "markdown",
   "metadata": {},
   "source": [
    "## Approach"
   ]
  },
  {
   "cell_type": "markdown",
   "metadata": {},
   "source": [
    "### Discrete Event Simulation\n",
    "We decided to build a process-oriented discrete event simulation.\n",
    "- The mental model of a string of interdependent processes and events that connect them maps well to space mission.\n",
    "- Many space missions effectively assume discrete time steps by treating the dynamic events (i.e. big burns) as instantaneous and book-ended by quiescent transfers.\n",
    "    - Discrete Time and Discrete state\n",
    "    - Limited number of types of processes and events lends itself to DES building blocks"
   ]
  },
  {
   "cell_type": "markdown",
   "metadata": {},
   "source": [
    "### Tailoring DES for Space Missions\n",
    "Events, Activities, Vehicles, and Predicates"
   ]
  },
  {
   "cell_type": "markdown",
   "metadata": {},
   "source": [
    "**Simulator Functional Diagram**\n",
    "\n",
    "<img src=\"./media/functional-diagram.png\">"
   ]
  },
  {
   "cell_type": "markdown",
   "metadata": {},
   "source": [
    "### Case Study: Mars Transfer Vehicle with On-Orbit Aggregation"
   ]
  },
  {
   "cell_type": "markdown",
   "metadata": {},
   "source": [
    "<img src=\"./media/Tanker-Flow-Diagram.png\">"
   ]
  },
  {
   "cell_type": "markdown",
   "metadata": {},
   "source": [
    "### DES Implementation"
   ]
  },
  {
   "cell_type": "markdown",
   "metadata": {},
   "source": [
    "Top Level Parameters"
   ]
  },
  {
   "cell_type": "code",
   "execution_count": 2,
   "metadata": {},
   "outputs": [],
   "source": [
    "# Probabilistic Inputs\n",
    "pra = {\n",
    "    \"scrub\": 1/4,\n",
    "    \"ascent\": 1/100,\n",
    "    \"RPO\": 1/500,\n",
    "    \"mps_burn\": 1/200,\n",
    "    \"dock\": 1/200,\n",
    "    \"checkout\": 1/1000\n",
    "}\n",
    "\n",
    "# Fleet Management and Requirements\n",
    "N_tankers_available =  1\n",
    "N_transfers_required = 6\n",
    "\n",
    "initial_vehicles = []"
   ]
  },
  {
   "cell_type": "markdown",
   "metadata": {},
   "source": [
    "#### MTV ConOps Definition"
   ]
  },
  {
   "cell_type": "code",
   "execution_count": 3,
   "metadata": {},
   "outputs": [],
   "source": [
    "# MTV - Mars Transfer Vehicle\n",
    "\n",
    "# Events\n",
    "INIT = Event(\"INIT\")\n",
    "launch = Event(\"launch\")\n",
    "burnout = Event(\"burnout\")\n",
    "capture = Event(\"capture\")\n",
    "filled = Event(\"filled\")\n",
    "tmi_burn = Event(\"tmi_burn\")\n",
    "moi_burn = Event(\"moi_burn\")\n",
    "ARRIVE = Completor(\"ARRIVE\")\n",
    "DONE = Completor(\"DON\")\n",
    "\n",
    "scrub = Event(\"scrub\")\n",
    "\n",
    "# Predicates\n",
    "def check_transers(p, sim):\n",
    "    # Check on the tanker\n",
    "    tanker = sim.entities[\"Tanker\"]\n",
    "    if tanker.state[\"transfers\"] < N_transfers_required:\n",
    "        return False\n",
    "    else:\n",
    "        logging.info(f\"Predictate <{p.predicate.name}> Satisfied\")\n",
    "        return True\n",
    "\n",
    "until_N_transfers = Predicate(f\"Wait until {N_transfers_required} propellant transfers are completed\", check_transers)\n",
    "\n",
    "# ConOps\n",
    "conops_MTV = ConOps({\n",
    "\n",
    "    # Nominal\n",
    "    INIT.name:     Activity(\"Countdown\", INIT, launch, duration=3, p_fail=pra[\"scrub\"], failure=scrub),\n",
    "    launch.name:   Activity(\"Ascent\", launch, burnout, duration=1, p_fail=pra[\"ascent\"]),\n",
    "    burnout.name:  Activity(\"Orbit Insertion\", burnout, capture, duration=2, p_fail=pra[\"mps_burn\"]),\n",
    "    # capture.name:  Activity(\"Propellant Aggregation\", capture, filled, duration = 100),\n",
    "    capture.name:  PredicatedActivity(\"Propellant Aggregation\", capture, filled, predicate=until_N_transfers),\n",
    "    filled.name:   Activity(\"Final Checkout\", filled, tmi_burn, duration=2, delay=weibull_min(c=0.5, loc=0, scale=0.1), p_fail=pra[\"checkout\"]),  #TODO: add check to see if clock is < critical value\n",
    "    tmi_burn.name: Activity(\"Begin Mars Transit\", tmi_burn, DONE, duration=0, p_fail=pra[\"mps_burn\"]),\n",
    "    # Contigencies\n",
    "    scrub.name: Activity(\"Recycle\", scrub, INIT, duration=0, delay=weibull_min(c=1, loc=0, scale=4)),\n",
    "})\n",
    "\n",
    "initial_vehicles += [\n",
    "    (0.0, Vehicle(\"MTV\", conops_MTV))\n",
    "]"
   ]
  },
  {
   "cell_type": "markdown",
   "metadata": {},
   "source": [
    "#### Tanker ConOps Definition"
   ]
  },
  {
   "cell_type": "markdown",
   "metadata": {},
   "source": [
    "Define Events (transitions)"
   ]
  },
  {
   "cell_type": "code",
   "execution_count": 4,
   "metadata": {},
   "outputs": [],
   "source": [
    "# Events\n",
    "begin    = Event(\"begin\")\n",
    "approach = Event(\"approach\")\n",
    "dock     = Event(\"dock\")\n",
    "undock   = Event(\"undock\")\n",
    "land     = Event(\"land\")\n",
    "\n",
    "# Contingency Events\n",
    "spare = Event(\"spare\")\n",
    "no_more_spares = Event(\"no_more_spares\")"
   ]
  },
  {
   "cell_type": "markdown",
   "metadata": {},
   "source": [
    "Define Predicates and Branching Events"
   ]
  },
  {
   "cell_type": "code",
   "execution_count": 5,
   "metadata": {},
   "outputs": [],
   "source": [
    "# Predicates\n",
    "after_MTV_deploy = Predicate(\"Wait for MTV\", vehicle_in_activity(vehicle=\"MTV\", activity=\"Propellant Aggregation\"))\n",
    "\n",
    "# Branching Events\n",
    "def limit_spares(sim, vehicle):          # branching logic functions always take (sim, vehicle)\n",
    "    if vehicle.state[\"fleet\"] > 0:\n",
    "        return begin\n",
    "    else:\n",
    "        return no_more_spares\n",
    "\n",
    "limit_tanker_spares = Branch(f\"Limit to {N_tankers_available-1} Spares\", logic=limit_spares)\n",
    "\n",
    "\n",
    "def count_transfers(sim, vehicle):          # branching logic functions always take (sim, vehicle)\n",
    "    if vehicle.state[\"transfers\"] < N_transfers_required:\n",
    "        return begin\n",
    "    else:\n",
    "        return land\n",
    "\n",
    "until_n_tankers = Branch(f\"Until {N_transfers_required} Transfers\", logic=count_transfers)"
   ]
  },
  {
   "cell_type": "markdown",
   "metadata": {},
   "source": [
    "Assemble the ConOps and Instantiate the Vehicles"
   ]
  },
  {
   "cell_type": "code",
   "execution_count": 6,
   "metadata": {},
   "outputs": [],
   "source": [
    "# ConOps\n",
    "conops_Tanker = ConOps({\n",
    "\n",
    "    # Nominal\n",
    "    INIT.name:     PredicatedActivity(\"Wait for MTV Deploy\", INIT, limit_tanker_spares, predicate=after_MTV_deploy),\n",
    "\n",
    "    begin.name:    Activity(\"Countdown\",          begin,    launch,          duration = 0,   p_fail=pra[\"scrub\"],    failure=scrub),\n",
    "    launch.name:   Activity(\"Ascent\",             launch,   burnout,         duration = 1,   p_fail=pra[\"ascent\"],   failure=spare, update={'flights': 1}),\n",
    "    burnout.name:  Activity(\"Orbit Insertion\",    burnout,  capture,         duration = 2,   p_fail=pra[\"mps_burn\"], failure=spare),\n",
    "    capture.name:  Activity(\"Redezvous\",          capture,  approach,        duration = 1,   p_fail=pra[\"RPO\"]),\n",
    "    approach.name: Activity(\"RPOD\",               approach, dock,            duration = 1,   p_fail=pra[\"dock\"]),\n",
    "    dock.name:     Activity(\"Prop Transfer\",      dock,     undock,          duration = 0.5, update={'transfers': 1}),\n",
    "    undock.name:   Activity(\"Return to Base\",     undock,   until_n_tankers, duration = 1,   p_fail=pra[\"dock\"]),\n",
    "    land.name:     Activity(\"End Tanker Mission\", land,     DONE,            duration = 0),\n",
    "\n",
    "    # Contigencies\n",
    "    scrub.name:    Activity(\"Recycle\",            scrub,    INIT,            duration=0,     delay=weibull_min(c=1, loc=0, scale=4)),\n",
    "    spare.name:    Activity(\"Prepare Spare\",      spare,    INIT,            duration=10,    delay=weibull_min(c=0.8, loc=0, scale=5), update={'fleet': -1}),\n",
    "    \n",
    "    no_more_spares.name: Activity(\"Out of Spare Tankers\", no_more_spares, Failure(), duration=0)\n",
    "})\n",
    "\n",
    "initial_vehicles += [\n",
    "    (0.0, Vehicle(\"Tanker\", conops_Tanker, state={'flights':0, 'transfers':0, 'failures':0, 'fleet': N_tankers_available}))\n",
    "]"
   ]
  },
  {
   "cell_type": "markdown",
   "metadata": {},
   "source": [
    "#### Mission Demonstration"
   ]
  },
  {
   "cell_type": "code",
   "execution_count": 7,
   "metadata": {},
   "outputs": [
    {
     "name": "stdout",
     "output_type": "stream",
     "text": [
      "\n",
      "\tEVENT:  INIT  @ time 0.00\n",
      "\t  VEHICLE MTV > Begin ACTIVITY:  Countdown\n",
      "WARNING>\t  FAIL -- VEHICLE MTV failed ACTIVITY:  Countdown\n",
      "\n",
      "\tEVENT:  INIT  @ time 0.00\n",
      "\t  VEHICLE Tanker > Begin ACTIVITY:  Wait for MTV Deploy\n",
      "\n",
      "\tEVENT:  scrub  @ time 3.00\n",
      "\t  VEHICLE MTV > Begin ACTIVITY:  Recycle\n",
      "\n",
      "\tEVENT:  INIT  @ time 4.69\n",
      "\t  VEHICLE MTV > Begin ACTIVITY:  Countdown\n",
      "\n",
      "\tEVENT:  launch  @ time 7.69\n",
      "\t  VEHICLE MTV > Begin ACTIVITY:  Ascent\n",
      "\n",
      "\tEVENT:  burnout  @ time 8.69\n",
      "\t  VEHICLE MTV > Begin ACTIVITY:  Orbit Insertion\n",
      "\n",
      "\tEVENT:  capture  @ time 10.69\n",
      "\t  VEHICLE MTV > Begin ACTIVITY:  Propellant Aggregation\n",
      "Predictate <Wait for MTV> Satisfied\n",
      "\n",
      "\tEVENT:  begin  @ time 10.69\n",
      "\t  VEHICLE Tanker > Begin ACTIVITY:  Countdown\n",
      "\n",
      "\tEVENT:  launch  @ time 10.69\n",
      "\t  VEHICLE Tanker > Begin ACTIVITY:  Ascent\n",
      "\n",
      "\tEVENT:  burnout  @ time 11.69\n",
      "\t  VEHICLE Tanker > Begin ACTIVITY:  Orbit Insertion\n",
      "\n",
      "\tEVENT:  capture  @ time 13.69\n",
      "\t  VEHICLE Tanker > Begin ACTIVITY:  Redezvous\n",
      "\n",
      "\tEVENT:  approach  @ time 14.69\n",
      "\t  VEHICLE Tanker > Begin ACTIVITY:  RPOD\n",
      "\n",
      "\tEVENT:  dock  @ time 15.69\n",
      "\t  VEHICLE Tanker > Begin ACTIVITY:  Prop Transfer\n",
      "\n",
      "\tEVENT:  undock  @ time 16.19\n",
      "\t  VEHICLE Tanker > Begin ACTIVITY:  Return to Base\n",
      "\n",
      "\tEVENT:  begin  @ time 17.19\n",
      "\t  VEHICLE Tanker > Begin ACTIVITY:  Countdown\n",
      "\n",
      "\tEVENT:  launch  @ time 17.19\n",
      "\t  VEHICLE Tanker > Begin ACTIVITY:  Ascent\n",
      "\n",
      "\tEVENT:  burnout  @ time 18.19\n",
      "\t  VEHICLE Tanker > Begin ACTIVITY:  Orbit Insertion\n",
      "\n",
      "\tEVENT:  capture  @ time 20.19\n",
      "\t  VEHICLE Tanker > Begin ACTIVITY:  Redezvous\n",
      "\n",
      "\tEVENT:  approach  @ time 21.19\n",
      "\t  VEHICLE Tanker > Begin ACTIVITY:  RPOD\n",
      "\n",
      "\tEVENT:  dock  @ time 22.19\n",
      "\t  VEHICLE Tanker > Begin ACTIVITY:  Prop Transfer\n",
      "\n",
      "\tEVENT:  undock  @ time 22.69\n",
      "\t  VEHICLE Tanker > Begin ACTIVITY:  Return to Base\n",
      "\n",
      "\tEVENT:  begin  @ time 23.69\n",
      "\t  VEHICLE Tanker > Begin ACTIVITY:  Countdown\n",
      "\n",
      "\tEVENT:  launch  @ time 23.69\n",
      "\t  VEHICLE Tanker > Begin ACTIVITY:  Ascent\n",
      "\n",
      "\tEVENT:  burnout  @ time 24.69\n",
      "\t  VEHICLE Tanker > Begin ACTIVITY:  Orbit Insertion\n",
      "\n",
      "\tEVENT:  capture  @ time 26.69\n",
      "\t  VEHICLE Tanker > Begin ACTIVITY:  Redezvous\n",
      "\n",
      "\tEVENT:  approach  @ time 27.69\n",
      "\t  VEHICLE Tanker > Begin ACTIVITY:  RPOD\n",
      "\n",
      "\tEVENT:  dock  @ time 28.69\n",
      "\t  VEHICLE Tanker > Begin ACTIVITY:  Prop Transfer\n",
      "\n",
      "\tEVENT:  undock  @ time 29.19\n",
      "\t  VEHICLE Tanker > Begin ACTIVITY:  Return to Base\n",
      "\n",
      "\tEVENT:  begin  @ time 30.19\n",
      "\t  VEHICLE Tanker > Begin ACTIVITY:  Countdown\n",
      "\n",
      "\tEVENT:  launch  @ time 30.19\n",
      "\t  VEHICLE Tanker > Begin ACTIVITY:  Ascent\n",
      "\n",
      "\tEVENT:  burnout  @ time 31.19\n",
      "\t  VEHICLE Tanker > Begin ACTIVITY:  Orbit Insertion\n",
      "\n",
      "\tEVENT:  capture  @ time 33.19\n",
      "\t  VEHICLE Tanker > Begin ACTIVITY:  Redezvous\n",
      "\n",
      "\tEVENT:  approach  @ time 34.19\n",
      "\t  VEHICLE Tanker > Begin ACTIVITY:  RPOD\n",
      "\n",
      "\tEVENT:  dock  @ time 35.19\n",
      "\t  VEHICLE Tanker > Begin ACTIVITY:  Prop Transfer\n",
      "\n",
      "\tEVENT:  undock  @ time 35.69\n",
      "\t  VEHICLE Tanker > Begin ACTIVITY:  Return to Base\n",
      "\n",
      "\tEVENT:  begin  @ time 36.69\n",
      "\t  VEHICLE Tanker > Begin ACTIVITY:  Countdown\n",
      "\n",
      "\tEVENT:  launch  @ time 36.69\n",
      "\t  VEHICLE Tanker > Begin ACTIVITY:  Ascent\n",
      "\n",
      "\tEVENT:  burnout  @ time 37.69\n",
      "\t  VEHICLE Tanker > Begin ACTIVITY:  Orbit Insertion\n",
      "\n",
      "\tEVENT:  capture  @ time 39.69\n",
      "\t  VEHICLE Tanker > Begin ACTIVITY:  Redezvous\n",
      "\n",
      "\tEVENT:  approach  @ time 40.69\n",
      "\t  VEHICLE Tanker > Begin ACTIVITY:  RPOD\n",
      "\n",
      "\tEVENT:  dock  @ time 41.69\n",
      "\t  VEHICLE Tanker > Begin ACTIVITY:  Prop Transfer\n",
      "\n",
      "\tEVENT:  undock  @ time 42.19\n",
      "\t  VEHICLE Tanker > Begin ACTIVITY:  Return to Base\n",
      "\n",
      "\tEVENT:  begin  @ time 43.19\n",
      "\t  VEHICLE Tanker > Begin ACTIVITY:  Countdown\n",
      "\n",
      "\tEVENT:  launch  @ time 43.19\n",
      "\t  VEHICLE Tanker > Begin ACTIVITY:  Ascent\n",
      "\n",
      "\tEVENT:  burnout  @ time 44.19\n",
      "\t  VEHICLE Tanker > Begin ACTIVITY:  Orbit Insertion\n",
      "\n",
      "\tEVENT:  capture  @ time 46.19\n",
      "\t  VEHICLE Tanker > Begin ACTIVITY:  Redezvous\n",
      "\n",
      "\tEVENT:  approach  @ time 47.19\n",
      "\t  VEHICLE Tanker > Begin ACTIVITY:  RPOD\n",
      "\n",
      "\tEVENT:  dock  @ time 48.19\n",
      "\t  VEHICLE Tanker > Begin ACTIVITY:  Prop Transfer\n",
      "\n",
      "\tEVENT:  undock  @ time 48.69\n",
      "\t  VEHICLE Tanker > Begin ACTIVITY:  Return to Base\n",
      "Predictate <Wait until 6 propellant transfers are completed> Satisfied\n",
      "\n",
      "\tEVENT:  filled  @ time 48.69\n",
      "\t  VEHICLE MTV > Begin ACTIVITY:  Final Checkout\n",
      "\n",
      "\tEVENT:  land  @ time 49.69\n",
      "\t  VEHICLE Tanker > Begin ACTIVITY:  End Tanker Mission\n",
      "\tTERMINAL EVENT @ time 49.69018543449853\n",
      "\n",
      "\tEVENT:  tmi_burn  @ time 50.82\n",
      "\t  VEHICLE MTV > Begin ACTIVITY:  Begin Mars Transit\n",
      "\tTERMINAL EVENT @ time 50.82160421633434\n",
      "\n",
      "COMPLETE\n",
      "\n"
     ]
    }
   ],
   "source": [
    "set_logging_level(logging.INFO)\n",
    "\n",
    "sim = Simulator()\n",
    "\n",
    "try:\n",
    "    await sim.run(initial_vehicles)\n",
    "except asyncio.CancelledError:\n",
    "    logging.warning(\"CONOPS FAILED\")"
   ]
  },
  {
   "cell_type": "code",
   "execution_count": null,
   "metadata": {},
   "outputs": [],
   "source": []
  },
  {
   "cell_type": "markdown",
   "metadata": {},
   "source": [
    "### Gaining Insight via Monte Carlo Studies"
   ]
  },
  {
   "cell_type": "markdown",
   "metadata": {},
   "source": [
    "To characterize *expected* reliability and duration, we need to execute a large number of replicants.\n",
    "\n",
    "We implemented Monte Carlo simulation that supports various statistical samplers.\n",
    "- Variable durations\n",
    "- Variable probabilities"
   ]
  },
  {
   "cell_type": "markdown",
   "metadata": {},
   "source": [
    "In experimentation, we found that running replicants on independent, parallel processes was sufficient for our needs."
   ]
  },
  {
   "cell_type": "markdown",
   "metadata": {},
   "source": [
    "#### Convergence Study"
   ]
  },
  {
   "cell_type": "markdown",
   "metadata": {},
   "source": [
    "*How many replicants do we need?*\n",
    "\n",
    "<img src=\"./media/Convergence_Case04-r05__Tx02-Tk10.svg\">"
   ]
  },
  {
   "cell_type": "markdown",
   "metadata": {},
   "source": [
    "#### Processing Utilities"
   ]
  },
  {
   "cell_type": "code",
   "execution_count": 8,
   "metadata": {},
   "outputs": [],
   "source": [
    "import numpy as np\n",
    "\n",
    "def ecdf(sample):\n",
    "\n",
    "    # convert sample to a numpy array, if it isn't already\n",
    "    sample = np.atleast_1d(sample)\n",
    "\n",
    "    # find the unique values and their corresponding counts\n",
    "    quantiles, counts = np.unique(sample, return_counts=True)\n",
    "\n",
    "    # take the cumulative sum of the counts and divide by the sample size to\n",
    "    # get the cumulative probabilities between 0 and 1\n",
    "    cumprob = np.cumsum(counts).astype(np.double) / sample.size\n",
    "\n",
    "    return quantiles, cumprob"
   ]
  },
  {
   "cell_type": "markdown",
   "metadata": {},
   "source": [
    "#### Compare Cases"
   ]
  },
  {
   "cell_type": "markdown",
   "metadata": {},
   "source": [
    "##### Load & Format Data"
   ]
  },
  {
   "cell_type": "code",
   "execution_count": 9,
   "metadata": {},
   "outputs": [
    {
     "data": {
      "text/html": [
       "<div>\n",
       "<style scoped>\n",
       "    .dataframe tbody tr th:only-of-type {\n",
       "        vertical-align: middle;\n",
       "    }\n",
       "\n",
       "    .dataframe tbody tr th {\n",
       "        vertical-align: top;\n",
       "    }\n",
       "\n",
       "    .dataframe thead th {\n",
       "        text-align: right;\n",
       "    }\n",
       "</style>\n",
       "<table border=\"1\" class=\"dataframe\">\n",
       "  <thead>\n",
       "    <tr style=\"text-align: right;\">\n",
       "      <th></th>\n",
       "      <th>replicant</th>\n",
       "      <th>outcome</th>\n",
       "      <th>duration</th>\n",
       "      <th>anomaly_count</th>\n",
       "      <th>anomaly_time</th>\n",
       "      <th>anomaly_vehicle</th>\n",
       "      <th>anomaly_activity</th>\n",
       "      <th>Case</th>\n",
       "      <th>Tx_Required</th>\n",
       "      <th>Fleet_Size</th>\n",
       "    </tr>\n",
       "  </thead>\n",
       "  <tbody>\n",
       "    <tr>\n",
       "      <th>0</th>\n",
       "      <td>1</td>\n",
       "      <td>False</td>\n",
       "      <td>32.541477</td>\n",
       "      <td>2</td>\n",
       "      <td>19.000000</td>\n",
       "      <td>Tanker</td>\n",
       "      <td>Ascent</td>\n",
       "      <td>Tx15-Tk01</td>\n",
       "      <td>15</td>\n",
       "      <td>1</td>\n",
       "    </tr>\n",
       "    <tr>\n",
       "      <th>1</th>\n",
       "      <td>4</td>\n",
       "      <td>False</td>\n",
       "      <td>31.827839</td>\n",
       "      <td>2</td>\n",
       "      <td>12.500000</td>\n",
       "      <td>Tanker</td>\n",
       "      <td>Countdown</td>\n",
       "      <td>Tx15-Tk01</td>\n",
       "      <td>15</td>\n",
       "      <td>1</td>\n",
       "    </tr>\n",
       "    <tr>\n",
       "      <th>2</th>\n",
       "      <td>4</td>\n",
       "      <td>False</td>\n",
       "      <td>31.827839</td>\n",
       "      <td>3</td>\n",
       "      <td>31.827839</td>\n",
       "      <td>Tanker</td>\n",
       "      <td>RPOD</td>\n",
       "      <td>Tx15-Tk01</td>\n",
       "      <td>15</td>\n",
       "      <td>1</td>\n",
       "    </tr>\n",
       "    <tr>\n",
       "      <th>3</th>\n",
       "      <td>7</td>\n",
       "      <td>False</td>\n",
       "      <td>62.338018</td>\n",
       "      <td>2</td>\n",
       "      <td>6.000000</td>\n",
       "      <td>Tanker</td>\n",
       "      <td>Countdown</td>\n",
       "      <td>Tx15-Tk01</td>\n",
       "      <td>15</td>\n",
       "      <td>1</td>\n",
       "    </tr>\n",
       "    <tr>\n",
       "      <th>4</th>\n",
       "      <td>7</td>\n",
       "      <td>False</td>\n",
       "      <td>62.338018</td>\n",
       "      <td>3</td>\n",
       "      <td>34.327839</td>\n",
       "      <td>Tanker</td>\n",
       "      <td>Ascent</td>\n",
       "      <td>Tx15-Tk01</td>\n",
       "      <td>15</td>\n",
       "      <td>1</td>\n",
       "    </tr>\n",
       "  </tbody>\n",
       "</table>\n",
       "</div>"
      ],
      "text/plain": [
       "   replicant  outcome   duration  anomaly_count  anomaly_time anomaly_vehicle  \\\n",
       "0          1    False  32.541477              2     19.000000          Tanker   \n",
       "1          4    False  31.827839              2     12.500000          Tanker   \n",
       "2          4    False  31.827839              3     31.827839          Tanker   \n",
       "3          7    False  62.338018              2      6.000000          Tanker   \n",
       "4          7    False  62.338018              3     34.327839          Tanker   \n",
       "\n",
       "  anomaly_activity       Case  Tx_Required  Fleet_Size  \n",
       "0           Ascent  Tx15-Tk01           15           1  \n",
       "1        Countdown  Tx15-Tk01           15           1  \n",
       "2             RPOD  Tx15-Tk01           15           1  \n",
       "3        Countdown  Tx15-Tk01           15           1  \n",
       "4           Ascent  Tx15-Tk01           15           1  "
      ]
     },
     "execution_count": 9,
     "metadata": {},
     "output_type": "execute_result"
    }
   ],
   "source": [
    "# Load the data\n",
    "data_dir = Path(\"/Users/ben/Developer/SpaceMissionDES/results/Parameter_Sweep\")\n",
    "\n",
    "case_dirs = [\n",
    "    data_dir / \"Case04-r05__Tx15-Tk01\",\n",
    "    data_dir / \"Case04-r05__Tx15-Tk02\",\n",
    "    data_dir / \"Case04-r05__Tx15-Tk04\",\n",
    "]\n",
    "\n",
    "raw_cases = []\n",
    "for path in case_dirs:\n",
    "    # Load the raw data to dataframe\n",
    "    case_results = pd.read_csv(path / \"mc.csv\")\n",
    "    # Parse the case inputs\n",
    "    case_details = path.name.split(\"__\")[1]\n",
    "    tx_required  = int(case_details.split('-')[0].strip('Tx'))\n",
    "    tk_available = int(case_details.split('-')[1].strip('Tk'))\n",
    "    # Assign new flags\n",
    "    case_results[\"Case\"] = case_details\n",
    "    case_results[\"Tx_Required\"] = tx_required\n",
    "    case_results[\"Fleet_Size\"] = tk_available\n",
    "    \n",
    "    raw_cases.append(case_results)\n",
    "\n",
    "results = pd.concat(raw_cases).reset_index(drop=True)\n",
    "results.head()"
   ]
  },
  {
   "cell_type": "markdown",
   "metadata": {},
   "source": [
    "Address Case Summary Data"
   ]
  },
  {
   "cell_type": "code",
   "execution_count": 10,
   "metadata": {},
   "outputs": [
    {
     "data": {
      "text/html": [
       "<div>\n",
       "<style scoped>\n",
       "    .dataframe tbody tr th:only-of-type {\n",
       "        vertical-align: middle;\n",
       "    }\n",
       "\n",
       "    .dataframe tbody tr th {\n",
       "        vertical-align: top;\n",
       "    }\n",
       "\n",
       "    .dataframe thead th {\n",
       "        text-align: right;\n",
       "    }\n",
       "</style>\n",
       "<table border=\"1\" class=\"dataframe\">\n",
       "  <thead>\n",
       "    <tr style=\"text-align: right;\">\n",
       "      <th></th>\n",
       "      <th>Case</th>\n",
       "      <th>replicant</th>\n",
       "      <th>outcome</th>\n",
       "      <th>duration</th>\n",
       "    </tr>\n",
       "  </thead>\n",
       "  <tbody>\n",
       "    <tr>\n",
       "      <th>0</th>\n",
       "      <td>Tx15-Tk01</td>\n",
       "      <td>0</td>\n",
       "      <td>True</td>\n",
       "      <td>135.989214</td>\n",
       "    </tr>\n",
       "    <tr>\n",
       "      <th>1</th>\n",
       "      <td>Tx15-Tk01</td>\n",
       "      <td>1</td>\n",
       "      <td>False</td>\n",
       "      <td>32.541477</td>\n",
       "    </tr>\n",
       "    <tr>\n",
       "      <th>2</th>\n",
       "      <td>Tx15-Tk01</td>\n",
       "      <td>2</td>\n",
       "      <td>False</td>\n",
       "      <td>117.734047</td>\n",
       "    </tr>\n",
       "    <tr>\n",
       "      <th>3</th>\n",
       "      <td>Tx15-Tk01</td>\n",
       "      <td>3</td>\n",
       "      <td>True</td>\n",
       "      <td>151.230467</td>\n",
       "    </tr>\n",
       "    <tr>\n",
       "      <th>4</th>\n",
       "      <td>Tx15-Tk01</td>\n",
       "      <td>4</td>\n",
       "      <td>False</td>\n",
       "      <td>31.827839</td>\n",
       "    </tr>\n",
       "  </tbody>\n",
       "</table>\n",
       "</div>"
      ],
      "text/plain": [
       "        Case  replicant  outcome    duration\n",
       "0  Tx15-Tk01          0     True  135.989214\n",
       "1  Tx15-Tk01          1    False   32.541477\n",
       "2  Tx15-Tk01          2    False  117.734047\n",
       "3  Tx15-Tk01          3     True  151.230467\n",
       "4  Tx15-Tk01          4    False   31.827839"
      ]
     },
     "execution_count": 10,
     "metadata": {},
     "output_type": "execute_result"
    }
   ],
   "source": [
    "case_summaries = []\n",
    "\n",
    "for case in results.Case.unique():\n",
    "\n",
    "    df = (\n",
    "        results[results.Case==case]\n",
    "        .groupby(\"replicant\", as_index=False)\n",
    "        .first()\n",
    "        .loc[:, [\"Case\", \"replicant\", \"outcome\", \"duration\"]]\n",
    "    )\n",
    "    case_summaries.append(df)\n",
    "\n",
    "summaries = pd.concat(case_summaries).reset_index(drop=True)\n",
    "summaries.head()"
   ]
  },
  {
   "cell_type": "markdown",
   "metadata": {},
   "source": [
    "Analyze Case CDFs"
   ]
  },
  {
   "cell_type": "code",
   "execution_count": 11,
   "metadata": {},
   "outputs": [
    {
     "data": {
      "text/plain": [
       "array(['Tx15-Tk01', 'Tx15-Tk02', 'Tx15-Tk04'], dtype=object)"
      ]
     },
     "execution_count": 11,
     "metadata": {},
     "output_type": "execute_result"
    }
   ],
   "source": [
    "data = []\n",
    "\n",
    "for case in summaries.Case.unique():\n",
    "\n",
    "    sample = summaries[summaries.Case==case].duration.values\n",
    "\n",
    "    qe, pe = ecdf(sample)\n",
    "    case_data = pd.DataFrame({\"duration\": list(qe), \"prob\": list(pe)})\n",
    "    case_data[\"Case\"] = case\n",
    "\n",
    "    data.append(case_data)\n",
    "\n",
    "cdf_data = pd.concat(data).reset_index(drop=False)\n",
    "cdf_data.Case.unique()"
   ]
  },
  {
   "cell_type": "markdown",
   "metadata": {},
   "source": [
    "##### Single Case"
   ]
  },
  {
   "cell_type": "code",
   "execution_count": null,
   "metadata": {},
   "outputs": [],
   "source": []
  },
  {
   "cell_type": "markdown",
   "metadata": {},
   "source": [
    "#### Analysis Question — How does the fleet size affect reliability and duration?"
   ]
  },
  {
   "cell_type": "code",
   "execution_count": 12,
   "metadata": {},
   "outputs": [
    {
     "data": {
      "text/html": [
       "\n",
       "<div id=\"altair-viz-c4cd07ff3ebb4d9daabb9e70553c8cb4\"></div>\n",
       "<script type=\"text/javascript\">\n",
       "  var VEGA_DEBUG = (typeof VEGA_DEBUG == \"undefined\") ? {} : VEGA_DEBUG;\n",
       "  (function(spec, embedOpt){\n",
       "    let outputDiv = document.currentScript.previousElementSibling;\n",
       "    if (outputDiv.id !== \"altair-viz-c4cd07ff3ebb4d9daabb9e70553c8cb4\") {\n",
       "      outputDiv = document.getElementById(\"altair-viz-c4cd07ff3ebb4d9daabb9e70553c8cb4\");\n",
       "    }\n",
       "    const paths = {\n",
       "      \"vega\": \"https://cdn.jsdelivr.net/npm//vega@5?noext\",\n",
       "      \"vega-lib\": \"https://cdn.jsdelivr.net/npm//vega-lib?noext\",\n",
       "      \"vega-lite\": \"https://cdn.jsdelivr.net/npm//vega-lite@4.17.0?noext\",\n",
       "      \"vega-embed\": \"https://cdn.jsdelivr.net/npm//vega-embed@6?noext\",\n",
       "    };\n",
       "\n",
       "    function maybeLoadScript(lib, version) {\n",
       "      var key = `${lib.replace(\"-\", \"\")}_version`;\n",
       "      return (VEGA_DEBUG[key] == version) ?\n",
       "        Promise.resolve(paths[lib]) :\n",
       "        new Promise(function(resolve, reject) {\n",
       "          var s = document.createElement('script');\n",
       "          document.getElementsByTagName(\"head\")[0].appendChild(s);\n",
       "          s.async = true;\n",
       "          s.onload = () => {\n",
       "            VEGA_DEBUG[key] = version;\n",
       "            return resolve(paths[lib]);\n",
       "          };\n",
       "          s.onerror = () => reject(`Error loading script: ${paths[lib]}`);\n",
       "          s.src = paths[lib];\n",
       "        });\n",
       "    }\n",
       "\n",
       "    function showError(err) {\n",
       "      outputDiv.innerHTML = `<div class=\"error\" style=\"color:red;\">${err}</div>`;\n",
       "      throw err;\n",
       "    }\n",
       "\n",
       "    function displayChart(vegaEmbed) {\n",
       "      vegaEmbed(outputDiv, spec, embedOpt)\n",
       "        .catch(err => showError(`Javascript Error: ${err.message}<br>This usually means there's a typo in your chart specification. See the javascript console for the full traceback.`));\n",
       "    }\n",
       "\n",
       "    if(typeof define === \"function\" && define.amd) {\n",
       "      requirejs.config({paths});\n",
       "      require([\"vega-embed\"], displayChart, err => showError(`Error loading script: ${err.message}`));\n",
       "    } else {\n",
       "      maybeLoadScript(\"vega\", \"5\")\n",
       "        .then(() => maybeLoadScript(\"vega-lite\", \"4.17.0\"))\n",
       "        .then(() => maybeLoadScript(\"vega-embed\", \"6\"))\n",
       "        .catch(showError)\n",
       "        .then(() => displayChart(vegaEmbed));\n",
       "    }\n",
       "  })({\"config\": {\"view\": {\"continuousWidth\": 400, \"continuousHeight\": 300}}, \"data\": {\"url\": \"http://localhost:22966/87c6cb76ff6c2d5d32e5b4c297e71780.json\"}, \"mark\": \"bar\", \"encoding\": {\"color\": {\"field\": \"Case\", \"type\": \"nominal\"}, \"row\": {\"field\": \"Case\", \"type\": \"nominal\"}, \"x\": {\"bin\": {\"extent\": [80, 220], \"step\": 5}, \"field\": \"duration\", \"type\": \"quantitative\"}, \"y\": {\"aggregate\": \"count\", \"type\": \"quantitative\"}}, \"height\": 100, \"width\": 600, \"$schema\": \"https://vega.github.io/schema/vega-lite/v4.17.0.json\"}, {\"mode\": \"vega-lite\"});\n",
       "</script>"
      ],
      "text/plain": [
       "alt.Chart(...)"
      ]
     },
     "execution_count": 12,
     "metadata": {},
     "output_type": "execute_result"
    }
   ],
   "source": [
    "df = summaries\n",
    "df.loc[df.outcome == False, \"duration\"] = 1e6\n",
    "\n",
    "alt.Chart(df).mark_bar().encode(\n",
    "    # alt.X(\"duration:Q\", bin=True),\n",
    "    alt.X(\"duration:Q\", bin=alt.Bin(extent=[80, 220], step=5)),\n",
    "    y='count()',\n",
    "    row = \"Case\",\n",
    "    color=\"Case\"\n",
    ").properties(\n",
    "    width = 600,\n",
    "    height = 100\n",
    ")"
   ]
  },
  {
   "cell_type": "code",
   "execution_count": 13,
   "metadata": {},
   "outputs": [
    {
     "data": {
      "text/html": [
       "\n",
       "<div id=\"altair-viz-f06854fce18841fda44de31531fe4c3d\"></div>\n",
       "<script type=\"text/javascript\">\n",
       "  var VEGA_DEBUG = (typeof VEGA_DEBUG == \"undefined\") ? {} : VEGA_DEBUG;\n",
       "  (function(spec, embedOpt){\n",
       "    let outputDiv = document.currentScript.previousElementSibling;\n",
       "    if (outputDiv.id !== \"altair-viz-f06854fce18841fda44de31531fe4c3d\") {\n",
       "      outputDiv = document.getElementById(\"altair-viz-f06854fce18841fda44de31531fe4c3d\");\n",
       "    }\n",
       "    const paths = {\n",
       "      \"vega\": \"https://cdn.jsdelivr.net/npm//vega@5?noext\",\n",
       "      \"vega-lib\": \"https://cdn.jsdelivr.net/npm//vega-lib?noext\",\n",
       "      \"vega-lite\": \"https://cdn.jsdelivr.net/npm//vega-lite@4.17.0?noext\",\n",
       "      \"vega-embed\": \"https://cdn.jsdelivr.net/npm//vega-embed@6?noext\",\n",
       "    };\n",
       "\n",
       "    function maybeLoadScript(lib, version) {\n",
       "      var key = `${lib.replace(\"-\", \"\")}_version`;\n",
       "      return (VEGA_DEBUG[key] == version) ?\n",
       "        Promise.resolve(paths[lib]) :\n",
       "        new Promise(function(resolve, reject) {\n",
       "          var s = document.createElement('script');\n",
       "          document.getElementsByTagName(\"head\")[0].appendChild(s);\n",
       "          s.async = true;\n",
       "          s.onload = () => {\n",
       "            VEGA_DEBUG[key] = version;\n",
       "            return resolve(paths[lib]);\n",
       "          };\n",
       "          s.onerror = () => reject(`Error loading script: ${paths[lib]}`);\n",
       "          s.src = paths[lib];\n",
       "        });\n",
       "    }\n",
       "\n",
       "    function showError(err) {\n",
       "      outputDiv.innerHTML = `<div class=\"error\" style=\"color:red;\">${err}</div>`;\n",
       "      throw err;\n",
       "    }\n",
       "\n",
       "    function displayChart(vegaEmbed) {\n",
       "      vegaEmbed(outputDiv, spec, embedOpt)\n",
       "        .catch(err => showError(`Javascript Error: ${err.message}<br>This usually means there's a typo in your chart specification. See the javascript console for the full traceback.`));\n",
       "    }\n",
       "\n",
       "    if(typeof define === \"function\" && define.amd) {\n",
       "      requirejs.config({paths});\n",
       "      require([\"vega-embed\"], displayChart, err => showError(`Error loading script: ${err.message}`));\n",
       "    } else {\n",
       "      maybeLoadScript(\"vega\", \"5\")\n",
       "        .then(() => maybeLoadScript(\"vega-lite\", \"4.17.0\"))\n",
       "        .then(() => maybeLoadScript(\"vega-embed\", \"6\"))\n",
       "        .catch(showError)\n",
       "        .then(() => displayChart(vegaEmbed));\n",
       "    }\n",
       "  })({\"config\": {\"view\": {\"continuousWidth\": 400, \"continuousHeight\": 300}}, \"data\": {\"url\": \"http://localhost:22966/a8ce6e1f4c9d2a2494e47fc7d4947d1b.json\"}, \"mark\": \"line\", \"encoding\": {\"color\": {\"field\": \"Case\", \"type\": \"nominal\"}, \"x\": {\"field\": \"duration\", \"scale\": {\"domain\": [80, 220]}, \"type\": \"quantitative\"}, \"y\": {\"field\": \"prob\", \"type\": \"quantitative\"}}, \"height\": 250, \"selection\": {\"selector001\": {\"type\": \"interval\", \"bind\": \"scales\", \"encodings\": [\"x\", \"y\"]}}, \"width\": 500, \"$schema\": \"https://vega.github.io/schema/vega-lite/v4.17.0.json\"}, {\"mode\": \"vega-lite\"});\n",
       "</script>"
      ],
      "text/plain": [
       "alt.Chart(...)"
      ]
     },
     "execution_count": 13,
     "metadata": {},
     "output_type": "execute_result"
    }
   ],
   "source": [
    "fig = alt.Chart(cdf_data).mark_line().encode(\n",
    "    x = alt.X(\"duration\", scale=alt.Scale(domain=(80,220))),\n",
    "    y = \"prob\",\n",
    "    color = \"Case\"\n",
    ").properties(width=500, height=250)\n",
    "fig.interactive()"
   ]
  },
  {
   "cell_type": "markdown",
   "metadata": {},
   "source": [
    "#### Analysis Question — How many tankers should be in the fleet?\n",
    "\n",
    "How many tankers for alternate designs?"
   ]
  },
  {
   "cell_type": "markdown",
   "metadata": {},
   "source": [
    "##### Load Data"
   ]
  },
  {
   "cell_type": "code",
   "execution_count": 14,
   "metadata": {},
   "outputs": [
    {
     "data": {
      "text/html": [
       "<div>\n",
       "<style scoped>\n",
       "    .dataframe tbody tr th:only-of-type {\n",
       "        vertical-align: middle;\n",
       "    }\n",
       "\n",
       "    .dataframe tbody tr th {\n",
       "        vertical-align: top;\n",
       "    }\n",
       "\n",
       "    .dataframe thead th {\n",
       "        text-align: right;\n",
       "    }\n",
       "</style>\n",
       "<table border=\"1\" class=\"dataframe\">\n",
       "  <thead>\n",
       "    <tr style=\"text-align: right;\">\n",
       "      <th></th>\n",
       "      <th>replicant</th>\n",
       "      <th>outcome</th>\n",
       "      <th>duration</th>\n",
       "      <th>anomaly_count</th>\n",
       "      <th>anomaly_time</th>\n",
       "      <th>anomaly_vehicle</th>\n",
       "      <th>anomaly_activity</th>\n",
       "      <th>Case</th>\n",
       "      <th>Tx_Required</th>\n",
       "      <th>Fleet_Size</th>\n",
       "    </tr>\n",
       "  </thead>\n",
       "  <tbody>\n",
       "    <tr>\n",
       "      <th>0</th>\n",
       "      <td>4</td>\n",
       "      <td>False</td>\n",
       "      <td>9.000000</td>\n",
       "      <td>2</td>\n",
       "      <td>9.000000</td>\n",
       "      <td>Tanker</td>\n",
       "      <td>Redezvous</td>\n",
       "      <td>Tx05-Tk08</td>\n",
       "      <td>5</td>\n",
       "      <td>8</td>\n",
       "    </tr>\n",
       "    <tr>\n",
       "      <th>1</th>\n",
       "      <td>0</td>\n",
       "      <td>True</td>\n",
       "      <td>39.505085</td>\n",
       "      <td>0</td>\n",
       "      <td>NaN</td>\n",
       "      <td>NaN</td>\n",
       "      <td>NaN</td>\n",
       "      <td>Tx05-Tk08</td>\n",
       "      <td>5</td>\n",
       "      <td>8</td>\n",
       "    </tr>\n",
       "    <tr>\n",
       "      <th>2</th>\n",
       "      <td>2</td>\n",
       "      <td>True</td>\n",
       "      <td>57.014809</td>\n",
       "      <td>2</td>\n",
       "      <td>6.000000</td>\n",
       "      <td>Tanker</td>\n",
       "      <td>Countdown</td>\n",
       "      <td>Tx05-Tk08</td>\n",
       "      <td>5</td>\n",
       "      <td>8</td>\n",
       "    </tr>\n",
       "    <tr>\n",
       "      <th>3</th>\n",
       "      <td>2</td>\n",
       "      <td>True</td>\n",
       "      <td>57.014809</td>\n",
       "      <td>3</td>\n",
       "      <td>19.901978</td>\n",
       "      <td>Tanker</td>\n",
       "      <td>Countdown</td>\n",
       "      <td>Tx05-Tk08</td>\n",
       "      <td>5</td>\n",
       "      <td>8</td>\n",
       "    </tr>\n",
       "    <tr>\n",
       "      <th>4</th>\n",
       "      <td>6</td>\n",
       "      <td>True</td>\n",
       "      <td>60.014809</td>\n",
       "      <td>2</td>\n",
       "      <td>0.000000</td>\n",
       "      <td>MTV</td>\n",
       "      <td>Countdown</td>\n",
       "      <td>Tx05-Tk08</td>\n",
       "      <td>5</td>\n",
       "      <td>8</td>\n",
       "    </tr>\n",
       "  </tbody>\n",
       "</table>\n",
       "</div>"
      ],
      "text/plain": [
       "   replicant  outcome   duration  anomaly_count  anomaly_time anomaly_vehicle  \\\n",
       "0          4    False   9.000000              2      9.000000          Tanker   \n",
       "1          0     True  39.505085              0           NaN             NaN   \n",
       "2          2     True  57.014809              2      6.000000          Tanker   \n",
       "3          2     True  57.014809              3     19.901978          Tanker   \n",
       "4          6     True  60.014809              2      0.000000             MTV   \n",
       "\n",
       "  anomaly_activity       Case  Tx_Required  Fleet_Size  \n",
       "0        Redezvous  Tx05-Tk08            5           8  \n",
       "1              NaN  Tx05-Tk08            5           8  \n",
       "2        Countdown  Tx05-Tk08            5           8  \n",
       "3        Countdown  Tx05-Tk08            5           8  \n",
       "4        Countdown  Tx05-Tk08            5           8  "
      ]
     },
     "execution_count": 14,
     "metadata": {},
     "output_type": "execute_result"
    }
   ],
   "source": [
    "# Load the data\n",
    "data_dir = Path(\"/Users/ben/Developer/SpaceMissionDES/results/Parameter_Sweep\")\n",
    "\n",
    "raw_cases = []\n",
    "for path in data_dir.iterdir():\n",
    "    try:\n",
    "        # Load the raw data to dataframe\n",
    "        case_results = pd.read_csv(path / \"mc.csv\")\n",
    "        # Parse the case inputs\n",
    "        case_details = path.name.split(\"__\")[1]\n",
    "        tx_required  = int(case_details.split('-')[0].strip('Tx'))\n",
    "        tk_available = int(case_details.split('-')[1].strip('Tk'))\n",
    "        # Assign new flags\n",
    "        case_results[\"Case\"] = case_details\n",
    "        case_results[\"Tx_Required\"] = tx_required\n",
    "        case_results[\"Fleet_Size\"] = tk_available\n",
    "        \n",
    "        raw_cases.append(case_results)\n",
    "    except NotADirectoryError:\n",
    "        continue\n",
    "\n",
    "results = pd.concat(raw_cases).reset_index(drop=True)\n",
    "results.head()"
   ]
  },
  {
   "cell_type": "markdown",
   "metadata": {},
   "source": [
    "Get the Top Level Summary Statistics"
   ]
  },
  {
   "cell_type": "code",
   "execution_count": 15,
   "metadata": {},
   "outputs": [],
   "source": [
    "table = []\n",
    "\n",
    "for case in results.Case.unique():\n",
    "\n",
    "    case_results = results[results.Case==case]\n",
    "\n",
    "    N = case_results.replicant.max()\n",
    "    success_rate = sum(case_results.groupby(\"replicant\").first().outcome) / N\n",
    "    # print(f\"The success rate was: {success_rate} = {100*success_rate:.3f} %\\n\")\n",
    "\n",
    "    table.append(pd.DataFrame({\n",
    "        \"Case\": case, \n",
    "        \"Tx_Required\": case_results.head(1)[\"Tx_Required\"].values[0],\n",
    "        \"Fleet_Size\": case_results.head(1)[\"Fleet_Size\"].values[0],\n",
    "        \"Success_Rate\": success_rate\n",
    "    }, index=[1]))\n",
    "\n",
    "param_sweep = pd.concat(table)"
   ]
  },
  {
   "cell_type": "markdown",
   "metadata": {},
   "source": [
    "##### Plot the Parameter Sweep"
   ]
  },
  {
   "cell_type": "code",
   "execution_count": 16,
   "metadata": {},
   "outputs": [
    {
     "data": {
      "text/html": [
       "\n",
       "<div id=\"altair-viz-59ef5fb73fc2405ab9af9f5db3bfd2d8\"></div>\n",
       "<script type=\"text/javascript\">\n",
       "  var VEGA_DEBUG = (typeof VEGA_DEBUG == \"undefined\") ? {} : VEGA_DEBUG;\n",
       "  (function(spec, embedOpt){\n",
       "    let outputDiv = document.currentScript.previousElementSibling;\n",
       "    if (outputDiv.id !== \"altair-viz-59ef5fb73fc2405ab9af9f5db3bfd2d8\") {\n",
       "      outputDiv = document.getElementById(\"altair-viz-59ef5fb73fc2405ab9af9f5db3bfd2d8\");\n",
       "    }\n",
       "    const paths = {\n",
       "      \"vega\": \"https://cdn.jsdelivr.net/npm//vega@5?noext\",\n",
       "      \"vega-lib\": \"https://cdn.jsdelivr.net/npm//vega-lib?noext\",\n",
       "      \"vega-lite\": \"https://cdn.jsdelivr.net/npm//vega-lite@4.17.0?noext\",\n",
       "      \"vega-embed\": \"https://cdn.jsdelivr.net/npm//vega-embed@6?noext\",\n",
       "    };\n",
       "\n",
       "    function maybeLoadScript(lib, version) {\n",
       "      var key = `${lib.replace(\"-\", \"\")}_version`;\n",
       "      return (VEGA_DEBUG[key] == version) ?\n",
       "        Promise.resolve(paths[lib]) :\n",
       "        new Promise(function(resolve, reject) {\n",
       "          var s = document.createElement('script');\n",
       "          document.getElementsByTagName(\"head\")[0].appendChild(s);\n",
       "          s.async = true;\n",
       "          s.onload = () => {\n",
       "            VEGA_DEBUG[key] = version;\n",
       "            return resolve(paths[lib]);\n",
       "          };\n",
       "          s.onerror = () => reject(`Error loading script: ${paths[lib]}`);\n",
       "          s.src = paths[lib];\n",
       "        });\n",
       "    }\n",
       "\n",
       "    function showError(err) {\n",
       "      outputDiv.innerHTML = `<div class=\"error\" style=\"color:red;\">${err}</div>`;\n",
       "      throw err;\n",
       "    }\n",
       "\n",
       "    function displayChart(vegaEmbed) {\n",
       "      vegaEmbed(outputDiv, spec, embedOpt)\n",
       "        .catch(err => showError(`Javascript Error: ${err.message}<br>This usually means there's a typo in your chart specification. See the javascript console for the full traceback.`));\n",
       "    }\n",
       "\n",
       "    if(typeof define === \"function\" && define.amd) {\n",
       "      requirejs.config({paths});\n",
       "      require([\"vega-embed\"], displayChart, err => showError(`Error loading script: ${err.message}`));\n",
       "    } else {\n",
       "      maybeLoadScript(\"vega\", \"5\")\n",
       "        .then(() => maybeLoadScript(\"vega-lite\", \"4.17.0\"))\n",
       "        .then(() => maybeLoadScript(\"vega-embed\", \"6\"))\n",
       "        .catch(showError)\n",
       "        .then(() => displayChart(vegaEmbed));\n",
       "    }\n",
       "  })({\"config\": {\"view\": {\"continuousWidth\": 400, \"continuousHeight\": 300}}, \"data\": {\"url\": \"http://localhost:22966/7d34973261139ca240ab1b55c64fb8f2.json\"}, \"mark\": {\"type\": \"line\", \"clip\": true, \"interpolate\": \"monotone\", \"point\": true}, \"encoding\": {\"color\": {\"field\": \"Tx_Required\", \"type\": \"nominal\"}, \"x\": {\"axis\": {\"values\": [0, 1, 2, 4, 6, 8, 10]}, \"field\": \"Fleet_Size\", \"scale\": {\"domain\": [0, 10]}, \"type\": \"quantitative\"}, \"y\": {\"field\": \"Success_Rate\", \"scale\": {\"domain\": [0.5, 1.0]}, \"type\": \"quantitative\"}}, \"height\": 300, \"width\": 600, \"$schema\": \"https://vega.github.io/schema/vega-lite/v4.17.0.json\"}, {\"mode\": \"vega-lite\"});\n",
       "</script>"
      ],
      "text/plain": [
       "alt.Chart(...)"
      ]
     },
     "execution_count": 16,
     "metadata": {},
     "output_type": "execute_result"
    },
    {
     "name": "stdout",
     "output_type": "stream",
     "text": [
      "%d %s %.2fms\n",
      "%d %s %.2fms\n"
     ]
    },
    {
     "name": "stderr",
     "output_type": "stream",
     "text": [
      "INFO:tornado.access:200 GET /87c6cb76ff6c2d5d32e5b4c297e71780.json (::1) 4.40ms\n",
      "INFO:tornado.access:200 GET /a8ce6e1f4c9d2a2494e47fc7d4947d1b.json (::1) 5.16ms\n"
     ]
    },
    {
     "name": "stdout",
     "output_type": "stream",
     "text": [
      "%d %s %.2fms\n"
     ]
    },
    {
     "name": "stderr",
     "output_type": "stream",
     "text": [
      "INFO:tornado.access:200 GET /7d34973261139ca240ab1b55c64fb8f2.json (::1) 0.24ms\n"
     ]
    }
   ],
   "source": [
    "alt.Chart(param_sweep).mark_line(point=True, clip=True, interpolate='monotone').encode(\n",
    "    x = alt.X(\"Fleet_Size\", scale=alt.Scale(domain = (0, 10)), axis=alt.Axis(values=[0, 1, 2, 4, 6, 8, 10])),\n",
    "    y = alt.Y(\"Success_Rate\", scale=alt.Scale(domain=(0.5, 1.0))),\n",
    "    color = \"Tx_Required:N\",\n",
    ").properties(\n",
    "    height = 300,\n",
    "    width = 600\n",
    ")"
   ]
  },
  {
   "cell_type": "markdown",
   "metadata": {},
   "source": [
    "## In Conclusion"
   ]
  },
  {
   "cell_type": "markdown",
   "metadata": {},
   "source": [
    "We have developed a discrete event simulation which has been tailored to space mission analysis."
   ]
  },
  {
   "cell_type": "markdown",
   "metadata": {},
   "source": [
    "Our simulation has a number of advanced features:\n",
    "- Resource tracking (i.e. propellant, crew consumables)\n",
    "- Compound entities to represent stacked vehicles\n",
    "- Concurrent execution of activities via Python's `asyncio` library\n",
    "- Parallelized Monte Carlo Execution"
   ]
  },
  {
   "cell_type": "markdown",
   "metadata": {},
   "source": [
    "We have demonstrated the utility of this approach to studying alternative space missions."
   ]
  },
  {
   "cell_type": "markdown",
   "metadata": {},
   "source": []
  }
 ],
 "metadata": {
  "interpreter": {
   "hash": "c0d584d2a29dccce9f0ca87671acea225be4f5a93d19dd18a0936eea46ef1c14"
  },
  "kernelspec": {
   "display_name": "SpaceMissionDES",
   "language": "python",
   "name": "python3"
  },
  "language_info": {
   "codemirror_mode": {
    "name": "ipython",
    "version": 3
   },
   "file_extension": ".py",
   "mimetype": "text/x-python",
   "name": "python",
   "nbconvert_exporter": "python",
   "pygments_lexer": "ipython3",
   "version": "3.10.3"
  }
 },
 "nbformat": 4,
 "nbformat_minor": 2
}
