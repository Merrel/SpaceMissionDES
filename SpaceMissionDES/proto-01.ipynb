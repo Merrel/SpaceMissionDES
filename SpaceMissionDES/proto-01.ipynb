{
 "cells": [
  {
   "cell_type": "code",
   "execution_count": 50,
   "metadata": {},
   "outputs": [],
   "source": [
    "from dataclasses import dataclass, field\n",
    "from heapq import heappush, heappop\n",
    "from pprint import pprint # pretty-printing basic data structures\n",
    "\n",
    "import pandas as pd\n",
    "\n",
    "CLOCK = 0"
   ]
  },
  {
   "cell_type": "markdown",
   "metadata": {},
   "source": [
    "Clock"
   ]
  },
  {
   "cell_type": "code",
   "execution_count": 37,
   "metadata": {},
   "outputs": [
    {
     "name": "stdout",
     "output_type": "stream",
     "text": [
      "The current simulation time is 0 o'clock.\n"
     ]
    }
   ],
   "source": [
    "# https://stackoverflow.com/questions/279561/what-is-the-python-equivalent-of-static-variables-inside-a-function\n",
    "def static_vars(**kwargs):\n",
    "    def decorate(func):\n",
    "        for k in kwargs:\n",
    "            setattr(func, k, kwargs[k])\n",
    "        return func\n",
    "    return decorate\n",
    "\n",
    "@static_vars(t=0)\n",
    "def now():\n",
    "    return now.t\n",
    "\n",
    "def set_time(t_new=0):\n",
    "    now.t = t_new\n",
    "    return now()\n",
    "\n",
    "print(\"The current simulation time is\", now(), \"o'clock.\")"
   ]
  },
  {
   "cell_type": "markdown",
   "metadata": {},
   "source": [
    "Events"
   ]
  },
  {
   "cell_type": "code",
   "execution_count": 10,
   "metadata": {},
   "outputs": [],
   "source": [
    "@dataclass\n",
    "class Event:\n",
    "    name: str\n",
    "\n",
    "@dataclass(order=True)\n",
    "class EventInstance:\n",
    "    name: str=field(compare=False)\n",
    "    parent: Event=field(compare=False)\n",
    "    time: float"
   ]
  },
  {
   "cell_type": "markdown",
   "metadata": {},
   "source": [
    "Activities"
   ]
  },
  {
   "cell_type": "code",
   "execution_count": 13,
   "metadata": {},
   "outputs": [],
   "source": [
    "@dataclass\n",
    "class Activity:\n",
    "    name: str\n",
    "    start: Event\n",
    "    end: Event\n",
    "    duration: float\n",
    "\n",
    "# waiting = Activity(\"waiting\", INIT, liftoff, 0)\n",
    "# s1_ascent = Activity(\"s1_ascent\", liftoff, stage, 5)\n",
    "# s2_ascent = Activity(\"s2_ascent\", stage, orbit, 5)"
   ]
  },
  {
   "cell_type": "markdown",
   "metadata": {},
   "source": [
    "Future Event List"
   ]
  },
  {
   "cell_type": "code",
   "execution_count": 67,
   "metadata": {},
   "outputs": [],
   "source": [
    "# Implement the FutureEventList from Prof. Vuduc's example\n",
    "class FutureEventList:\n",
    "    def __init__(self):\n",
    "        self.events = []\n",
    "        \n",
    "    def __iter__(self):\n",
    "        return self\n",
    "    \n",
    "    def __next__(self) -> Event:\n",
    "        from heapq import heappop\n",
    "        if self.events:\n",
    "            return heappop(self.events)\n",
    "        raise StopIteration\n",
    "    \n",
    "    def __repr__(self) -> str:\n",
    "        from pprint import pformat\n",
    "        return pformat(self.events)\n",
    "\n",
    "    def schedule(self, activity: Activity) -> None:\n",
    "        heappush(\n",
    "            self.events,\n",
    "            EventInstance(activity.end.name, activity.end, now() + activity.duration)\n",
    "        )\n",
    "\n",
    "    def get_next(self):\n",
    "        return heappop(self.events)"
   ]
  },
  {
   "cell_type": "markdown",
   "metadata": {},
   "source": [
    "Vehicles"
   ]
  },
  {
   "cell_type": "code",
   "execution_count": 68,
   "metadata": {},
   "outputs": [],
   "source": [
    "@dataclass\n",
    "class Vehicle:\n",
    "    name: str\n",
    "    activity: Activity\n",
    "    propload: float\n",
    "    trace: pd.DataFrame = pd.DataFrame(columns=['CurrentEvent', 'NextEvent', 'Prop', 'Activity'])\n",
    "\n",
    "def start_vehicle(name, conops, propload = 100):\n",
    "    v = Vehicle(name, conops.first(), propload)\n",
    "    v.trace = pd.concat([\n",
    "        v.trace,\n",
    "        pd.DataFrame({\"CurrentEvent\": v.activity.start, \"NextEvent\": v.activity.end, \"Prop\": v.propload, \"Activity\": v.activity}, index = [len(v.trace) + 1])\n",
    "    ])\n",
    "    return v"
   ]
  },
  {
   "cell_type": "markdown",
   "metadata": {},
   "source": [
    "### Process Pseudocode"
   ]
  },
  {
   "cell_type": "code",
   "execution_count": 69,
   "metadata": {},
   "outputs": [],
   "source": [
    "\n",
    "\n",
    "@dataclass\n",
    "class ConOps:\n",
    "    sequence: dict\n",
    "\n",
    "    def first(self):\n",
    "        return self.sequence[\"INIT\"]\n",
    "\n",
    "    def after(self, current_event):\n",
    "        # Get the activity which starts with a particular event\n",
    "        return self.sequence[current_event.name]"
   ]
  },
  {
   "cell_type": "markdown",
   "metadata": {},
   "source": [
    "First define the ConOps as a sequence of processes"
   ]
  },
  {
   "cell_type": "code",
   "execution_count": 74,
   "metadata": {},
   "outputs": [],
   "source": [
    "# Events\n",
    "INIT = Event(\"INIT\")\n",
    "liftoff = Event(\"Liftoff\")\n",
    "stage = Event(\"Stage\")\n",
    "orbit = Event(\"Orbit\")\n",
    "\n",
    "# Activities\n",
    "activities = {\n",
    "    INIT.name: Activity(\"waiting\", INIT, liftoff, 0),\n",
    "    liftoff.name: Activity(\"s1_ascent\", liftoff, stage, 10),\n",
    "    stage.name: Activity(\"s2_ascent\", stage, orbit, 10)\n",
    "}\n",
    "\n",
    "conops = ConOps(activities)"
   ]
  },
  {
   "cell_type": "markdown",
   "metadata": {},
   "source": [
    "Initialize the Simulation"
   ]
  },
  {
   "cell_type": "code",
   "execution_count": 75,
   "metadata": {},
   "outputs": [],
   "source": [
    "# Reset the clock\n",
    "set_time(0)\n",
    "\n",
    "# Create and empty events list\n",
    "future = FutureEventList()\n",
    "\n",
    "# Start a vehicle\n",
    "v = start_vehicle(\"LV1\", conops)\n",
    "\n",
    "# Vehicle starts in some activity, which will end when that activities event is processed\n",
    "current_activity = v.activity\n",
    "future.schedule(v.activity)"
   ]
  },
  {
   "cell_type": "markdown",
   "metadata": {},
   "source": [
    "Walk the events"
   ]
  },
  {
   "cell_type": "code",
   "execution_count": 76,
   "metadata": {},
   "outputs": [
    {
     "name": "stdout",
     "output_type": "stream",
     "text": [
      "The current activity is Activity(name='waiting', start=Event(name='INIT'), end=Event(name='Liftoff'), duration=0)\n",
      "The current event is EventInstance(name='Liftoff', parent=Event(name='Liftoff'), time=0)\n",
      "The next activity is Activity(name='s1_ascent', start=Event(name='Liftoff'), end=Event(name='Stage'), duration=10)\n"
     ]
    },
    {
     "data": {
      "text/html": [
       "<div>\n",
       "<style scoped>\n",
       "    .dataframe tbody tr th:only-of-type {\n",
       "        vertical-align: middle;\n",
       "    }\n",
       "\n",
       "    .dataframe tbody tr th {\n",
       "        vertical-align: top;\n",
       "    }\n",
       "\n",
       "    .dataframe thead th {\n",
       "        text-align: right;\n",
       "    }\n",
       "</style>\n",
       "<table border=\"1\" class=\"dataframe\">\n",
       "  <thead>\n",
       "    <tr style=\"text-align: right;\">\n",
       "      <th></th>\n",
       "      <th>CurrentEvent</th>\n",
       "      <th>NextEvent</th>\n",
       "      <th>Prop</th>\n",
       "      <th>Activity</th>\n",
       "    </tr>\n",
       "  </thead>\n",
       "  <tbody>\n",
       "    <tr>\n",
       "      <th>1</th>\n",
       "      <td>Event(name='INIT')</td>\n",
       "      <td>Event(name='Liftoff')</td>\n",
       "      <td>100</td>\n",
       "      <td>Activity(name='waiting', start=Event(name='INI...</td>\n",
       "    </tr>\n",
       "    <tr>\n",
       "      <th>2</th>\n",
       "      <td>Event(name='Liftoff')</td>\n",
       "      <td>Event(name='Stage')</td>\n",
       "      <td>100</td>\n",
       "      <td>Activity(name='s1_ascent', start=Event(name='L...</td>\n",
       "    </tr>\n",
       "  </tbody>\n",
       "</table>\n",
       "</div>"
      ],
      "text/plain": [
       "            CurrentEvent              NextEvent Prop  \\\n",
       "1     Event(name='INIT')  Event(name='Liftoff')  100   \n",
       "2  Event(name='Liftoff')    Event(name='Stage')  100   \n",
       "\n",
       "                                            Activity  \n",
       "1  Activity(name='waiting', start=Event(name='INI...  \n",
       "2  Activity(name='s1_ascent', start=Event(name='L...  "
      ]
     },
     "execution_count": 76,
     "metadata": {},
     "output_type": "execute_result"
    }
   ],
   "source": [
    "# Trigger the ending event\n",
    "current_event = future.get_next()\n",
    "\n",
    "# Process the event\n",
    "# - Update the system state\n",
    "# - Update the vehicle state\n",
    "# v.propload -= 60  # some fancy code to handle this\n",
    "\n",
    "# Get the next activity\n",
    "next_activity = conops.after(current_event)\n",
    "\n",
    "print(f\"The current activity is {current_activity}\")\n",
    "print(f\"The current event is {current_event}\")\n",
    "print(f\"The next activity is {next_activity}\")\n",
    "\n",
    "# - Change the activity\n",
    "v.activity = next_activity\n",
    "\n",
    "# Schedule the next event\n",
    "future.schedule(v.activity)\n",
    "future\n",
    "\n",
    "assert current_event.parent == next_activity.start\n",
    "\n",
    "# - Update the vehicle trace\n",
    "v.trace = pd.concat([\n",
    "    v.trace,\n",
    "    pd.DataFrame({\"CurrentEvent\": v.activity.start, \"NextEvent\": v.activity.end, \"Prop\": v.propload, \"Activity\": v.activity}, index = [len(v.trace) + 1])\n",
    "])\n",
    "\n",
    "v.trace"
   ]
  },
  {
   "cell_type": "code",
   "execution_count": 8,
   "metadata": {},
   "outputs": [],
   "source": [
    "# activities = {\n",
    "#     \"waiting\": [v],\n",
    "#     \"s1_ascent\": [],\n",
    "#     \"s2_Ascent\": [],\n",
    "#     \"done\": [],\n",
    "# }\n",
    "\n",
    "# # - Update the system state\n",
    "# activities[prev_activity.name].remove(v)\n",
    "# activities[next_activity.name].append(v)"
   ]
  },
  {
   "cell_type": "code",
   "execution_count": null,
   "metadata": {},
   "outputs": [],
   "source": []
  }
 ],
 "metadata": {
  "interpreter": {
   "hash": "e424518f93302f49c6cf3b0eb17b463a5ec23247dd7ad8a8782bd3c352e484ba"
  },
  "kernelspec": {
   "display_name": "Python 3.10.3 64-bit ('SpaceDES')",
   "language": "python",
   "name": "python3"
  },
  "language_info": {
   "codemirror_mode": {
    "name": "ipython",
    "version": 3
   },
   "file_extension": ".py",
   "mimetype": "text/x-python",
   "name": "python",
   "nbconvert_exporter": "python",
   "pygments_lexer": "ipython3",
   "version": "3.10.3"
  },
  "orig_nbformat": 4
 },
 "nbformat": 4,
 "nbformat_minor": 2
}
