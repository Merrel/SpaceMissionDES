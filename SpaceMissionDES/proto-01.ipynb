{
 "cells": [
  {
   "cell_type": "markdown",
   "metadata": {},
   "source": [
    "## Prototype 01 - Space Mission DES"
   ]
  },
  {
   "cell_type": "code",
   "execution_count": 1,
   "metadata": {},
   "outputs": [],
   "source": [
    "from dataclasses import dataclass, field\n",
    "from heapq import heappush, heappop\n",
    "from pprint import pprint # pretty-printing basic data structures\n",
    "\n",
    "import pandas as pd"
   ]
  },
  {
   "cell_type": "markdown",
   "metadata": {},
   "source": [
    "Simulation Time"
   ]
  },
  {
   "cell_type": "code",
   "execution_count": 2,
   "metadata": {},
   "outputs": [
    {
     "name": "stdout",
     "output_type": "stream",
     "text": [
      "The current simulation time is 0 o'clock.\n"
     ]
    }
   ],
   "source": [
    "# https://stackoverflow.com/questions/279561/what-is-the-python-equivalent-of-static-variables-inside-a-function\n",
    "def static_vars(**kwargs):\n",
    "    def decorate(func):\n",
    "        for k in kwargs:\n",
    "            setattr(func, k, kwargs[k])\n",
    "        return func\n",
    "    return decorate\n",
    "\n",
    "@static_vars(t=0)\n",
    "def now():\n",
    "    return now.t\n",
    "\n",
    "def set_time(t_new=0):\n",
    "    now.t = t_new\n",
    "    return now()\n",
    "\n",
    "print(\"The current simulation time is\", now(), \"o'clock.\")"
   ]
  },
  {
   "cell_type": "markdown",
   "metadata": {},
   "source": [
    "Events"
   ]
  },
  {
   "cell_type": "code",
   "execution_count": 11,
   "metadata": {},
   "outputs": [],
   "source": [
    "@dataclass\n",
    "class Event:\n",
    "    name: str"
   ]
  },
  {
   "cell_type": "markdown",
   "metadata": {},
   "source": [
    "Activities"
   ]
  },
  {
   "cell_type": "code",
   "execution_count": 12,
   "metadata": {},
   "outputs": [],
   "source": [
    "@dataclass\n",
    "class Activity:\n",
    "    name: str\n",
    "    start: Event\n",
    "    end: Event\n",
    "    duration: float\n",
    "\n",
    "# waiting = Activity(\"waiting\", INIT, liftoff, 0)\n",
    "# s1_ascent = Activity(\"s1_ascent\", liftoff, stage, 5)\n",
    "# s2_ascent = Activity(\"s2_ascent\", stage, orbit, 5)"
   ]
  },
  {
   "cell_type": "markdown",
   "metadata": {},
   "source": [
    "Vehicles"
   ]
  },
  {
   "cell_type": "code",
   "execution_count": 13,
   "metadata": {},
   "outputs": [],
   "source": [
    "@dataclass\n",
    "class Vehicle:\n",
    "    name: str\n",
    "    activity: Activity\n",
    "    propload: float\n",
    "    trace: pd.DataFrame = pd.DataFrame(columns=['CurrentEvent', 'NextEvent', 'Prop', 'Activity'])\n",
    "\n",
    "    def __repr__(self):\n",
    "        return (f'{self.__class__.__name__} - {self.name}')\n",
    "\n",
    "    @staticmethod\n",
    "    def initialize(name, conops, propload = 100):\n",
    "        v = Vehicle(name, conops.first(), propload)\n",
    "        v.update_trace()\n",
    "        return v\n",
    "\n",
    "    def schedule_next_event(self, future_event_list):\n",
    "        template = self.activity.end\n",
    "        name = self.activity.end.name\n",
    "        heappush(\n",
    "            future_event_list.events,\n",
    "            ScheduledEvent(name, template, self, now() + self.activity.duration)\n",
    "        )\n",
    "\n",
    "    def update_trace(self):\n",
    "        self.trace = pd.concat([\n",
    "            self.trace,\n",
    "            pd.DataFrame({\n",
    "                \"CurrentEvent\": self.activity.start, \n",
    "                \"NextEvent\": self.activity.end, \n",
    "                \"Prop\": self.propload, \n",
    "                \"Activity\": self.activity}, index = [len(self.trace) + 1])\n",
    "        ])"
   ]
  },
  {
   "cell_type": "markdown",
   "metadata": {},
   "source": [
    "Future Events"
   ]
  },
  {
   "cell_type": "code",
   "execution_count": 14,
   "metadata": {},
   "outputs": [],
   "source": [
    "@dataclass(order=True)\n",
    "class ScheduledEvent:\n",
    "    name: str=field(compare=False)\n",
    "    template: Event=field(compare=False)\n",
    "    vehicle: Vehicle=field(compare=False)\n",
    "    time: float"
   ]
  },
  {
   "cell_type": "code",
   "execution_count": 15,
   "metadata": {},
   "outputs": [],
   "source": [
    "# Implement the FutureEventList from Prof. Vuduc's example\n",
    "class FutureEventList:\n",
    "    def __init__(self):\n",
    "        self.events = []\n",
    "        \n",
    "    def __iter__(self):\n",
    "        return self\n",
    "    \n",
    "    def __next__(self) -> Event:\n",
    "        from heapq import heappop\n",
    "        if self.events:\n",
    "            return heappop(self.events)\n",
    "        raise StopIteration\n",
    "    \n",
    "    def __repr__(self) -> str:\n",
    "        from pprint import pformat\n",
    "        return pformat(self.events)\n",
    "\n",
    "    def get_next(self):\n",
    "        return heappop(self.events)"
   ]
  },
  {
   "cell_type": "markdown",
   "metadata": {},
   "source": [
    "ConOps"
   ]
  },
  {
   "cell_type": "code",
   "execution_count": 16,
   "metadata": {},
   "outputs": [],
   "source": [
    "@dataclass\n",
    "class ConOps:\n",
    "    sequence: dict\n",
    "\n",
    "    def first(self):\n",
    "        return self.sequence[\"INIT\"]\n",
    "\n",
    "    def after(self, current_event):\n",
    "        # Get the activity which starts with a particular event\n",
    "        return self.sequence[current_event.name]"
   ]
  },
  {
   "cell_type": "markdown",
   "metadata": {},
   "source": [
    "### Process Example 01"
   ]
  },
  {
   "cell_type": "markdown",
   "metadata": {},
   "source": [
    "First define the ConOps as a sequence of processes"
   ]
  },
  {
   "cell_type": "code",
   "execution_count": 17,
   "metadata": {},
   "outputs": [],
   "source": [
    "# Events\n",
    "INIT = Event(\"INIT\")\n",
    "liftoff = Event(\"Liftoff\")\n",
    "stage = Event(\"Stage\")\n",
    "orbit = Event(\"Orbit\")\n",
    "\n",
    "# Activities\n",
    "activities = {\n",
    "    INIT.name: Activity(\"waiting\", INIT, liftoff, 0),         # Note that each activity has a starting event, ending event, and duration\n",
    "    liftoff.name: Activity(\"s1_ascent\", liftoff, stage, 10),  # Events are transitions between activities. \n",
    "    stage.name: Activity(\"s2_ascent\", stage, orbit, 10)       # Ending event for one activity is the starting event for the next\n",
    "}\n",
    "\n",
    "conops = ConOps(activities)"
   ]
  },
  {
   "cell_type": "markdown",
   "metadata": {},
   "source": [
    "Initialize the Simulation"
   ]
  },
  {
   "cell_type": "code",
   "execution_count": 18,
   "metadata": {},
   "outputs": [],
   "source": [
    "# Reset the clock\n",
    "set_time(0)\n",
    "\n",
    "# Create and empty events list\n",
    "future = FutureEventList()\n",
    "\n",
    "# Start a vehicle\n",
    "current_vehicle = Vehicle.initialize(\"LV1\", conops)\n",
    "\n",
    "# Vehicle starts in some activity, which will end when that activities event is processed\n",
    "current_vehicle.schedule_next_event(future)"
   ]
  },
  {
   "cell_type": "code",
   "execution_count": 26,
   "metadata": {},
   "outputs": [
    {
     "data": {
      "text/plain": [
       "[ScheduledEvent(name='Liftoff',\n",
       "                template=Event(name='Liftoff'),\n",
       "                vehicle=Vehicle - LV1,\n",
       "                time=0)]"
      ]
     },
     "execution_count": 26,
     "metadata": {},
     "output_type": "execute_result"
    }
   ],
   "source": [
    "future"
   ]
  },
  {
   "cell_type": "markdown",
   "metadata": {},
   "source": [
    "Walk the events"
   ]
  },
  {
   "cell_type": "code",
   "execution_count": 28,
   "metadata": {},
   "outputs": [
    {
     "name": "stdout",
     "output_type": "stream",
     "text": [
      "The current activity is Activity(name='s1_ascent', start=Event(name='Liftoff'), end=Event(name='Stage'), duration=10)\n",
      "The current event is ScheduledEvent(name='Stage', template=Event(name='Stage'), vehicle=Vehicle - LV1, time=10)\n",
      "The next activity is Activity(name='s2_ascent', start=Event(name='Stage'), end=Event(name='Orbit'), duration=10)\n"
     ]
    },
    {
     "data": {
      "text/html": [
       "<div>\n",
       "<style scoped>\n",
       "    .dataframe tbody tr th:only-of-type {\n",
       "        vertical-align: middle;\n",
       "    }\n",
       "\n",
       "    .dataframe tbody tr th {\n",
       "        vertical-align: top;\n",
       "    }\n",
       "\n",
       "    .dataframe thead th {\n",
       "        text-align: right;\n",
       "    }\n",
       "</style>\n",
       "<table border=\"1\" class=\"dataframe\">\n",
       "  <thead>\n",
       "    <tr style=\"text-align: right;\">\n",
       "      <th></th>\n",
       "      <th>CurrentEvent</th>\n",
       "      <th>NextEvent</th>\n",
       "      <th>Prop</th>\n",
       "      <th>Activity</th>\n",
       "    </tr>\n",
       "  </thead>\n",
       "  <tbody>\n",
       "    <tr>\n",
       "      <th>1</th>\n",
       "      <td>Event(name='INIT')</td>\n",
       "      <td>Event(name='Liftoff')</td>\n",
       "      <td>100</td>\n",
       "      <td>Activity(name='waiting', start=Event(name='INI...</td>\n",
       "    </tr>\n",
       "    <tr>\n",
       "      <th>2</th>\n",
       "      <td>Event(name='Liftoff')</td>\n",
       "      <td>Event(name='Stage')</td>\n",
       "      <td>100</td>\n",
       "      <td>Activity(name='s1_ascent', start=Event(name='L...</td>\n",
       "    </tr>\n",
       "    <tr>\n",
       "      <th>3</th>\n",
       "      <td>Event(name='Stage')</td>\n",
       "      <td>Event(name='Orbit')</td>\n",
       "      <td>100</td>\n",
       "      <td>Activity(name='s2_ascent', start=Event(name='S...</td>\n",
       "    </tr>\n",
       "  </tbody>\n",
       "</table>\n",
       "</div>"
      ],
      "text/plain": [
       "            CurrentEvent              NextEvent Prop  \\\n",
       "1     Event(name='INIT')  Event(name='Liftoff')  100   \n",
       "2  Event(name='Liftoff')    Event(name='Stage')  100   \n",
       "3    Event(name='Stage')    Event(name='Orbit')  100   \n",
       "\n",
       "                                            Activity  \n",
       "1  Activity(name='waiting', start=Event(name='INI...  \n",
       "2  Activity(name='s1_ascent', start=Event(name='L...  \n",
       "3  Activity(name='s2_ascent', start=Event(name='S...  "
      ]
     },
     "execution_count": 28,
     "metadata": {},
     "output_type": "execute_result"
    }
   ],
   "source": [
    "# Trigger the ending event\n",
    "current_event = future.get_next()\n",
    "\n",
    "# Process the event\n",
    "# - Update the system state\n",
    "# - Update the vehicle state\n",
    "# v.propload -= 60  # some fancy code to handle this\n",
    "\n",
    "# Get the next activity\n",
    "next_activity = conops.after(current_event)\n",
    "\n",
    "print(f\"The current activity is {current_vehicle.activity}\")\n",
    "print(f\"The current event is {current_event}\")\n",
    "print(f\"The next activity is {next_activity}\")\n",
    "\n",
    "# - Change the activity\n",
    "current_vehicle.activity = next_activity\n",
    "\n",
    "# Schedule the next event\n",
    "current_vehicle.schedule_next_event(future)\n",
    "\n",
    "assert current_event.template == next_activity.start\n",
    "\n",
    "# - Update the vehicle trace\n",
    "current_vehicle.update_trace()\n",
    "\n",
    "current_vehicle.trace"
   ]
  },
  {
   "cell_type": "markdown",
   "metadata": {},
   "source": [
    "### Process Example 02"
   ]
  },
  {
   "cell_type": "markdown",
   "metadata": {},
   "source": [
    "First define the ConOps as a sequence of processes"
   ]
  },
  {
   "cell_type": "code",
   "execution_count": 35,
   "metadata": {},
   "outputs": [],
   "source": [
    "# Events\n",
    "INIT = Event(\"INIT\")\n",
    "\n",
    "liftoff = Event(\"Liftoff\")\n",
    "stage = Event(\"Stage\")\n",
    "orbit = Event(\"Orbit\")\n",
    "\n",
    "DONE = Event(\"Done\")\n",
    "\n",
    "# Activities\n",
    "activities = {\n",
    "    INIT.name: Activity(\"waiting\", INIT, liftoff, 0),\n",
    "    liftoff.name: Activity(\"s1_ascent\", liftoff, stage, 10),\n",
    "    stage.name: Activity(\"s2_ascent\", stage, orbit, 10),\n",
    "    orbit.name: Activity(\"insertion\", orbit, DONE, 5)\n",
    "}\n",
    "\n",
    "conops = ConOps(activities)\n",
    "\n",
    "system_state = {\n",
    "    activity.name: [] for activity in conops.sequence.values()\n",
    "}"
   ]
  },
  {
   "cell_type": "code",
   "execution_count": 36,
   "metadata": {},
   "outputs": [
    {
     "data": {
      "text/plain": [
       "{'waiting': [], 's1_ascent': [], 's2_ascent': [], 'insertion': []}"
      ]
     },
     "execution_count": 36,
     "metadata": {},
     "output_type": "execute_result"
    }
   ],
   "source": [
    "system_state"
   ]
  },
  {
   "cell_type": "markdown",
   "metadata": {},
   "source": [
    "Initialize the Simulation"
   ]
  },
  {
   "cell_type": "code",
   "execution_count": 37,
   "metadata": {},
   "outputs": [
    {
     "data": {
      "text/plain": [
       "{'waiting': [Vehicle - LV1], 's1_ascent': [], 's2_ascent': [], 'insertion': []}"
      ]
     },
     "execution_count": 37,
     "metadata": {},
     "output_type": "execute_result"
    }
   ],
   "source": [
    "# Reset the clock\n",
    "set_time(0)\n",
    "\n",
    "# Create and empty events list\n",
    "future = FutureEventList()\n",
    "\n",
    "# Start a vehicle\n",
    "current_vehicle = Vehicle.initialize(\"LV1\", conops)\n",
    "\n",
    "# Vehicle starts in some activity, which will end when that activities event is processed\n",
    "current_vehicle.schedule_next_event(future)\n",
    "\n",
    "system_state[current_vehicle.activity.name].append(current_vehicle)\n",
    "\n",
    "system_state  # update the system state trace here"
   ]
  },
  {
   "cell_type": "markdown",
   "metadata": {},
   "source": [
    "Loop over events"
   ]
  },
  {
   "cell_type": "code",
   "execution_count": 38,
   "metadata": {},
   "outputs": [
    {
     "name": "stdout",
     "output_type": "stream",
     "text": [
      "\n",
      "\n",
      "********************\n",
      "* BEGIN SIMULATION *\n",
      "********************\n",
      "\n",
      "Time is 0\n",
      "\tThe previous activity was waiting\n",
      "\tThe current event is Liftoff\n",
      "\tThe next activity is s1_ascent\n",
      "\n",
      "\t {'waiting': [Vehicle - LV1], 's1_ascent': [], 's2_ascent': [], 'insertion': []}\n",
      "Time is 10\n",
      "\tThe previous activity was s1_ascent\n",
      "\tThe current event is Stage\n",
      "\tThe next activity is s2_ascent\n",
      "\n",
      "\t {'waiting': [], 's1_ascent': [Vehicle - LV1], 's2_ascent': [], 'insertion': []}\n",
      "Time is 20\n",
      "\tThe previous activity was s2_ascent\n",
      "\tThe current event is Orbit\n",
      "\tThe next activity is insertion\n",
      "\n",
      "\t {'waiting': [], 's1_ascent': [], 's2_ascent': [Vehicle - LV1], 'insertion': []}\n",
      "Time is 25\n",
      "\n",
      "******************\n",
      "* END SIMULATION *\n",
      "******************\n"
     ]
    }
   ],
   "source": [
    "print(\"\\n\\n********************\\n* BEGIN SIMULATION *\\n********************\\n\")\n",
    "\n",
    "for event in future:\n",
    "\n",
    "    # Update the simulation clock\n",
    "    set_time(event.time)\n",
    "\n",
    "    if event.template is DONE:\n",
    "        system_state[event.vehicle.activity.name].remove(vehicle)\n",
    "        print(f\"Time is {now()}\")\n",
    "        print(\"\\n******************\\n* END SIMULATION *\\n******************\")\n",
    "        break\n",
    "\n",
    "    # Transfer control to the vehicle process\n",
    "    vehicle = event.vehicle\n",
    "\n",
    "    # Process the event\n",
    "\n",
    "    # - Update the vehicle state\n",
    "    vehicle.propload -= 60  #TODO: Add proper logic for propellant updates\n",
    "\n",
    "    # Get the next activity & update the vehilce\n",
    "    previous_activity = vehicle.activity\n",
    "    vehicle.activity = conops.after(event)\n",
    "\n",
    "    # - Update the vehicle trace\n",
    "    vehicle.update_trace()\n",
    "\n",
    "    print(f\"Time is {now()}\")\n",
    "    print(f\"\\tThe previous activity was {previous_activity.name}\")\n",
    "    print(f\"\\tThe current event is {event.name}\")\n",
    "    print(f\"\\tThe next activity is {vehicle.activity.name}\\n\")\n",
    "    print(f\"\\t {system_state}\")\n",
    "\n",
    "    # Update the system state\n",
    "    system_state[previous_activity.name].remove(vehicle)\n",
    "    system_state[vehicle.activity.name].append(vehicle)\n",
    "\n",
    "    # Schedule the next event\n",
    "    vehicle.schedule_next_event(future)\n",
    "\n",
    "    # Return control to the scheduler"
   ]
  },
  {
   "cell_type": "code",
   "execution_count": 41,
   "metadata": {},
   "outputs": [
    {
     "data": {
      "text/plain": [
       "{'waiting': [], 's1_ascent': [], 's2_ascent': [], 'insertion': []}"
      ]
     },
     "execution_count": 41,
     "metadata": {},
     "output_type": "execute_result"
    }
   ],
   "source": [
    "system_state\n"
   ]
  },
  {
   "cell_type": "code",
   "execution_count": 42,
   "metadata": {},
   "outputs": [
    {
     "data": {
      "text/html": [
       "<div>\n",
       "<style scoped>\n",
       "    .dataframe tbody tr th:only-of-type {\n",
       "        vertical-align: middle;\n",
       "    }\n",
       "\n",
       "    .dataframe tbody tr th {\n",
       "        vertical-align: top;\n",
       "    }\n",
       "\n",
       "    .dataframe thead th {\n",
       "        text-align: right;\n",
       "    }\n",
       "</style>\n",
       "<table border=\"1\" class=\"dataframe\">\n",
       "  <thead>\n",
       "    <tr style=\"text-align: right;\">\n",
       "      <th></th>\n",
       "      <th>CurrentEvent</th>\n",
       "      <th>NextEvent</th>\n",
       "      <th>Prop</th>\n",
       "      <th>Activity</th>\n",
       "    </tr>\n",
       "  </thead>\n",
       "  <tbody>\n",
       "    <tr>\n",
       "      <th>1</th>\n",
       "      <td>Event(name='INIT')</td>\n",
       "      <td>Event(name='Liftoff')</td>\n",
       "      <td>100</td>\n",
       "      <td>Activity(name='waiting', start=Event(name='INI...</td>\n",
       "    </tr>\n",
       "    <tr>\n",
       "      <th>2</th>\n",
       "      <td>Event(name='Liftoff')</td>\n",
       "      <td>Event(name='Stage')</td>\n",
       "      <td>40</td>\n",
       "      <td>Activity(name='s1_ascent', start=Event(name='L...</td>\n",
       "    </tr>\n",
       "    <tr>\n",
       "      <th>3</th>\n",
       "      <td>Event(name='Stage')</td>\n",
       "      <td>Event(name='Orbit')</td>\n",
       "      <td>-20</td>\n",
       "      <td>Activity(name='s2_ascent', start=Event(name='S...</td>\n",
       "    </tr>\n",
       "    <tr>\n",
       "      <th>4</th>\n",
       "      <td>Event(name='Orbit')</td>\n",
       "      <td>Event(name='Done')</td>\n",
       "      <td>-80</td>\n",
       "      <td>Activity(name='insertion', start=Event(name='O...</td>\n",
       "    </tr>\n",
       "  </tbody>\n",
       "</table>\n",
       "</div>"
      ],
      "text/plain": [
       "            CurrentEvent              NextEvent Prop  \\\n",
       "1     Event(name='INIT')  Event(name='Liftoff')  100   \n",
       "2  Event(name='Liftoff')    Event(name='Stage')   40   \n",
       "3    Event(name='Stage')    Event(name='Orbit')  -20   \n",
       "4    Event(name='Orbit')     Event(name='Done')  -80   \n",
       "\n",
       "                                            Activity  \n",
       "1  Activity(name='waiting', start=Event(name='INI...  \n",
       "2  Activity(name='s1_ascent', start=Event(name='L...  \n",
       "3  Activity(name='s2_ascent', start=Event(name='S...  \n",
       "4  Activity(name='insertion', start=Event(name='O...  "
      ]
     },
     "execution_count": 42,
     "metadata": {},
     "output_type": "execute_result"
    }
   ],
   "source": [
    "vehicle.trace"
   ]
  },
  {
   "cell_type": "markdown",
   "metadata": {},
   "source": [
    "---\n",
    "#### Some ideas for implementing failures"
   ]
  },
  {
   "cell_type": "code",
   "execution_count": null,
   "metadata": {},
   "outputs": [],
   "source": [
    "\"\"\"\n",
    "end Activity\n",
    "\n",
    "some event\n",
    "\n",
    "    check if state is still viable (i.e. is propellant > 0)\n",
    "\n",
    "result = sample()\n",
    "\n",
    "if result == success:\n",
    "    Get next activty from conops\n",
    "    schedule event that ends Activity\n",
    "\n",
    "if result == failure:\n",
    "\n",
    "    Get next event from conops\n",
    "    if event is dead:\n",
    "        end sim\n",
    "\n",
    "    otherwise \n",
    "        schedule\n",
    "\n",
    "\"\"\""
   ]
  }
 ],
 "metadata": {
  "interpreter": {
   "hash": "e424518f93302f49c6cf3b0eb17b463a5ec23247dd7ad8a8782bd3c352e484ba"
  },
  "kernelspec": {
   "display_name": "Python 3.10.3 64-bit ('SpaceDES')",
   "language": "python",
   "name": "python3"
  },
  "language_info": {
   "codemirror_mode": {
    "name": "ipython",
    "version": 3
   },
   "file_extension": ".py",
   "mimetype": "text/x-python",
   "name": "python",
   "nbconvert_exporter": "python",
   "pygments_lexer": "ipython3",
   "version": "3.10.3"
  },
  "orig_nbformat": 4
 },
 "nbformat": 4,
 "nbformat_minor": 2
}
