{
 "cells": [
  {
   "cell_type": "code",
   "execution_count": 1,
   "metadata": {},
   "outputs": [],
   "source": [
    "from dataclasses import dataclass\n",
    "import pandas as pd\n",
    "\n",
    "CLOCK = 0"
   ]
  },
  {
   "cell_type": "markdown",
   "metadata": {},
   "source": [
    "Events"
   ]
  },
  {
   "cell_type": "code",
   "execution_count": 2,
   "metadata": {},
   "outputs": [],
   "source": [
    "@dataclass\n",
    "class Event:\n",
    "    name: str\n",
    "\n",
    "@dataclass \n",
    "class EventInstance:\n",
    "    name: str\n",
    "    parent: Event\n",
    "    time: float"
   ]
  },
  {
   "cell_type": "markdown",
   "metadata": {},
   "source": [
    "Activities"
   ]
  },
  {
   "cell_type": "code",
   "execution_count": 3,
   "metadata": {},
   "outputs": [],
   "source": [
    "@dataclass\n",
    "class Activity:\n",
    "    name: str\n",
    "    start: Event\n",
    "    end: Event\n",
    "    duration: float\n",
    "\n",
    "# waiting = Activity(\"waiting\", INIT, liftoff, 0)\n",
    "# s1_ascent = Activity(\"s1_ascent\", liftoff, stage, 5)\n",
    "# s2_ascent = Activity(\"s2_ascent\", stage, orbit, 5)"
   ]
  },
  {
   "cell_type": "markdown",
   "metadata": {},
   "source": [
    "Vehicles"
   ]
  },
  {
   "cell_type": "code",
   "execution_count": 4,
   "metadata": {},
   "outputs": [],
   "source": [
    "@dataclass\n",
    "class Vehicle:\n",
    "    name: str\n",
    "    activity: Activity\n",
    "    propload: float\n",
    "    trace: pd.DataFrame = pd.DataFrame(columns=['CurrentEvent', 'NextEvent', 'Prop', 'Activity'])\n",
    "\n",
    "def start_vehicle(name, conops, propload = 100):\n",
    "    v = Vehicle(name, conops.first(), propload)\n",
    "    v.trace = pd.concat([\n",
    "        v.trace,\n",
    "        pd.DataFrame({\"CurrentEvent\": v.activity.start, \"NextEvent\": v.activity.end, \"Prop\": v.propload, \"Activity\": v.activity}, index = [len(v.trace) + 1])\n",
    "    ])\n",
    "    return v"
   ]
  },
  {
   "cell_type": "markdown",
   "metadata": {},
   "source": [
    "### Process Pseudocode"
   ]
  },
  {
   "cell_type": "code",
   "execution_count": 6,
   "metadata": {},
   "outputs": [],
   "source": [
    "INIT = Event(\"INIT\")\n",
    "liftoff = Event(\"Liftoff\")\n",
    "stage = Event(\"Stage\")\n",
    "orbit = Event(\"Orbit\")\n",
    "\n",
    "# @dataclass\n",
    "class ConOps:\n",
    "\n",
    "    sequence = {\n",
    "        INIT.name: Activity(\"waiting\", INIT, liftoff, 0),\n",
    "        liftoff.name: Activity(\"s1_ascent\", liftoff, stage, 10),\n",
    "        stage.name: Activity(\"s2_ascent\", stage, orbit, 10)\n",
    "    }\n",
    "\n",
    "    def first(self):\n",
    "        return self.sequence[\"INIT\"]\n",
    "\n",
    "    def after(self, current_event):\n",
    "        # Get the activity which starts with a particular event\n",
    "        return self.sequence[current_event.name]"
   ]
  },
  {
   "cell_type": "code",
   "execution_count": 7,
   "metadata": {},
   "outputs": [],
   "source": [
    "def schedule(activity, future_events):\n",
    "    end = activity.end\n",
    "    future_events.append(\n",
    "        EventInstance(end.name, end, CLOCK + v.activity.duration)\n",
    "    )"
   ]
  },
  {
   "cell_type": "code",
   "execution_count": 8,
   "metadata": {},
   "outputs": [
    {
     "name": "stdout",
     "output_type": "stream",
     "text": [
      "The current activity is Activity(name='waiting', start=Event(name='INIT'), end=Event(name='Liftoff'), duration=0)\n",
      "The current event is EventInstance(name='Liftoff', parent=Event(name='Liftoff'), time=0)\n",
      "The next activity is Activity(name='s1_ascent', start=Event(name='Liftoff'), end=Event(name='Stage'), duration=10)\n"
     ]
    },
    {
     "data": {
      "text/html": [
       "<div>\n",
       "<style scoped>\n",
       "    .dataframe tbody tr th:only-of-type {\n",
       "        vertical-align: middle;\n",
       "    }\n",
       "\n",
       "    .dataframe tbody tr th {\n",
       "        vertical-align: top;\n",
       "    }\n",
       "\n",
       "    .dataframe thead th {\n",
       "        text-align: right;\n",
       "    }\n",
       "</style>\n",
       "<table border=\"1\" class=\"dataframe\">\n",
       "  <thead>\n",
       "    <tr style=\"text-align: right;\">\n",
       "      <th></th>\n",
       "      <th>CurrentEvent</th>\n",
       "      <th>NextEvent</th>\n",
       "      <th>Prop</th>\n",
       "      <th>Activity</th>\n",
       "    </tr>\n",
       "  </thead>\n",
       "  <tbody>\n",
       "    <tr>\n",
       "      <th>1</th>\n",
       "      <td>Event(name='INIT')</td>\n",
       "      <td>Event(name='Liftoff')</td>\n",
       "      <td>100</td>\n",
       "      <td>Activity(name='waiting', start=Event(name='INI...</td>\n",
       "    </tr>\n",
       "    <tr>\n",
       "      <th>2</th>\n",
       "      <td>Event(name='Liftoff')</td>\n",
       "      <td>Event(name='Stage')</td>\n",
       "      <td>100</td>\n",
       "      <td>Activity(name='s1_ascent', start=Event(name='L...</td>\n",
       "    </tr>\n",
       "  </tbody>\n",
       "</table>\n",
       "</div>"
      ],
      "text/plain": [
       "            CurrentEvent              NextEvent Prop  \\\n",
       "1     Event(name='INIT')  Event(name='Liftoff')  100   \n",
       "2  Event(name='Liftoff')    Event(name='Stage')  100   \n",
       "\n",
       "                                            Activity  \n",
       "1  Activity(name='waiting', start=Event(name='INI...  \n",
       "2  Activity(name='s1_ascent', start=Event(name='L...  "
      ]
     },
     "execution_count": 8,
     "metadata": {},
     "output_type": "execute_result"
    }
   ],
   "source": [
    "CLOCK = 0\n",
    "future_events = []\n",
    "\n",
    "conops = ConOps()\n",
    "\n",
    "# Start with some intial state\n",
    "v = start_vehicle(\"LV1\", conops)\n",
    "\n",
    "# Vehicle starts in some activity, which will end when that activities event is processed\n",
    "current_activity = v.activity\n",
    "schedule(v.activity, future_events)\n",
    "\n",
    "# Trigger the ending event\n",
    "current_event = future_events[0]\n",
    "future_events.remove(current_event)\n",
    "\n",
    "# Process the event\n",
    "# - Update the system state\n",
    "# - Update the vehicle state\n",
    "# v.propload -= 60  # some fancy code to handle this\n",
    "\n",
    "# Get the next activity\n",
    "next_activity = conops.after(current_event)\n",
    "\n",
    "print(f\"The current activity is {current_activity}\")\n",
    "print(f\"The current event is {current_event}\")\n",
    "print(f\"The next activity is {next_activity}\")\n",
    "\n",
    "# - Change the activity\n",
    "v.activity = next_activity\n",
    "\n",
    "# Schedule the next event\n",
    "schedule(v.activity, future_events)\n",
    "future_events\n",
    "\n",
    "assert current_event.parent == next_activity.start\n",
    "\n",
    "# - Update the vehicle trace\n",
    "v.trace = pd.concat([\n",
    "    v.trace,\n",
    "    pd.DataFrame({\"CurrentEvent\": v.activity.start, \"NextEvent\": v.activity.end, \"Prop\": v.propload, \"Activity\": v.activity}, index = [len(v.trace) + 1])\n",
    "])\n",
    "\n",
    "v.trace"
   ]
  },
  {
   "cell_type": "code",
   "execution_count": 9,
   "metadata": {},
   "outputs": [],
   "source": [
    "# activities = {\n",
    "#     \"waiting\": [v],\n",
    "#     \"s1_ascent\": [],\n",
    "#     \"s2_Ascent\": [],\n",
    "#     \"done\": [],\n",
    "# }\n",
    "\n",
    "# # - Update the system state\n",
    "# activities[prev_activity.name].remove(v)\n",
    "# activities[next_activity.name].append(v)"
   ]
  },
  {
   "cell_type": "code",
   "execution_count": null,
   "metadata": {},
   "outputs": [],
   "source": []
  }
 ],
 "metadata": {
  "interpreter": {
   "hash": "e424518f93302f49c6cf3b0eb17b463a5ec23247dd7ad8a8782bd3c352e484ba"
  },
  "kernelspec": {
   "display_name": "Python 3.10.3 64-bit ('SpaceDES')",
   "language": "python",
   "name": "python3"
  },
  "language_info": {
   "codemirror_mode": {
    "name": "ipython",
    "version": 3
   },
   "file_extension": ".py",
   "mimetype": "text/x-python",
   "name": "python",
   "nbconvert_exporter": "python",
   "pygments_lexer": "ipython3",
   "version": "3.10.3"
  },
  "orig_nbformat": 4
 },
 "nbformat": 4,
 "nbformat_minor": 2
}
