{
 "cells": [
  {
   "cell_type": "code",
   "execution_count": 67,
   "metadata": {},
   "outputs": [],
   "source": [
    "from pathlib import Path\n",
    "import pandas as pd\n",
    "import altair as alt\n",
    "import seaborn as sns"
   ]
  },
  {
   "cell_type": "code",
   "execution_count": 68,
   "metadata": {},
   "outputs": [
    {
     "data": {
      "text/plain": [
       "PosixPath('/Users/ben/Developer/SpaceMissionDES/SpaceMissionDES/analysis')"
      ]
     },
     "execution_count": 68,
     "metadata": {},
     "output_type": "execute_result"
    }
   ],
   "source": [
    "Path.cwd()"
   ]
  },
  {
   "cell_type": "markdown",
   "metadata": {},
   "source": [
    "#### Load the Data"
   ]
  },
  {
   "cell_type": "code",
   "execution_count": 69,
   "metadata": {},
   "outputs": [
    {
     "data": {
      "text/html": [
       "<div>\n",
       "<style scoped>\n",
       "    .dataframe tbody tr th:only-of-type {\n",
       "        vertical-align: middle;\n",
       "    }\n",
       "\n",
       "    .dataframe tbody tr th {\n",
       "        vertical-align: top;\n",
       "    }\n",
       "\n",
       "    .dataframe thead th {\n",
       "        text-align: right;\n",
       "    }\n",
       "</style>\n",
       "<table border=\"1\" class=\"dataframe\">\n",
       "  <thead>\n",
       "    <tr style=\"text-align: right;\">\n",
       "      <th></th>\n",
       "      <th>replicant</th>\n",
       "      <th>outcome</th>\n",
       "      <th>duration</th>\n",
       "      <th>anomaly_count</th>\n",
       "      <th>anomaly_time</th>\n",
       "      <th>anomaly_vehicle</th>\n",
       "      <th>anomaly_activity</th>\n",
       "    </tr>\n",
       "  </thead>\n",
       "  <tbody>\n",
       "    <tr>\n",
       "      <th>0</th>\n",
       "      <td>0</td>\n",
       "      <td>True</td>\n",
       "      <td>190.0</td>\n",
       "      <td>0</td>\n",
       "      <td>NaN</td>\n",
       "      <td>NaN</td>\n",
       "      <td>NaN</td>\n",
       "    </tr>\n",
       "    <tr>\n",
       "      <th>1</th>\n",
       "      <td>1</td>\n",
       "      <td>True</td>\n",
       "      <td>190.0</td>\n",
       "      <td>0</td>\n",
       "      <td>NaN</td>\n",
       "      <td>NaN</td>\n",
       "      <td>NaN</td>\n",
       "    </tr>\n",
       "    <tr>\n",
       "      <th>2</th>\n",
       "      <td>2</td>\n",
       "      <td>False</td>\n",
       "      <td>190.0</td>\n",
       "      <td>2</td>\n",
       "      <td>40.0</td>\n",
       "      <td>Tanker</td>\n",
       "      <td>Ascent</td>\n",
       "    </tr>\n",
       "    <tr>\n",
       "      <th>3</th>\n",
       "      <td>2</td>\n",
       "      <td>False</td>\n",
       "      <td>190.0</td>\n",
       "      <td>3</td>\n",
       "      <td>190.0</td>\n",
       "      <td>Tanker</td>\n",
       "      <td>PropTransfer</td>\n",
       "    </tr>\n",
       "    <tr>\n",
       "      <th>4</th>\n",
       "      <td>4</td>\n",
       "      <td>False</td>\n",
       "      <td>550.0</td>\n",
       "      <td>2</td>\n",
       "      <td>40.0</td>\n",
       "      <td>Tanker</td>\n",
       "      <td>Ascent</td>\n",
       "    </tr>\n",
       "  </tbody>\n",
       "</table>\n",
       "</div>"
      ],
      "text/plain": [
       "   replicant  outcome  duration  anomaly_count  anomaly_time anomaly_vehicle  \\\n",
       "0          0     True     190.0              0           NaN             NaN   \n",
       "1          1     True     190.0              0           NaN             NaN   \n",
       "2          2    False     190.0              2          40.0          Tanker   \n",
       "3          2    False     190.0              3         190.0          Tanker   \n",
       "4          4    False     550.0              2          40.0          Tanker   \n",
       "\n",
       "  anomaly_activity  \n",
       "0              NaN  \n",
       "1              NaN  \n",
       "2           Ascent  \n",
       "3     PropTransfer  \n",
       "4           Ascent  "
      ]
     },
     "execution_count": 69,
     "metadata": {},
     "output_type": "execute_result"
    }
   ],
   "source": [
    "data_dir = Path.cwd().parent.parent / \"results\" / \"test-01\"\n",
    "\n",
    "mc_results = pd.read_csv(data_dir / \"mc.csv\")\n",
    "mc_results.head()"
   ]
  },
  {
   "cell_type": "markdown",
   "metadata": {},
   "source": [
    "#### Summary Statistics"
   ]
  },
  {
   "cell_type": "code",
   "execution_count": 70,
   "metadata": {},
   "outputs": [
    {
     "name": "stdout",
     "output_type": "stream",
     "text": [
      "The success rate was: 0.5775775775775776 = 57.758 %\n",
      "\n"
     ]
    }
   ],
   "source": [
    "N = mc_results.replicant.max()\n",
    "success_rate = sum(mc_results.groupby(\"replicant\").first().outcome) / N\n",
    "print(f\"The success rate was: {success_rate} = {100*success_rate:.3f} %\\n\")"
   ]
  },
  {
   "cell_type": "markdown",
   "metadata": {},
   "source": [
    "#### Mission Duration"
   ]
  },
  {
   "cell_type": "code",
   "execution_count": 71,
   "metadata": {},
   "outputs": [
    {
     "data": {
      "text/html": [
       "\n",
       "<div id=\"altair-viz-32abbe7d8a0a4db7a188958ea60ecca2\"></div>\n",
       "<script type=\"text/javascript\">\n",
       "  var VEGA_DEBUG = (typeof VEGA_DEBUG == \"undefined\") ? {} : VEGA_DEBUG;\n",
       "  (function(spec, embedOpt){\n",
       "    let outputDiv = document.currentScript.previousElementSibling;\n",
       "    if (outputDiv.id !== \"altair-viz-32abbe7d8a0a4db7a188958ea60ecca2\") {\n",
       "      outputDiv = document.getElementById(\"altair-viz-32abbe7d8a0a4db7a188958ea60ecca2\");\n",
       "    }\n",
       "    const paths = {\n",
       "      \"vega\": \"https://cdn.jsdelivr.net/npm//vega@5?noext\",\n",
       "      \"vega-lib\": \"https://cdn.jsdelivr.net/npm//vega-lib?noext\",\n",
       "      \"vega-lite\": \"https://cdn.jsdelivr.net/npm//vega-lite@4.17.0?noext\",\n",
       "      \"vega-embed\": \"https://cdn.jsdelivr.net/npm//vega-embed@6?noext\",\n",
       "    };\n",
       "\n",
       "    function maybeLoadScript(lib, version) {\n",
       "      var key = `${lib.replace(\"-\", \"\")}_version`;\n",
       "      return (VEGA_DEBUG[key] == version) ?\n",
       "        Promise.resolve(paths[lib]) :\n",
       "        new Promise(function(resolve, reject) {\n",
       "          var s = document.createElement('script');\n",
       "          document.getElementsByTagName(\"head\")[0].appendChild(s);\n",
       "          s.async = true;\n",
       "          s.onload = () => {\n",
       "            VEGA_DEBUG[key] = version;\n",
       "            return resolve(paths[lib]);\n",
       "          };\n",
       "          s.onerror = () => reject(`Error loading script: ${paths[lib]}`);\n",
       "          s.src = paths[lib];\n",
       "        });\n",
       "    }\n",
       "\n",
       "    function showError(err) {\n",
       "      outputDiv.innerHTML = `<div class=\"error\" style=\"color:red;\">${err}</div>`;\n",
       "      throw err;\n",
       "    }\n",
       "\n",
       "    function displayChart(vegaEmbed) {\n",
       "      vegaEmbed(outputDiv, spec, embedOpt)\n",
       "        .catch(err => showError(`Javascript Error: ${err.message}<br>This usually means there's a typo in your chart specification. See the javascript console for the full traceback.`));\n",
       "    }\n",
       "\n",
       "    if(typeof define === \"function\" && define.amd) {\n",
       "      requirejs.config({paths});\n",
       "      require([\"vega-embed\"], displayChart, err => showError(`Error loading script: ${err.message}`));\n",
       "    } else {\n",
       "      maybeLoadScript(\"vega\", \"5\")\n",
       "        .then(() => maybeLoadScript(\"vega-lite\", \"4.17.0\"))\n",
       "        .then(() => maybeLoadScript(\"vega-embed\", \"6\"))\n",
       "        .catch(showError)\n",
       "        .then(() => displayChart(vegaEmbed));\n",
       "    }\n",
       "  })({\"config\": {\"view\": {\"continuousWidth\": 400, \"continuousHeight\": 300}}, \"data\": {\"name\": \"data-41a221a2b39d58a9239064ddd833fa8c\"}, \"mark\": \"bar\", \"encoding\": {\"x\": {\"bin\": {\"extent\": [0, 4000], \"step\": 250}, \"field\": \"duration\", \"type\": \"quantitative\"}, \"y\": {\"aggregate\": \"count\", \"type\": \"quantitative\"}}, \"width\": 800, \"$schema\": \"https://vega.github.io/schema/vega-lite/v4.17.0.json\", \"datasets\": {\"data-41a221a2b39d58a9239064ddd833fa8c\": [{\"replicant\": 0, \"duration\": 190.0}, {\"replicant\": 1, \"duration\": 190.0}, {\"replicant\": 2, \"duration\": 190.0}, {\"replicant\": 3, \"duration\": 1030.0}, {\"replicant\": 4, \"duration\": 550.0}, {\"replicant\": 5, \"duration\": 670.0}, {\"replicant\": 6, \"duration\": 1270.0}, {\"replicant\": 7, \"duration\": 430.0}, {\"replicant\": 8, \"duration\": 1150.0}, {\"replicant\": 9, \"duration\": 190.0}, {\"replicant\": 10, \"duration\": 190.0}, {\"replicant\": 11, \"duration\": 430.0}, {\"replicant\": 12, \"duration\": 310.0}, {\"replicant\": 13, \"duration\": 200.0}, {\"replicant\": 14, \"duration\": 790.0}, {\"replicant\": 15, \"duration\": 310.0}, {\"replicant\": 16, \"duration\": 50.0}, {\"replicant\": 17, \"duration\": 190.0}, {\"replicant\": 18, \"duration\": 200.0}, {\"replicant\": 19, \"duration\": 530.0}, {\"replicant\": 20, \"duration\": 1390.0}, {\"replicant\": 21, \"duration\": 190.0}, {\"replicant\": 22, \"duration\": 1280.0}, {\"replicant\": 23, \"duration\": 790.0}, {\"replicant\": 24, \"duration\": 910.0}, {\"replicant\": 25, \"duration\": 310.0}, {\"replicant\": 26, \"duration\": 1150.0}, {\"replicant\": 27, \"duration\": 790.0}, {\"replicant\": 28, \"duration\": 310.0}, {\"replicant\": 29, \"duration\": 190.0}, {\"replicant\": 30, \"duration\": 910.0}, {\"replicant\": 31, \"duration\": 310.0}, {\"replicant\": 32, \"duration\": 550.0}, {\"replicant\": 33, \"duration\": 670.0}, {\"replicant\": 34, \"duration\": 190.0}, {\"replicant\": 35, \"duration\": 1150.0}, {\"replicant\": 36, \"duration\": 2120.0}, {\"replicant\": 37, \"duration\": 1750.0}, {\"replicant\": 38, \"duration\": 430.0}, {\"replicant\": 39, \"duration\": 190.0}, {\"replicant\": 40, \"duration\": 430.0}, {\"replicant\": 41, \"duration\": 430.0}, {\"replicant\": 42, \"duration\": 190.0}, {\"replicant\": 43, \"duration\": 1510.0}, {\"replicant\": 44, \"duration\": 310.0}, {\"replicant\": 45, \"duration\": 190.0}, {\"replicant\": 46, \"duration\": 910.0}, {\"replicant\": 47, \"duration\": 2110.0}, {\"replicant\": 48, \"duration\": 190.0}, {\"replicant\": 49, \"duration\": 310.0}, {\"replicant\": 50, \"duration\": 790.0}, {\"replicant\": 51, \"duration\": 1130.0}, {\"replicant\": 52, \"duration\": 910.0}, {\"replicant\": 53, \"duration\": 550.0}, {\"replicant\": 54, \"duration\": 550.0}, {\"replicant\": 55, \"duration\": 1270.0}, {\"replicant\": 56, \"duration\": 70.0}, {\"replicant\": 57, \"duration\": 1630.0}, {\"replicant\": 58, \"duration\": 1150.0}, {\"replicant\": 59, \"duration\": 770.0}, {\"replicant\": 60, \"duration\": 910.0}, {\"replicant\": 61, \"duration\": 190.0}, {\"replicant\": 62, \"duration\": 170.0}, {\"replicant\": 63, \"duration\": 550.0}, {\"replicant\": 64, \"duration\": 190.0}, {\"replicant\": 65, \"duration\": 1030.0}, {\"replicant\": 66, \"duration\": 310.0}, {\"replicant\": 67, \"duration\": 430.0}, {\"replicant\": 68, \"duration\": 550.0}, {\"replicant\": 69, \"duration\": 190.0}, {\"replicant\": 70, \"duration\": 1270.0}, {\"replicant\": 71, \"duration\": 310.0}, {\"replicant\": 72, \"duration\": 1030.0}, {\"replicant\": 73, \"duration\": 1390.0}, {\"replicant\": 74, \"duration\": 190.0}, {\"replicant\": 75, \"duration\": 550.0}, {\"replicant\": 76, \"duration\": 530.0}, {\"replicant\": 77, \"duration\": 430.0}, {\"replicant\": 78, \"duration\": 670.0}, {\"replicant\": 79, \"duration\": 70.0}, {\"replicant\": 80, \"duration\": 550.0}, {\"replicant\": 81, \"duration\": 310.0}, {\"replicant\": 82, \"duration\": 1030.0}, {\"replicant\": 83, \"duration\": 1270.0}, {\"replicant\": 84, \"duration\": 1510.0}, {\"replicant\": 85, \"duration\": 190.0}, {\"replicant\": 86, \"duration\": 430.0}, {\"replicant\": 87, \"duration\": 430.0}, {\"replicant\": 88, \"duration\": 670.0}, {\"replicant\": 89, \"duration\": 190.0}, {\"replicant\": 90, \"duration\": 790.0}, {\"replicant\": 91, \"duration\": 190.0}, {\"replicant\": 92, \"duration\": 650.0}, {\"replicant\": 93, \"duration\": 310.0}, {\"replicant\": 94, \"duration\": 190.0}, {\"replicant\": 95, \"duration\": 1750.0}, {\"replicant\": 96, \"duration\": 1030.0}, {\"replicant\": 97, \"duration\": 1510.0}, {\"replicant\": 98, \"duration\": 1630.0}, {\"replicant\": 99, \"duration\": 190.0}, {\"replicant\": 100, \"duration\": 550.0}, {\"replicant\": 101, \"duration\": 1150.0}, {\"replicant\": 102, \"duration\": 790.0}, {\"replicant\": 103, \"duration\": 790.0}, {\"replicant\": 104, \"duration\": 550.0}, {\"replicant\": 105, \"duration\": 320.0}, {\"replicant\": 106, \"duration\": 1970.0}, {\"replicant\": 107, \"duration\": 190.0}, {\"replicant\": 108, \"duration\": 310.0}, {\"replicant\": 109, \"duration\": 650.0}, {\"replicant\": 110, \"duration\": 670.0}, {\"replicant\": 111, \"duration\": 1510.0}, {\"replicant\": 112, \"duration\": 910.0}, {\"replicant\": 113, \"duration\": 910.0}, {\"replicant\": 114, \"duration\": 1750.0}, {\"replicant\": 115, \"duration\": 190.0}, {\"replicant\": 116, \"duration\": 1730.0}, {\"replicant\": 117, \"duration\": 430.0}, {\"replicant\": 118, \"duration\": 430.0}, {\"replicant\": 119, \"duration\": 1280.0}, {\"replicant\": 120, \"duration\": 430.0}, {\"replicant\": 121, \"duration\": 1030.0}, {\"replicant\": 122, \"duration\": 430.0}, {\"replicant\": 123, \"duration\": 670.0}, {\"replicant\": 124, \"duration\": 190.0}, {\"replicant\": 125, \"duration\": 1030.0}, {\"replicant\": 126, \"duration\": 1270.0}, {\"replicant\": 127, \"duration\": 310.0}, {\"replicant\": 128, \"duration\": 190.0}, {\"replicant\": 129, \"duration\": 430.0}, {\"replicant\": 130, \"duration\": 310.0}, {\"replicant\": 131, \"duration\": 1630.0}, {\"replicant\": 132, \"duration\": 670.0}, {\"replicant\": 133, \"duration\": 790.0}, {\"replicant\": 134, \"duration\": 670.0}, {\"replicant\": 135, \"duration\": 190.0}, {\"replicant\": 136, \"duration\": 670.0}, {\"replicant\": 137, \"duration\": 550.0}, {\"replicant\": 138, \"duration\": 190.0}, {\"replicant\": 139, \"duration\": 3310.0}, {\"replicant\": 140, \"duration\": 310.0}, {\"replicant\": 141, \"duration\": 550.0}, {\"replicant\": 142, \"duration\": 430.0}, {\"replicant\": 143, \"duration\": 550.0}, {\"replicant\": 144, \"duration\": 430.0}, {\"replicant\": 145, \"duration\": 1630.0}, {\"replicant\": 146, \"duration\": 790.0}, {\"replicant\": 147, \"duration\": 320.0}, {\"replicant\": 148, \"duration\": 310.0}, {\"replicant\": 149, \"duration\": 550.0}, {\"replicant\": 150, \"duration\": 1150.0}, {\"replicant\": 151, \"duration\": 190.0}, {\"replicant\": 152, \"duration\": 70.0}, {\"replicant\": 153, \"duration\": 190.0}, {\"replicant\": 154, \"duration\": 70.0}, {\"replicant\": 155, \"duration\": 190.0}, {\"replicant\": 156, \"duration\": 790.0}, {\"replicant\": 157, \"duration\": 50.0}, {\"replicant\": 158, \"duration\": 430.0}, {\"replicant\": 159, \"duration\": 550.0}, {\"replicant\": 160, \"duration\": 550.0}, {\"replicant\": 161, \"duration\": 790.0}, {\"replicant\": 162, \"duration\": 50.0}, {\"replicant\": 163, \"duration\": 670.0}, {\"replicant\": 164, \"duration\": 1390.0}, {\"replicant\": 165, \"duration\": 190.0}, {\"replicant\": 166, \"duration\": 550.0}, {\"replicant\": 167, \"duration\": 310.0}, {\"replicant\": 168, \"duration\": 530.0}, {\"replicant\": 169, \"duration\": 670.0}, {\"replicant\": 170, \"duration\": 670.0}, {\"replicant\": 171, \"duration\": 190.0}, {\"replicant\": 172, \"duration\": 430.0}, {\"replicant\": 173, \"duration\": 550.0}, {\"replicant\": 174, \"duration\": 190.0}, {\"replicant\": 175, \"duration\": 1030.0}, {\"replicant\": 176, \"duration\": 290.0}, {\"replicant\": 177, \"duration\": 670.0}, {\"replicant\": 178, \"duration\": 670.0}, {\"replicant\": 179, \"duration\": 430.0}, {\"replicant\": 180, \"duration\": 910.0}, {\"replicant\": 181, \"duration\": 310.0}, {\"replicant\": 182, \"duration\": 50.0}, {\"replicant\": 183, \"duration\": 550.0}, {\"replicant\": 184, \"duration\": 310.0}, {\"replicant\": 185, \"duration\": 1870.0}, {\"replicant\": 186, \"duration\": 50.0}, {\"replicant\": 187, \"duration\": 430.0}, {\"replicant\": 188, \"duration\": 310.0}, {\"replicant\": 189, \"duration\": 170.0}, {\"replicant\": 190, \"duration\": 430.0}, {\"replicant\": 191, \"duration\": 190.0}, {\"replicant\": 192, \"duration\": 550.0}, {\"replicant\": 193, \"duration\": 430.0}, {\"replicant\": 194, \"duration\": 190.0}, {\"replicant\": 195, \"duration\": 320.0}, {\"replicant\": 196, \"duration\": 190.0}, {\"replicant\": 197, \"duration\": 170.0}, {\"replicant\": 198, \"duration\": 1270.0}, {\"replicant\": 199, \"duration\": 550.0}, {\"replicant\": 200, \"duration\": 1270.0}, {\"replicant\": 201, \"duration\": 70.0}, {\"replicant\": 202, \"duration\": 1510.0}, {\"replicant\": 203, \"duration\": 430.0}, {\"replicant\": 204, \"duration\": 80.0}, {\"replicant\": 205, \"duration\": 1990.0}, {\"replicant\": 206, \"duration\": 430.0}, {\"replicant\": 207, \"duration\": 190.0}, {\"replicant\": 208, \"duration\": 190.0}, {\"replicant\": 209, \"duration\": 190.0}, {\"replicant\": 210, \"duration\": 1150.0}, {\"replicant\": 211, \"duration\": 190.0}, {\"replicant\": 212, \"duration\": 310.0}, {\"replicant\": 213, \"duration\": 310.0}, {\"replicant\": 214, \"duration\": 70.0}, {\"replicant\": 215, \"duration\": 800.0}, {\"replicant\": 216, \"duration\": 2450.0}, {\"replicant\": 217, \"duration\": 550.0}, {\"replicant\": 218, \"duration\": 190.0}, {\"replicant\": 219, \"duration\": 80.0}, {\"replicant\": 220, \"duration\": 70.0}, {\"replicant\": 221, \"duration\": 310.0}, {\"replicant\": 222, \"duration\": 430.0}, {\"replicant\": 223, \"duration\": 910.0}, {\"replicant\": 224, \"duration\": 310.0}, {\"replicant\": 225, \"duration\": 190.0}, {\"replicant\": 226, \"duration\": 430.0}, {\"replicant\": 227, \"duration\": 310.0}, {\"replicant\": 228, \"duration\": 890.0}, {\"replicant\": 229, \"duration\": 550.0}, {\"replicant\": 230, \"duration\": 430.0}, {\"replicant\": 231, \"duration\": 310.0}, {\"replicant\": 232, \"duration\": 310.0}, {\"replicant\": 233, \"duration\": 790.0}, {\"replicant\": 234, \"duration\": 1270.0}, {\"replicant\": 235, \"duration\": 310.0}, {\"replicant\": 236, \"duration\": 70.0}, {\"replicant\": 237, \"duration\": 550.0}, {\"replicant\": 238, \"duration\": 920.0}, {\"replicant\": 239, \"duration\": 890.0}, {\"replicant\": 240, \"duration\": 770.0}, {\"replicant\": 241, \"duration\": 530.0}, {\"replicant\": 242, \"duration\": 1030.0}, {\"replicant\": 243, \"duration\": 50.0}, {\"replicant\": 244, \"duration\": 310.0}, {\"replicant\": 245, \"duration\": 70.0}, {\"replicant\": 246, \"duration\": 670.0}, {\"replicant\": 247, \"duration\": 1750.0}, {\"replicant\": 248, \"duration\": 1370.0}, {\"replicant\": 249, \"duration\": 1870.0}, {\"replicant\": 250, \"duration\": 550.0}, {\"replicant\": 251, \"duration\": 430.0}, {\"replicant\": 252, \"duration\": 310.0}, {\"replicant\": 253, \"duration\": 1040.0}, {\"replicant\": 254, \"duration\": 190.0}, {\"replicant\": 255, \"duration\": 1870.0}, {\"replicant\": 256, \"duration\": 430.0}, {\"replicant\": 257, \"duration\": 790.0}, {\"replicant\": 258, \"duration\": 70.0}, {\"replicant\": 259, \"duration\": 70.0}, {\"replicant\": 260, \"duration\": 430.0}, {\"replicant\": 261, \"duration\": 310.0}, {\"replicant\": 262, \"duration\": 320.0}, {\"replicant\": 263, \"duration\": 770.0}, {\"replicant\": 264, \"duration\": 70.0}, {\"replicant\": 265, \"duration\": 70.0}, {\"replicant\": 266, \"duration\": 190.0}, {\"replicant\": 267, \"duration\": 310.0}, {\"replicant\": 268, \"duration\": 670.0}, {\"replicant\": 269, \"duration\": 670.0}, {\"replicant\": 270, \"duration\": 440.0}, {\"replicant\": 271, \"duration\": 70.0}, {\"replicant\": 272, \"duration\": 650.0}, {\"replicant\": 273, \"duration\": 1270.0}, {\"replicant\": 274, \"duration\": 890.0}, {\"replicant\": 275, \"duration\": 310.0}, {\"replicant\": 276, \"duration\": 790.0}, {\"replicant\": 277, \"duration\": 670.0}, {\"replicant\": 278, \"duration\": 910.0}, {\"replicant\": 279, \"duration\": 550.0}, {\"replicant\": 280, \"duration\": 890.0}, {\"replicant\": 281, \"duration\": 790.0}, {\"replicant\": 282, \"duration\": 430.0}, {\"replicant\": 283, \"duration\": 190.0}, {\"replicant\": 284, \"duration\": 70.0}, {\"replicant\": 285, \"duration\": 430.0}, {\"replicant\": 286, \"duration\": 430.0}, {\"replicant\": 287, \"duration\": 550.0}, {\"replicant\": 288, \"duration\": 440.0}, {\"replicant\": 289, \"duration\": 1150.0}, {\"replicant\": 290, \"duration\": 910.0}, {\"replicant\": 291, \"duration\": 550.0}, {\"replicant\": 292, \"duration\": 80.0}, {\"replicant\": 293, \"duration\": 2110.0}, {\"replicant\": 294, \"duration\": 670.0}, {\"replicant\": 295, \"duration\": 190.0}, {\"replicant\": 296, \"duration\": 430.0}, {\"replicant\": 297, \"duration\": 1030.0}, {\"replicant\": 298, \"duration\": 550.0}, {\"replicant\": 299, \"duration\": 190.0}, {\"replicant\": 300, \"duration\": 290.0}, {\"replicant\": 301, \"duration\": 310.0}, {\"replicant\": 302, \"duration\": 1270.0}, {\"replicant\": 303, \"duration\": 670.0}, {\"replicant\": 304, \"duration\": 310.0}, {\"replicant\": 305, \"duration\": 670.0}, {\"replicant\": 306, \"duration\": 190.0}, {\"replicant\": 307, \"duration\": 70.0}, {\"replicant\": 308, \"duration\": 430.0}, {\"replicant\": 309, \"duration\": 430.0}, {\"replicant\": 310, \"duration\": 790.0}, {\"replicant\": 311, \"duration\": 550.0}, {\"replicant\": 312, \"duration\": 430.0}, {\"replicant\": 313, \"duration\": 550.0}, {\"replicant\": 314, \"duration\": 310.0}, {\"replicant\": 315, \"duration\": 1390.0}, {\"replicant\": 316, \"duration\": 670.0}, {\"replicant\": 317, \"duration\": 530.0}, {\"replicant\": 318, \"duration\": 910.0}, {\"replicant\": 319, \"duration\": 190.0}, {\"replicant\": 320, \"duration\": 170.0}, {\"replicant\": 321, \"duration\": 670.0}, {\"replicant\": 322, \"duration\": 1750.0}, {\"replicant\": 323, \"duration\": 430.0}, {\"replicant\": 324, \"duration\": 910.0}, {\"replicant\": 325, \"duration\": 170.0}, {\"replicant\": 326, \"duration\": 50.0}, {\"replicant\": 327, \"duration\": 410.0}, {\"replicant\": 328, \"duration\": 680.0}, {\"replicant\": 329, \"duration\": 70.0}, {\"replicant\": 330, \"duration\": 80.0}, {\"replicant\": 331, \"duration\": 310.0}, {\"replicant\": 332, \"duration\": 310.0}, {\"replicant\": 333, \"duration\": 430.0}, {\"replicant\": 334, \"duration\": 550.0}, {\"replicant\": 335, \"duration\": 1390.0}, {\"replicant\": 336, \"duration\": 550.0}, {\"replicant\": 337, \"duration\": 430.0}, {\"replicant\": 338, \"duration\": 310.0}, {\"replicant\": 339, \"duration\": 190.0}, {\"replicant\": 340, \"duration\": 670.0}, {\"replicant\": 341, \"duration\": 170.0}, {\"replicant\": 342, \"duration\": 430.0}, {\"replicant\": 343, \"duration\": 430.0}, {\"replicant\": 344, \"duration\": 190.0}, {\"replicant\": 345, \"duration\": 1030.0}, {\"replicant\": 346, \"duration\": 170.0}, {\"replicant\": 347, \"duration\": 550.0}, {\"replicant\": 348, \"duration\": 550.0}, {\"replicant\": 349, \"duration\": 550.0}, {\"replicant\": 350, \"duration\": 310.0}, {\"replicant\": 351, \"duration\": 310.0}, {\"replicant\": 352, \"duration\": 1630.0}, {\"replicant\": 353, \"duration\": 550.0}, {\"replicant\": 354, \"duration\": 550.0}, {\"replicant\": 355, \"duration\": 430.0}, {\"replicant\": 356, \"duration\": 310.0}, {\"replicant\": 357, \"duration\": 430.0}, {\"replicant\": 358, \"duration\": 1270.0}, {\"replicant\": 359, \"duration\": 310.0}, {\"replicant\": 360, \"duration\": 1510.0}, {\"replicant\": 361, \"duration\": 170.0}, {\"replicant\": 362, \"duration\": 310.0}, {\"replicant\": 363, \"duration\": 190.0}, {\"replicant\": 364, \"duration\": 3310.0}, {\"replicant\": 365, \"duration\": 910.0}, {\"replicant\": 366, \"duration\": 310.0}, {\"replicant\": 367, \"duration\": 190.0}, {\"replicant\": 368, \"duration\": 190.0}, {\"replicant\": 369, \"duration\": 310.0}, {\"replicant\": 370, \"duration\": 80.0}, {\"replicant\": 371, \"duration\": 190.0}, {\"replicant\": 372, \"duration\": 190.0}, {\"replicant\": 373, \"duration\": 190.0}, {\"replicant\": 374, \"duration\": 80.0}, {\"replicant\": 375, \"duration\": 1150.0}, {\"replicant\": 376, \"duration\": 670.0}, {\"replicant\": 377, \"duration\": 910.0}, {\"replicant\": 378, \"duration\": 310.0}, {\"replicant\": 379, \"duration\": 310.0}, {\"replicant\": 380, \"duration\": 430.0}, {\"replicant\": 381, \"duration\": 670.0}, {\"replicant\": 382, \"duration\": 790.0}, {\"replicant\": 383, \"duration\": 310.0}, {\"replicant\": 384, \"duration\": 550.0}, {\"replicant\": 385, \"duration\": 550.0}, {\"replicant\": 386, \"duration\": 670.0}, {\"replicant\": 387, \"duration\": 910.0}, {\"replicant\": 388, \"duration\": 1270.0}, {\"replicant\": 389, \"duration\": 190.0}, {\"replicant\": 390, \"duration\": 1270.0}, {\"replicant\": 391, \"duration\": 430.0}, {\"replicant\": 392, \"duration\": 70.0}, {\"replicant\": 393, \"duration\": 770.0}, {\"replicant\": 394, \"duration\": 190.0}, {\"replicant\": 395, \"duration\": 550.0}, {\"replicant\": 396, \"duration\": 550.0}, {\"replicant\": 397, \"duration\": 190.0}, {\"replicant\": 398, \"duration\": 670.0}, {\"replicant\": 399, \"duration\": 310.0}, {\"replicant\": 400, \"duration\": 190.0}, {\"replicant\": 401, \"duration\": 1030.0}, {\"replicant\": 402, \"duration\": 910.0}, {\"replicant\": 403, \"duration\": 430.0}, {\"replicant\": 404, \"duration\": 190.0}, {\"replicant\": 405, \"duration\": 1270.0}, {\"replicant\": 406, \"duration\": 190.0}, {\"replicant\": 407, \"duration\": 910.0}, {\"replicant\": 408, \"duration\": 310.0}, {\"replicant\": 409, \"duration\": 70.0}, {\"replicant\": 410, \"duration\": 70.0}, {\"replicant\": 411, \"duration\": 290.0}, {\"replicant\": 412, \"duration\": 1030.0}, {\"replicant\": 413, \"duration\": 430.0}, {\"replicant\": 414, \"duration\": 310.0}, {\"replicant\": 415, \"duration\": 1270.0}, {\"replicant\": 416, \"duration\": 440.0}, {\"replicant\": 417, \"duration\": 190.0}, {\"replicant\": 418, \"duration\": 1760.0}, {\"replicant\": 419, \"duration\": 1270.0}, {\"replicant\": 420, \"duration\": 790.0}, {\"replicant\": 421, \"duration\": 310.0}, {\"replicant\": 422, \"duration\": 670.0}, {\"replicant\": 423, \"duration\": 1030.0}, {\"replicant\": 424, \"duration\": 50.0}, {\"replicant\": 425, \"duration\": 910.0}, {\"replicant\": 426, \"duration\": 910.0}, {\"replicant\": 427, \"duration\": 1030.0}, {\"replicant\": 428, \"duration\": 190.0}, {\"replicant\": 429, \"duration\": 430.0}, {\"replicant\": 430, \"duration\": 670.0}, {\"replicant\": 431, \"duration\": 670.0}, {\"replicant\": 432, \"duration\": 50.0}, {\"replicant\": 433, \"duration\": 790.0}, {\"replicant\": 434, \"duration\": 430.0}, {\"replicant\": 435, \"duration\": 430.0}, {\"replicant\": 436, \"duration\": 670.0}, {\"replicant\": 437, \"duration\": 790.0}, {\"replicant\": 438, \"duration\": 190.0}, {\"replicant\": 439, \"duration\": 790.0}, {\"replicant\": 440, \"duration\": 310.0}, {\"replicant\": 441, \"duration\": 430.0}, {\"replicant\": 442, \"duration\": 790.0}, {\"replicant\": 443, \"duration\": 790.0}, {\"replicant\": 444, \"duration\": 1030.0}, {\"replicant\": 445, \"duration\": 910.0}, {\"replicant\": 446, \"duration\": 1030.0}, {\"replicant\": 447, \"duration\": 1390.0}, {\"replicant\": 448, \"duration\": 1630.0}, {\"replicant\": 449, \"duration\": 430.0}, {\"replicant\": 450, \"duration\": 920.0}, {\"replicant\": 451, \"duration\": 1280.0}, {\"replicant\": 452, \"duration\": 430.0}, {\"replicant\": 453, \"duration\": 190.0}, {\"replicant\": 454, \"duration\": 1130.0}, {\"replicant\": 455, \"duration\": 310.0}, {\"replicant\": 456, \"duration\": 650.0}, {\"replicant\": 457, \"duration\": 1390.0}, {\"replicant\": 458, \"duration\": 70.0}, {\"replicant\": 459, \"duration\": 1270.0}, {\"replicant\": 460, \"duration\": 50.0}, {\"replicant\": 461, \"duration\": 550.0}, {\"replicant\": 462, \"duration\": 770.0}, {\"replicant\": 463, \"duration\": 550.0}, {\"replicant\": 464, \"duration\": 1390.0}, {\"replicant\": 465, \"duration\": 310.0}, {\"replicant\": 466, \"duration\": 310.0}, {\"replicant\": 467, \"duration\": 790.0}, {\"replicant\": 468, \"duration\": 430.0}, {\"replicant\": 469, \"duration\": 70.0}, {\"replicant\": 470, \"duration\": 310.0}, {\"replicant\": 471, \"duration\": 1390.0}, {\"replicant\": 472, \"duration\": 430.0}, {\"replicant\": 473, \"duration\": 190.0}, {\"replicant\": 474, \"duration\": 310.0}, {\"replicant\": 475, \"duration\": 430.0}, {\"replicant\": 476, \"duration\": 790.0}, {\"replicant\": 477, \"duration\": 1150.0}, {\"replicant\": 478, \"duration\": 190.0}, {\"replicant\": 479, \"duration\": 910.0}, {\"replicant\": 480, \"duration\": 190.0}, {\"replicant\": 481, \"duration\": 430.0}, {\"replicant\": 482, \"duration\": 290.0}, {\"replicant\": 483, \"duration\": 310.0}, {\"replicant\": 484, \"duration\": 2110.0}, {\"replicant\": 485, \"duration\": 70.0}, {\"replicant\": 486, \"duration\": 70.0}, {\"replicant\": 487, \"duration\": 910.0}, {\"replicant\": 488, \"duration\": 190.0}, {\"replicant\": 489, \"duration\": 310.0}, {\"replicant\": 490, \"duration\": 1030.0}, {\"replicant\": 491, \"duration\": 190.0}, {\"replicant\": 492, \"duration\": 1390.0}, {\"replicant\": 493, \"duration\": 310.0}, {\"replicant\": 494, \"duration\": 770.0}, {\"replicant\": 495, \"duration\": 190.0}, {\"replicant\": 496, \"duration\": 890.0}, {\"replicant\": 497, \"duration\": 430.0}, {\"replicant\": 498, \"duration\": 310.0}, {\"replicant\": 499, \"duration\": 190.0}, {\"replicant\": 500, \"duration\": 550.0}, {\"replicant\": 501, \"duration\": 1030.0}, {\"replicant\": 502, \"duration\": 790.0}, {\"replicant\": 503, \"duration\": 190.0}, {\"replicant\": 504, \"duration\": 70.0}, {\"replicant\": 505, \"duration\": 190.0}, {\"replicant\": 506, \"duration\": 550.0}, {\"replicant\": 507, \"duration\": 770.0}, {\"replicant\": 508, \"duration\": 430.0}, {\"replicant\": 509, \"duration\": 310.0}, {\"replicant\": 510, \"duration\": 190.0}, {\"replicant\": 511, \"duration\": 1030.0}, {\"replicant\": 512, \"duration\": 310.0}, {\"replicant\": 513, \"duration\": 430.0}, {\"replicant\": 514, \"duration\": 200.0}, {\"replicant\": 515, \"duration\": 310.0}, {\"replicant\": 516, \"duration\": 910.0}, {\"replicant\": 517, \"duration\": 70.0}, {\"replicant\": 518, \"duration\": 1030.0}, {\"replicant\": 519, \"duration\": 190.0}, {\"replicant\": 520, \"duration\": 200.0}, {\"replicant\": 521, \"duration\": 310.0}, {\"replicant\": 522, \"duration\": 430.0}, {\"replicant\": 523, \"duration\": 1030.0}, {\"replicant\": 524, \"duration\": 670.0}, {\"replicant\": 525, \"duration\": 70.0}, {\"replicant\": 526, \"duration\": 790.0}, {\"replicant\": 527, \"duration\": 50.0}, {\"replicant\": 528, \"duration\": 190.0}, {\"replicant\": 529, \"duration\": 2480.0}, {\"replicant\": 530, \"duration\": 190.0}, {\"replicant\": 531, \"duration\": 550.0}, {\"replicant\": 532, \"duration\": 910.0}, {\"replicant\": 533, \"duration\": 310.0}, {\"replicant\": 534, \"duration\": 200.0}, {\"replicant\": 535, \"duration\": 70.0}, {\"replicant\": 536, \"duration\": 550.0}, {\"replicant\": 537, \"duration\": 670.0}, {\"replicant\": 538, \"duration\": 790.0}, {\"replicant\": 539, \"duration\": 50.0}, {\"replicant\": 540, \"duration\": 670.0}, {\"replicant\": 541, \"duration\": 1270.0}, {\"replicant\": 542, \"duration\": 190.0}, {\"replicant\": 543, \"duration\": 560.0}, {\"replicant\": 544, \"duration\": 790.0}, {\"replicant\": 545, \"duration\": 190.0}, {\"replicant\": 546, \"duration\": 1390.0}, {\"replicant\": 547, \"duration\": 790.0}, {\"replicant\": 548, \"duration\": 2230.0}, {\"replicant\": 549, \"duration\": 1030.0}, {\"replicant\": 550, \"duration\": 190.0}, {\"replicant\": 551, \"duration\": 190.0}, {\"replicant\": 552, \"duration\": 430.0}, {\"replicant\": 553, \"duration\": 190.0}, {\"replicant\": 554, \"duration\": 790.0}, {\"replicant\": 555, \"duration\": 790.0}, {\"replicant\": 556, \"duration\": 670.0}, {\"replicant\": 557, \"duration\": 310.0}, {\"replicant\": 558, \"duration\": 670.0}, {\"replicant\": 559, \"duration\": 310.0}, {\"replicant\": 560, \"duration\": 1150.0}, {\"replicant\": 561, \"duration\": 190.0}, {\"replicant\": 562, \"duration\": 430.0}, {\"replicant\": 563, \"duration\": 430.0}, {\"replicant\": 564, \"duration\": 190.0}, {\"replicant\": 565, \"duration\": 190.0}, {\"replicant\": 566, \"duration\": 190.0}, {\"replicant\": 567, \"duration\": 1030.0}, {\"replicant\": 568, \"duration\": 190.0}, {\"replicant\": 569, \"duration\": 1160.0}, {\"replicant\": 570, \"duration\": 290.0}, {\"replicant\": 571, \"duration\": 190.0}, {\"replicant\": 572, \"duration\": 430.0}, {\"replicant\": 573, \"duration\": 310.0}, {\"replicant\": 574, \"duration\": 430.0}, {\"replicant\": 575, \"duration\": 200.0}, {\"replicant\": 576, \"duration\": 670.0}, {\"replicant\": 577, \"duration\": 670.0}, {\"replicant\": 578, \"duration\": 1040.0}, {\"replicant\": 579, \"duration\": 550.0}, {\"replicant\": 580, \"duration\": 1970.0}, {\"replicant\": 581, \"duration\": 190.0}, {\"replicant\": 582, \"duration\": 910.0}, {\"replicant\": 583, \"duration\": 430.0}, {\"replicant\": 584, \"duration\": 790.0}, {\"replicant\": 585, \"duration\": 430.0}, {\"replicant\": 586, \"duration\": 310.0}, {\"replicant\": 587, \"duration\": 190.0}, {\"replicant\": 588, \"duration\": 190.0}, {\"replicant\": 589, \"duration\": 410.0}, {\"replicant\": 590, \"duration\": 550.0}, {\"replicant\": 591, \"duration\": 430.0}, {\"replicant\": 592, \"duration\": 70.0}, {\"replicant\": 593, \"duration\": 1630.0}, {\"replicant\": 594, \"duration\": 550.0}, {\"replicant\": 595, \"duration\": 190.0}, {\"replicant\": 596, \"duration\": 190.0}, {\"replicant\": 597, \"duration\": 290.0}, {\"replicant\": 598, \"duration\": 320.0}, {\"replicant\": 599, \"duration\": 1760.0}, {\"replicant\": 600, \"duration\": 790.0}, {\"replicant\": 601, \"duration\": 50.0}, {\"replicant\": 602, \"duration\": 310.0}, {\"replicant\": 603, \"duration\": 1510.0}, {\"replicant\": 604, \"duration\": 1870.0}, {\"replicant\": 605, \"duration\": 530.0}, {\"replicant\": 606, \"duration\": 70.0}, {\"replicant\": 607, \"duration\": 190.0}, {\"replicant\": 608, \"duration\": 70.0}, {\"replicant\": 609, \"duration\": 670.0}, {\"replicant\": 610, \"duration\": 310.0}, {\"replicant\": 611, \"duration\": 190.0}, {\"replicant\": 612, \"duration\": 680.0}, {\"replicant\": 613, \"duration\": 310.0}, {\"replicant\": 614, \"duration\": 310.0}, {\"replicant\": 615, \"duration\": 410.0}, {\"replicant\": 616, \"duration\": 190.0}, {\"replicant\": 617, \"duration\": 1270.0}, {\"replicant\": 618, \"duration\": 910.0}, {\"replicant\": 619, \"duration\": 1630.0}, {\"replicant\": 620, \"duration\": 1010.0}, {\"replicant\": 621, \"duration\": 290.0}, {\"replicant\": 622, \"duration\": 790.0}, {\"replicant\": 623, \"duration\": 430.0}, {\"replicant\": 624, \"duration\": 310.0}, {\"replicant\": 625, \"duration\": 790.0}, {\"replicant\": 626, \"duration\": 2830.0}, {\"replicant\": 627, \"duration\": 190.0}, {\"replicant\": 628, \"duration\": 80.0}, {\"replicant\": 629, \"duration\": 190.0}, {\"replicant\": 630, \"duration\": 530.0}, {\"replicant\": 631, \"duration\": 190.0}, {\"replicant\": 632, \"duration\": 190.0}, {\"replicant\": 633, \"duration\": 2930.0}, {\"replicant\": 634, \"duration\": 190.0}, {\"replicant\": 635, \"duration\": 440.0}, {\"replicant\": 636, \"duration\": 290.0}, {\"replicant\": 637, \"duration\": 560.0}, {\"replicant\": 638, \"duration\": 910.0}, {\"replicant\": 639, \"duration\": 170.0}, {\"replicant\": 640, \"duration\": 190.0}, {\"replicant\": 641, \"duration\": 190.0}, {\"replicant\": 642, \"duration\": 190.0}, {\"replicant\": 643, \"duration\": 790.0}, {\"replicant\": 644, \"duration\": 290.0}, {\"replicant\": 645, \"duration\": 170.0}, {\"replicant\": 646, \"duration\": 310.0}, {\"replicant\": 647, \"duration\": 790.0}, {\"replicant\": 648, \"duration\": 50.0}, {\"replicant\": 649, \"duration\": 170.0}, {\"replicant\": 650, \"duration\": 910.0}, {\"replicant\": 651, \"duration\": 1750.0}, {\"replicant\": 652, \"duration\": 80.0}, {\"replicant\": 653, \"duration\": 790.0}, {\"replicant\": 654, \"duration\": 1270.0}, {\"replicant\": 655, \"duration\": 190.0}, {\"replicant\": 656, \"duration\": 550.0}, {\"replicant\": 657, \"duration\": 910.0}, {\"replicant\": 658, \"duration\": 910.0}, {\"replicant\": 659, \"duration\": 1150.0}, {\"replicant\": 660, \"duration\": 2930.0}, {\"replicant\": 661, \"duration\": 1150.0}, {\"replicant\": 662, \"duration\": 70.0}, {\"replicant\": 663, \"duration\": 430.0}, {\"replicant\": 664, \"duration\": 550.0}, {\"replicant\": 665, \"duration\": 1270.0}, {\"replicant\": 666, \"duration\": 910.0}, {\"replicant\": 667, \"duration\": 310.0}, {\"replicant\": 668, \"duration\": 190.0}, {\"replicant\": 669, \"duration\": 550.0}, {\"replicant\": 670, \"duration\": 1030.0}, {\"replicant\": 671, \"duration\": 650.0}, {\"replicant\": 672, \"duration\": 190.0}, {\"replicant\": 673, \"duration\": 190.0}, {\"replicant\": 674, \"duration\": 550.0}, {\"replicant\": 675, \"duration\": 190.0}, {\"replicant\": 676, \"duration\": 910.0}, {\"replicant\": 677, \"duration\": 800.0}, {\"replicant\": 678, \"duration\": 310.0}, {\"replicant\": 679, \"duration\": 190.0}, {\"replicant\": 680, \"duration\": 1150.0}, {\"replicant\": 681, \"duration\": 200.0}, {\"replicant\": 682, \"duration\": 190.0}, {\"replicant\": 683, \"duration\": 890.0}, {\"replicant\": 684, \"duration\": 550.0}, {\"replicant\": 685, \"duration\": 1030.0}, {\"replicant\": 686, \"duration\": 1870.0}, {\"replicant\": 687, \"duration\": 430.0}, {\"replicant\": 688, \"duration\": 80.0}, {\"replicant\": 689, \"duration\": 310.0}, {\"replicant\": 690, \"duration\": 530.0}, {\"replicant\": 691, \"duration\": 670.0}, {\"replicant\": 692, \"duration\": 430.0}, {\"replicant\": 693, \"duration\": 190.0}, {\"replicant\": 694, \"duration\": 70.0}, {\"replicant\": 695, \"duration\": 310.0}, {\"replicant\": 696, \"duration\": 310.0}, {\"replicant\": 697, \"duration\": 560.0}, {\"replicant\": 698, \"duration\": 550.0}, {\"replicant\": 699, \"duration\": 190.0}, {\"replicant\": 700, \"duration\": 430.0}, {\"replicant\": 701, \"duration\": 190.0}, {\"replicant\": 702, \"duration\": 1520.0}, {\"replicant\": 703, \"duration\": 1030.0}, {\"replicant\": 704, \"duration\": 430.0}, {\"replicant\": 705, \"duration\": 430.0}, {\"replicant\": 706, \"duration\": 310.0}, {\"replicant\": 707, \"duration\": 70.0}, {\"replicant\": 708, \"duration\": 530.0}, {\"replicant\": 709, \"duration\": 1270.0}, {\"replicant\": 710, \"duration\": 1510.0}, {\"replicant\": 711, \"duration\": 910.0}, {\"replicant\": 712, \"duration\": 550.0}, {\"replicant\": 713, \"duration\": 430.0}, {\"replicant\": 714, \"duration\": 430.0}, {\"replicant\": 715, \"duration\": 190.0}, {\"replicant\": 716, \"duration\": 3310.0}, {\"replicant\": 717, \"duration\": 430.0}, {\"replicant\": 718, \"duration\": 790.0}, {\"replicant\": 719, \"duration\": 310.0}, {\"replicant\": 720, \"duration\": 310.0}, {\"replicant\": 721, \"duration\": 550.0}, {\"replicant\": 722, \"duration\": 310.0}, {\"replicant\": 723, \"duration\": 190.0}, {\"replicant\": 724, \"duration\": 310.0}, {\"replicant\": 725, \"duration\": 1630.0}, {\"replicant\": 726, \"duration\": 190.0}, {\"replicant\": 727, \"duration\": 200.0}, {\"replicant\": 728, \"duration\": 1510.0}, {\"replicant\": 729, \"duration\": 1270.0}, {\"replicant\": 730, \"duration\": 550.0}, {\"replicant\": 731, \"duration\": 550.0}, {\"replicant\": 732, \"duration\": 790.0}, {\"replicant\": 733, \"duration\": 430.0}, {\"replicant\": 734, \"duration\": 910.0}, {\"replicant\": 735, \"duration\": 310.0}, {\"replicant\": 736, \"duration\": 1010.0}, {\"replicant\": 737, \"duration\": 310.0}, {\"replicant\": 738, \"duration\": 430.0}, {\"replicant\": 739, \"duration\": 550.0}, {\"replicant\": 740, \"duration\": 550.0}, {\"replicant\": 741, \"duration\": 530.0}, {\"replicant\": 742, \"duration\": 430.0}, {\"replicant\": 743, \"duration\": 430.0}, {\"replicant\": 744, \"duration\": 1510.0}, {\"replicant\": 745, \"duration\": 1270.0}, {\"replicant\": 746, \"duration\": 50.0}, {\"replicant\": 747, \"duration\": 670.0}, {\"replicant\": 748, \"duration\": 80.0}, {\"replicant\": 749, \"duration\": 190.0}, {\"replicant\": 750, \"duration\": 320.0}, {\"replicant\": 751, \"duration\": 190.0}, {\"replicant\": 752, \"duration\": 790.0}, {\"replicant\": 753, \"duration\": 670.0}, {\"replicant\": 754, \"duration\": 320.0}, {\"replicant\": 755, \"duration\": 190.0}, {\"replicant\": 756, \"duration\": 550.0}, {\"replicant\": 757, \"duration\": 70.0}, {\"replicant\": 758, \"duration\": 190.0}, {\"replicant\": 759, \"duration\": 670.0}, {\"replicant\": 760, \"duration\": 790.0}, {\"replicant\": 761, \"duration\": 310.0}, {\"replicant\": 762, \"duration\": 1520.0}, {\"replicant\": 763, \"duration\": 550.0}, {\"replicant\": 764, \"duration\": 1510.0}, {\"replicant\": 765, \"duration\": 1030.0}, {\"replicant\": 766, \"duration\": 430.0}, {\"replicant\": 767, \"duration\": 1150.0}, {\"replicant\": 768, \"duration\": 290.0}, {\"replicant\": 769, \"duration\": 430.0}, {\"replicant\": 770, \"duration\": 910.0}, {\"replicant\": 771, \"duration\": 1250.0}, {\"replicant\": 772, \"duration\": 1150.0}, {\"replicant\": 773, \"duration\": 1390.0}, {\"replicant\": 774, \"duration\": 320.0}, {\"replicant\": 775, \"duration\": 550.0}, {\"replicant\": 776, \"duration\": 560.0}, {\"replicant\": 777, \"duration\": 1030.0}, {\"replicant\": 778, \"duration\": 430.0}, {\"replicant\": 779, \"duration\": 1750.0}, {\"replicant\": 780, \"duration\": 670.0}, {\"replicant\": 781, \"duration\": 320.0}, {\"replicant\": 782, \"duration\": 1390.0}, {\"replicant\": 783, \"duration\": 170.0}, {\"replicant\": 784, \"duration\": 430.0}, {\"replicant\": 785, \"duration\": 1030.0}, {\"replicant\": 786, \"duration\": 170.0}, {\"replicant\": 787, \"duration\": 550.0}, {\"replicant\": 788, \"duration\": 670.0}, {\"replicant\": 789, \"duration\": 190.0}, {\"replicant\": 790, \"duration\": 190.0}, {\"replicant\": 791, \"duration\": 1510.0}, {\"replicant\": 792, \"duration\": 670.0}, {\"replicant\": 793, \"duration\": 70.0}, {\"replicant\": 794, \"duration\": 310.0}, {\"replicant\": 795, \"duration\": 190.0}, {\"replicant\": 796, \"duration\": 310.0}, {\"replicant\": 797, \"duration\": 190.0}, {\"replicant\": 798, \"duration\": 910.0}, {\"replicant\": 799, \"duration\": 190.0}, {\"replicant\": 800, \"duration\": 890.0}, {\"replicant\": 801, \"duration\": 910.0}, {\"replicant\": 802, \"duration\": 310.0}, {\"replicant\": 803, \"duration\": 550.0}, {\"replicant\": 804, \"duration\": 310.0}, {\"replicant\": 805, \"duration\": 310.0}, {\"replicant\": 806, \"duration\": 1610.0}, {\"replicant\": 807, \"duration\": 1270.0}, {\"replicant\": 808, \"duration\": 190.0}, {\"replicant\": 809, \"duration\": 550.0}, {\"replicant\": 810, \"duration\": 3910.0}, {\"replicant\": 811, \"duration\": 670.0}, {\"replicant\": 812, \"duration\": 430.0}, {\"replicant\": 813, \"duration\": 550.0}, {\"replicant\": 814, \"duration\": 190.0}, {\"replicant\": 815, \"duration\": 550.0}, {\"replicant\": 816, \"duration\": 430.0}, {\"replicant\": 817, \"duration\": 50.0}, {\"replicant\": 818, \"duration\": 790.0}, {\"replicant\": 819, \"duration\": 430.0}, {\"replicant\": 820, \"duration\": 200.0}, {\"replicant\": 821, \"duration\": 670.0}, {\"replicant\": 822, \"duration\": 310.0}, {\"replicant\": 823, \"duration\": 430.0}, {\"replicant\": 824, \"duration\": 320.0}, {\"replicant\": 825, \"duration\": 310.0}, {\"replicant\": 826, \"duration\": 1270.0}, {\"replicant\": 827, \"duration\": 190.0}, {\"replicant\": 828, \"duration\": 670.0}, {\"replicant\": 829, \"duration\": 310.0}, {\"replicant\": 830, \"duration\": 190.0}, {\"replicant\": 831, \"duration\": 550.0}, {\"replicant\": 832, \"duration\": 70.0}, {\"replicant\": 833, \"duration\": 310.0}, {\"replicant\": 834, \"duration\": 1010.0}, {\"replicant\": 835, \"duration\": 190.0}, {\"replicant\": 836, \"duration\": 550.0}, {\"replicant\": 837, \"duration\": 430.0}, {\"replicant\": 838, \"duration\": 190.0}, {\"replicant\": 839, \"duration\": 190.0}, {\"replicant\": 840, \"duration\": 1270.0}, {\"replicant\": 841, \"duration\": 920.0}, {\"replicant\": 842, \"duration\": 70.0}, {\"replicant\": 843, \"duration\": 70.0}, {\"replicant\": 844, \"duration\": 310.0}, {\"replicant\": 845, \"duration\": 310.0}, {\"replicant\": 846, \"duration\": 1630.0}, {\"replicant\": 847, \"duration\": 910.0}, {\"replicant\": 848, \"duration\": 440.0}, {\"replicant\": 849, \"duration\": 50.0}, {\"replicant\": 850, \"duration\": 550.0}, {\"replicant\": 851, \"duration\": 550.0}, {\"replicant\": 852, \"duration\": 670.0}, {\"replicant\": 853, \"duration\": 190.0}, {\"replicant\": 854, \"duration\": 1040.0}, {\"replicant\": 855, \"duration\": 190.0}, {\"replicant\": 856, \"duration\": 2230.0}, {\"replicant\": 857, \"duration\": 290.0}, {\"replicant\": 858, \"duration\": 320.0}, {\"replicant\": 859, \"duration\": 1750.0}, {\"replicant\": 860, \"duration\": 190.0}, {\"replicant\": 861, \"duration\": 430.0}, {\"replicant\": 862, \"duration\": 1030.0}, {\"replicant\": 863, \"duration\": 80.0}, {\"replicant\": 864, \"duration\": 310.0}, {\"replicant\": 865, \"duration\": 310.0}, {\"replicant\": 866, \"duration\": 310.0}, {\"replicant\": 867, \"duration\": 550.0}, {\"replicant\": 868, \"duration\": 190.0}, {\"replicant\": 869, \"duration\": 550.0}, {\"replicant\": 870, \"duration\": 1270.0}, {\"replicant\": 871, \"duration\": 2710.0}, {\"replicant\": 872, \"duration\": 190.0}, {\"replicant\": 873, \"duration\": 310.0}, {\"replicant\": 874, \"duration\": 80.0}, {\"replicant\": 875, \"duration\": 1030.0}, {\"replicant\": 876, \"duration\": 190.0}, {\"replicant\": 877, \"duration\": 190.0}, {\"replicant\": 878, \"duration\": 50.0}, {\"replicant\": 879, \"duration\": 70.0}, {\"replicant\": 880, \"duration\": 190.0}, {\"replicant\": 881, \"duration\": 430.0}, {\"replicant\": 882, \"duration\": 190.0}, {\"replicant\": 883, \"duration\": 910.0}, {\"replicant\": 884, \"duration\": 550.0}, {\"replicant\": 885, \"duration\": 430.0}, {\"replicant\": 886, \"duration\": 670.0}, {\"replicant\": 887, \"duration\": 190.0}, {\"replicant\": 888, \"duration\": 430.0}, {\"replicant\": 889, \"duration\": 1150.0}, {\"replicant\": 890, \"duration\": 1390.0}, {\"replicant\": 891, \"duration\": 190.0}, {\"replicant\": 892, \"duration\": 910.0}, {\"replicant\": 893, \"duration\": 550.0}, {\"replicant\": 894, \"duration\": 290.0}, {\"replicant\": 895, \"duration\": 310.0}, {\"replicant\": 896, \"duration\": 170.0}, {\"replicant\": 897, \"duration\": 1750.0}, {\"replicant\": 898, \"duration\": 50.0}, {\"replicant\": 899, \"duration\": 430.0}, {\"replicant\": 900, \"duration\": 790.0}, {\"replicant\": 901, \"duration\": 770.0}, {\"replicant\": 902, \"duration\": 550.0}, {\"replicant\": 903, \"duration\": 190.0}, {\"replicant\": 904, \"duration\": 310.0}, {\"replicant\": 905, \"duration\": 310.0}, {\"replicant\": 906, \"duration\": 310.0}, {\"replicant\": 907, \"duration\": 1030.0}, {\"replicant\": 908, \"duration\": 190.0}, {\"replicant\": 909, \"duration\": 190.0}, {\"replicant\": 910, \"duration\": 650.0}, {\"replicant\": 911, \"duration\": 670.0}, {\"replicant\": 912, \"duration\": 190.0}, {\"replicant\": 913, \"duration\": 1850.0}, {\"replicant\": 914, \"duration\": 430.0}, {\"replicant\": 915, \"duration\": 550.0}, {\"replicant\": 916, \"duration\": 1730.0}, {\"replicant\": 917, \"duration\": 310.0}, {\"replicant\": 918, \"duration\": 790.0}, {\"replicant\": 919, \"duration\": 790.0}, {\"replicant\": 920, \"duration\": 1730.0}, {\"replicant\": 921, \"duration\": 190.0}, {\"replicant\": 922, \"duration\": 190.0}, {\"replicant\": 923, \"duration\": 1390.0}, {\"replicant\": 924, \"duration\": 190.0}, {\"replicant\": 925, \"duration\": 2950.0}, {\"replicant\": 926, \"duration\": 910.0}, {\"replicant\": 927, \"duration\": 290.0}, {\"replicant\": 928, \"duration\": 550.0}, {\"replicant\": 929, \"duration\": 920.0}, {\"replicant\": 930, \"duration\": 190.0}, {\"replicant\": 931, \"duration\": 1390.0}, {\"replicant\": 932, \"duration\": 310.0}, {\"replicant\": 933, \"duration\": 680.0}, {\"replicant\": 934, \"duration\": 50.0}, {\"replicant\": 935, \"duration\": 440.0}, {\"replicant\": 936, \"duration\": 190.0}, {\"replicant\": 937, \"duration\": 550.0}, {\"replicant\": 938, \"duration\": 670.0}, {\"replicant\": 939, \"duration\": 1150.0}, {\"replicant\": 940, \"duration\": 310.0}, {\"replicant\": 941, \"duration\": 50.0}, {\"replicant\": 942, \"duration\": 430.0}, {\"replicant\": 943, \"duration\": 1630.0}, {\"replicant\": 944, \"duration\": 1150.0}, {\"replicant\": 945, \"duration\": 530.0}, {\"replicant\": 946, \"duration\": 190.0}, {\"replicant\": 947, \"duration\": 430.0}, {\"replicant\": 948, \"duration\": 670.0}, {\"replicant\": 949, \"duration\": 1150.0}, {\"replicant\": 950, \"duration\": 670.0}, {\"replicant\": 951, \"duration\": 1870.0}, {\"replicant\": 952, \"duration\": 200.0}, {\"replicant\": 953, \"duration\": 430.0}, {\"replicant\": 954, \"duration\": 2230.0}, {\"replicant\": 955, \"duration\": 310.0}, {\"replicant\": 956, \"duration\": 670.0}, {\"replicant\": 957, \"duration\": 1280.0}, {\"replicant\": 958, \"duration\": 790.0}, {\"replicant\": 959, \"duration\": 670.0}, {\"replicant\": 960, \"duration\": 1870.0}, {\"replicant\": 961, \"duration\": 550.0}, {\"replicant\": 962, \"duration\": 550.0}, {\"replicant\": 963, \"duration\": 190.0}, {\"replicant\": 964, \"duration\": 310.0}, {\"replicant\": 965, \"duration\": 310.0}, {\"replicant\": 966, \"duration\": 1030.0}, {\"replicant\": 967, \"duration\": 190.0}, {\"replicant\": 968, \"duration\": 1990.0}, {\"replicant\": 969, \"duration\": 550.0}, {\"replicant\": 970, \"duration\": 790.0}, {\"replicant\": 971, \"duration\": 550.0}, {\"replicant\": 972, \"duration\": 1030.0}, {\"replicant\": 973, \"duration\": 310.0}, {\"replicant\": 974, \"duration\": 1390.0}, {\"replicant\": 975, \"duration\": 430.0}, {\"replicant\": 976, \"duration\": 50.0}, {\"replicant\": 977, \"duration\": 550.0}, {\"replicant\": 978, \"duration\": 190.0}, {\"replicant\": 979, \"duration\": 190.0}, {\"replicant\": 980, \"duration\": 310.0}, {\"replicant\": 981, \"duration\": 790.0}, {\"replicant\": 982, \"duration\": 430.0}, {\"replicant\": 983, \"duration\": 190.0}, {\"replicant\": 984, \"duration\": 2720.0}, {\"replicant\": 985, \"duration\": 310.0}, {\"replicant\": 986, \"duration\": 910.0}, {\"replicant\": 987, \"duration\": 310.0}, {\"replicant\": 988, \"duration\": 550.0}, {\"replicant\": 989, \"duration\": 430.0}, {\"replicant\": 990, \"duration\": 550.0}, {\"replicant\": 991, \"duration\": 190.0}, {\"replicant\": 992, \"duration\": 1990.0}, {\"replicant\": 993, \"duration\": 670.0}, {\"replicant\": 994, \"duration\": 70.0}, {\"replicant\": 995, \"duration\": 430.0}, {\"replicant\": 996, \"duration\": 1280.0}, {\"replicant\": 997, \"duration\": 790.0}, {\"replicant\": 998, \"duration\": 2590.0}, {\"replicant\": 999, \"duration\": 790.0}]}}, {\"mode\": \"vega-lite\"});\n",
       "</script>"
      ],
      "text/plain": [
       "alt.Chart(...)"
      ]
     },
     "execution_count": 71,
     "metadata": {},
     "output_type": "execute_result"
    }
   ],
   "source": [
    "df = mc_results.groupby(\"replicant\", as_index=False).first()[[\"replicant\", \"duration\"]]\n",
    "\n",
    "alt.Chart(df).mark_bar().encode(\n",
    "    # alt.X(\"duration:Q\", bin=True),\n",
    "    alt.X(\"duration:Q\", bin=alt.Bin(extent=[0, 4000], step=250)),\n",
    "    y='count()',\n",
    ").properties(\n",
    "    width = 800\n",
    ")"
   ]
  },
  {
   "cell_type": "markdown",
   "metadata": {},
   "source": [
    "Compute the Emprical CDF"
   ]
  },
  {
   "cell_type": "code",
   "execution_count": 72,
   "metadata": {},
   "outputs": [],
   "source": [
    "import numpy as np\n",
    "\n",
    "# from: https://stackoverflow.com/questions/33345780/empirical-cdf-in-python-similiar-to-matlabs-one\n",
    "def ecdf(sample):\n",
    "\n",
    "    # convert sample to a numpy array, if it isn't already\n",
    "    sample = np.atleast_1d(sample)\n",
    "\n",
    "    # find the unique values and their corresponding counts\n",
    "    quantiles, counts = np.unique(sample, return_counts=True)\n",
    "\n",
    "    # take the cumulative sum of the counts and divide by the sample size to\n",
    "    # get the cumulative probabilities between 0 and 1\n",
    "    cumprob = np.cumsum(counts).astype(np.double) / sample.size\n",
    "\n",
    "    return quantiles, cumprob\n",
    "\n",
    "def plot_ECDF(df):\n",
    "    sample = df.duration.values\n",
    "    qe, pe = ecdf(sample)\n",
    "    data = pd.DataFrame({\"duration\": list(qe), \"prob\": list(pe)})\n",
    "    fig = alt.Chart(data).mark_line().encode(x = \"duration\", y = \"prob\")\n",
    "    return fig\n"
   ]
  },
  {
   "cell_type": "code",
   "execution_count": 73,
   "metadata": {},
   "outputs": [
    {
     "data": {
      "text/html": [
       "\n",
       "<div id=\"altair-viz-76fefe8484904be095374e98a5cc11e1\"></div>\n",
       "<script type=\"text/javascript\">\n",
       "  var VEGA_DEBUG = (typeof VEGA_DEBUG == \"undefined\") ? {} : VEGA_DEBUG;\n",
       "  (function(spec, embedOpt){\n",
       "    let outputDiv = document.currentScript.previousElementSibling;\n",
       "    if (outputDiv.id !== \"altair-viz-76fefe8484904be095374e98a5cc11e1\") {\n",
       "      outputDiv = document.getElementById(\"altair-viz-76fefe8484904be095374e98a5cc11e1\");\n",
       "    }\n",
       "    const paths = {\n",
       "      \"vega\": \"https://cdn.jsdelivr.net/npm//vega@5?noext\",\n",
       "      \"vega-lib\": \"https://cdn.jsdelivr.net/npm//vega-lib?noext\",\n",
       "      \"vega-lite\": \"https://cdn.jsdelivr.net/npm//vega-lite@4.17.0?noext\",\n",
       "      \"vega-embed\": \"https://cdn.jsdelivr.net/npm//vega-embed@6?noext\",\n",
       "    };\n",
       "\n",
       "    function maybeLoadScript(lib, version) {\n",
       "      var key = `${lib.replace(\"-\", \"\")}_version`;\n",
       "      return (VEGA_DEBUG[key] == version) ?\n",
       "        Promise.resolve(paths[lib]) :\n",
       "        new Promise(function(resolve, reject) {\n",
       "          var s = document.createElement('script');\n",
       "          document.getElementsByTagName(\"head\")[0].appendChild(s);\n",
       "          s.async = true;\n",
       "          s.onload = () => {\n",
       "            VEGA_DEBUG[key] = version;\n",
       "            return resolve(paths[lib]);\n",
       "          };\n",
       "          s.onerror = () => reject(`Error loading script: ${paths[lib]}`);\n",
       "          s.src = paths[lib];\n",
       "        });\n",
       "    }\n",
       "\n",
       "    function showError(err) {\n",
       "      outputDiv.innerHTML = `<div class=\"error\" style=\"color:red;\">${err}</div>`;\n",
       "      throw err;\n",
       "    }\n",
       "\n",
       "    function displayChart(vegaEmbed) {\n",
       "      vegaEmbed(outputDiv, spec, embedOpt)\n",
       "        .catch(err => showError(`Javascript Error: ${err.message}<br>This usually means there's a typo in your chart specification. See the javascript console for the full traceback.`));\n",
       "    }\n",
       "\n",
       "    if(typeof define === \"function\" && define.amd) {\n",
       "      requirejs.config({paths});\n",
       "      require([\"vega-embed\"], displayChart, err => showError(`Error loading script: ${err.message}`));\n",
       "    } else {\n",
       "      maybeLoadScript(\"vega\", \"5\")\n",
       "        .then(() => maybeLoadScript(\"vega-lite\", \"4.17.0\"))\n",
       "        .then(() => maybeLoadScript(\"vega-embed\", \"6\"))\n",
       "        .catch(showError)\n",
       "        .then(() => displayChart(vegaEmbed));\n",
       "    }\n",
       "  })({\"config\": {\"view\": {\"continuousWidth\": 400, \"continuousHeight\": 300}}, \"data\": {\"name\": \"data-cd70aff6eb01db3bf269eb8286ef817a\"}, \"mark\": \"line\", \"encoding\": {\"x\": {\"field\": \"duration\", \"type\": \"quantitative\"}, \"y\": {\"field\": \"prob\", \"type\": \"quantitative\"}}, \"$schema\": \"https://vega.github.io/schema/vega-lite/v4.17.0.json\", \"datasets\": {\"data-cd70aff6eb01db3bf269eb8286ef817a\": [{\"duration\": 50.0, \"prob\": 0.022}, {\"duration\": 70.0, \"prob\": 0.063}, {\"duration\": 80.0, \"prob\": 0.075}, {\"duration\": 170.0, \"prob\": 0.089}, {\"duration\": 190.0, \"prob\": 0.253}, {\"duration\": 200.0, \"prob\": 0.263}, {\"duration\": 290.0, \"prob\": 0.276}, {\"duration\": 310.0, \"prob\": 0.396}, {\"duration\": 320.0, \"prob\": 0.407}, {\"duration\": 410.0, \"prob\": 0.41}, {\"duration\": 430.0, \"prob\": 0.516}, {\"duration\": 440.0, \"prob\": 0.522}, {\"duration\": 530.0, \"prob\": 0.533}, {\"duration\": 550.0, \"prob\": 0.623}, {\"duration\": 560.0, \"prob\": 0.627}, {\"duration\": 650.0, \"prob\": 0.633}, {\"duration\": 670.0, \"prob\": 0.692}, {\"duration\": 680.0, \"prob\": 0.695}, {\"duration\": 770.0, \"prob\": 0.703}, {\"duration\": 790.0, \"prob\": 0.755}, {\"duration\": 800.0, \"prob\": 0.757}, {\"duration\": 890.0, \"prob\": 0.764}, {\"duration\": 910.0, \"prob\": 0.807}, {\"duration\": 920.0, \"prob\": 0.811}, {\"duration\": 1010.0, \"prob\": 0.814}, {\"duration\": 1030.0, \"prob\": 0.849}, {\"duration\": 1040.0, \"prob\": 0.852}, {\"duration\": 1130.0, \"prob\": 0.854}, {\"duration\": 1150.0, \"prob\": 0.874}, {\"duration\": 1160.0, \"prob\": 0.875}, {\"duration\": 1250.0, \"prob\": 0.876}, {\"duration\": 1270.0, \"prob\": 0.904}, {\"duration\": 1280.0, \"prob\": 0.909}, {\"duration\": 1370.0, \"prob\": 0.91}, {\"duration\": 1390.0, \"prob\": 0.927}, {\"duration\": 1510.0, \"prob\": 0.939}, {\"duration\": 1520.0, \"prob\": 0.941}, {\"duration\": 1610.0, \"prob\": 0.942}, {\"duration\": 1630.0, \"prob\": 0.953}, {\"duration\": 1730.0, \"prob\": 0.956}, {\"duration\": 1750.0, \"prob\": 0.965}, {\"duration\": 1760.0, \"prob\": 0.967}, {\"duration\": 1850.0, \"prob\": 0.968}, {\"duration\": 1870.0, \"prob\": 0.975}, {\"duration\": 1970.0, \"prob\": 0.977}, {\"duration\": 1990.0, \"prob\": 0.98}, {\"duration\": 2110.0, \"prob\": 0.983}, {\"duration\": 2120.0, \"prob\": 0.984}, {\"duration\": 2230.0, \"prob\": 0.987}, {\"duration\": 2450.0, \"prob\": 0.988}, {\"duration\": 2480.0, \"prob\": 0.989}, {\"duration\": 2590.0, \"prob\": 0.99}, {\"duration\": 2710.0, \"prob\": 0.991}, {\"duration\": 2720.0, \"prob\": 0.992}, {\"duration\": 2830.0, \"prob\": 0.993}, {\"duration\": 2930.0, \"prob\": 0.995}, {\"duration\": 2950.0, \"prob\": 0.996}, {\"duration\": 3310.0, \"prob\": 0.999}, {\"duration\": 3910.0, \"prob\": 1.0}]}}, {\"mode\": \"vega-lite\"});\n",
       "</script>"
      ],
      "text/plain": [
       "alt.Chart(...)"
      ]
     },
     "execution_count": 73,
     "metadata": {},
     "output_type": "execute_result"
    }
   ],
   "source": [
    "plot_ECDF(df)"
   ]
  },
  {
   "cell_type": "code",
   "execution_count": null,
   "metadata": {},
   "outputs": [],
   "source": []
  },
  {
   "cell_type": "code",
   "execution_count": null,
   "metadata": {},
   "outputs": [],
   "source": []
  },
  {
   "cell_type": "code",
   "execution_count": null,
   "metadata": {},
   "outputs": [],
   "source": []
  },
  {
   "cell_type": "code",
   "execution_count": null,
   "metadata": {},
   "outputs": [],
   "source": []
  },
  {
   "cell_type": "code",
   "execution_count": null,
   "metadata": {},
   "outputs": [],
   "source": []
  }
 ],
 "metadata": {
  "interpreter": {
   "hash": "c0d584d2a29dccce9f0ca87671acea225be4f5a93d19dd18a0936eea46ef1c14"
  },
  "kernelspec": {
   "display_name": "Python 3.10.3 64-bit ('SpaceDES-3.10.3')",
   "language": "python",
   "name": "python3"
  },
  "language_info": {
   "codemirror_mode": {
    "name": "ipython",
    "version": 3
   },
   "file_extension": ".py",
   "mimetype": "text/x-python",
   "name": "python",
   "nbconvert_exporter": "python",
   "pygments_lexer": "ipython3",
   "version": "3.10.3"
  },
  "orig_nbformat": 4
 },
 "nbformat": 4,
 "nbformat_minor": 2
}
