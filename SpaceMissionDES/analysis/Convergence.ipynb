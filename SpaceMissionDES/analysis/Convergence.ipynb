{
 "cells": [
  {
   "cell_type": "code",
   "execution_count": 1,
   "metadata": {},
   "outputs": [
    {
     "data": {
      "text/plain": [
       "DataTransformerRegistry.enable('data_server')"
      ]
     },
     "execution_count": 1,
     "metadata": {},
     "output_type": "execute_result"
    }
   ],
   "source": [
    "from pathlib import Path\n",
    "import pandas as pd\n",
    "import altair as alt\n",
    "alt.data_transformers.enable('data_server')"
   ]
  },
  {
   "cell_type": "code",
   "execution_count": 2,
   "metadata": {},
   "outputs": [
    {
     "data": {
      "text/html": [
       "<div>\n",
       "<style scoped>\n",
       "    .dataframe tbody tr th:only-of-type {\n",
       "        vertical-align: middle;\n",
       "    }\n",
       "\n",
       "    .dataframe tbody tr th {\n",
       "        vertical-align: top;\n",
       "    }\n",
       "\n",
       "    .dataframe thead th {\n",
       "        text-align: right;\n",
       "    }\n",
       "</style>\n",
       "<table border=\"1\" class=\"dataframe\">\n",
       "  <thead>\n",
       "    <tr style=\"text-align: right;\">\n",
       "      <th></th>\n",
       "      <th>replicant</th>\n",
       "      <th>outcome</th>\n",
       "      <th>duration</th>\n",
       "      <th>anomaly_count</th>\n",
       "      <th>anomaly_time</th>\n",
       "      <th>anomaly_vehicle</th>\n",
       "      <th>anomaly_activity</th>\n",
       "    </tr>\n",
       "  </thead>\n",
       "  <tbody>\n",
       "    <tr>\n",
       "      <th>0</th>\n",
       "      <td>5</td>\n",
       "      <td>False</td>\n",
       "      <td>56.142403</td>\n",
       "      <td>2</td>\n",
       "      <td>6.000000</td>\n",
       "      <td>Tanker</td>\n",
       "      <td>Countdown</td>\n",
       "    </tr>\n",
       "    <tr>\n",
       "      <th>1</th>\n",
       "      <td>5</td>\n",
       "      <td>False</td>\n",
       "      <td>56.142403</td>\n",
       "      <td>3</td>\n",
       "      <td>43.665012</td>\n",
       "      <td>Tanker</td>\n",
       "      <td>Countdown</td>\n",
       "    </tr>\n",
       "    <tr>\n",
       "      <th>2</th>\n",
       "      <td>5</td>\n",
       "      <td>False</td>\n",
       "      <td>56.142403</td>\n",
       "      <td>4</td>\n",
       "      <td>56.142403</td>\n",
       "      <td>Tanker</td>\n",
       "      <td>Redezvous</td>\n",
       "    </tr>\n",
       "    <tr>\n",
       "      <th>3</th>\n",
       "      <td>2</td>\n",
       "      <td>True</td>\n",
       "      <td>96.627624</td>\n",
       "      <td>2</td>\n",
       "      <td>0.000000</td>\n",
       "      <td>MTV</td>\n",
       "      <td>Countdown</td>\n",
       "    </tr>\n",
       "    <tr>\n",
       "      <th>4</th>\n",
       "      <td>2</td>\n",
       "      <td>True</td>\n",
       "      <td>96.627624</td>\n",
       "      <td>3</td>\n",
       "      <td>27.165012</td>\n",
       "      <td>Tanker</td>\n",
       "      <td>Countdown</td>\n",
       "    </tr>\n",
       "  </tbody>\n",
       "</table>\n",
       "</div>"
      ],
      "text/plain": [
       "   replicant  outcome   duration  anomaly_count  anomaly_time anomaly_vehicle  \\\n",
       "0          5    False  56.142403              2      6.000000          Tanker   \n",
       "1          5    False  56.142403              3     43.665012          Tanker   \n",
       "2          5    False  56.142403              4     56.142403          Tanker   \n",
       "3          2     True  96.627624              2      0.000000             MTV   \n",
       "4          2     True  96.627624              3     27.165012          Tanker   \n",
       "\n",
       "  anomaly_activity  \n",
       "0        Countdown  \n",
       "1        Countdown  \n",
       "2        Redezvous  \n",
       "3        Countdown  \n",
       "4        Countdown  "
      ]
     },
     "execution_count": 2,
     "metadata": {},
     "output_type": "execute_result"
    }
   ],
   "source": [
    "data_dir = Path.cwd().parent.parent / \"results\" / \"Case04-r05__Tx10-Tk08\"\n",
    "\n",
    "mc_results = pd.read_csv(data_dir / \"mc.csv\")\n",
    "mc_results.head()"
   ]
  },
  {
   "cell_type": "code",
   "execution_count": 3,
   "metadata": {},
   "outputs": [
    {
     "name": "stdout",
     "output_type": "stream",
     "text": [
      "The success rate was: 0.8698116352725455 = 86.981 %\n",
      "\n"
     ]
    }
   ],
   "source": [
    "N = mc_results.replicant.max()\n",
    "success_rate = sum(mc_results.groupby(\"replicant\").first().outcome) / N\n",
    "print(f\"The success rate was: {success_rate} = {100*success_rate:.3f} %\\n\")"
   ]
  },
  {
   "cell_type": "code",
   "execution_count": 4,
   "metadata": {},
   "outputs": [],
   "source": [
    "replicants = []\n",
    "rates = []\n",
    "for i in range(2, N, 1):\n",
    "    df = mc_results.query(f\"replicant <= {i}\")\n",
    "    rate_i = sum(df.groupby(\"replicant\").first().outcome) / (i+1)\n",
    "    replicants.append(i)\n",
    "    rates.append(rate_i)"
   ]
  },
  {
   "cell_type": "code",
   "execution_count": 5,
   "metadata": {},
   "outputs": [],
   "source": [
    "df = pd.DataFrame({\n",
    "    \"Replicants\": replicants,\n",
    "    \"Success Rate\": rates\n",
    "})\n",
    "# df.head(20)"
   ]
  },
  {
   "cell_type": "code",
   "execution_count": 7,
   "metadata": {},
   "outputs": [
    {
     "data": {
      "text/html": [
       "\n",
       "<div id=\"altair-viz-182627c51f7a4ffe80da0d87420549de\"></div>\n",
       "<script type=\"text/javascript\">\n",
       "  var VEGA_DEBUG = (typeof VEGA_DEBUG == \"undefined\") ? {} : VEGA_DEBUG;\n",
       "  (function(spec, embedOpt){\n",
       "    let outputDiv = document.currentScript.previousElementSibling;\n",
       "    if (outputDiv.id !== \"altair-viz-182627c51f7a4ffe80da0d87420549de\") {\n",
       "      outputDiv = document.getElementById(\"altair-viz-182627c51f7a4ffe80da0d87420549de\");\n",
       "    }\n",
       "    const paths = {\n",
       "      \"vega\": \"https://cdn.jsdelivr.net/npm//vega@5?noext\",\n",
       "      \"vega-lib\": \"https://cdn.jsdelivr.net/npm//vega-lib?noext\",\n",
       "      \"vega-lite\": \"https://cdn.jsdelivr.net/npm//vega-lite@4.17.0?noext\",\n",
       "      \"vega-embed\": \"https://cdn.jsdelivr.net/npm//vega-embed@6?noext\",\n",
       "    };\n",
       "\n",
       "    function maybeLoadScript(lib, version) {\n",
       "      var key = `${lib.replace(\"-\", \"\")}_version`;\n",
       "      return (VEGA_DEBUG[key] == version) ?\n",
       "        Promise.resolve(paths[lib]) :\n",
       "        new Promise(function(resolve, reject) {\n",
       "          var s = document.createElement('script');\n",
       "          document.getElementsByTagName(\"head\")[0].appendChild(s);\n",
       "          s.async = true;\n",
       "          s.onload = () => {\n",
       "            VEGA_DEBUG[key] = version;\n",
       "            return resolve(paths[lib]);\n",
       "          };\n",
       "          s.onerror = () => reject(`Error loading script: ${paths[lib]}`);\n",
       "          s.src = paths[lib];\n",
       "        });\n",
       "    }\n",
       "\n",
       "    function showError(err) {\n",
       "      outputDiv.innerHTML = `<div class=\"error\" style=\"color:red;\">${err}</div>`;\n",
       "      throw err;\n",
       "    }\n",
       "\n",
       "    function displayChart(vegaEmbed) {\n",
       "      vegaEmbed(outputDiv, spec, embedOpt)\n",
       "        .catch(err => showError(`Javascript Error: ${err.message}<br>This usually means there's a typo in your chart specification. See the javascript console for the full traceback.`));\n",
       "    }\n",
       "\n",
       "    if(typeof define === \"function\" && define.amd) {\n",
       "      requirejs.config({paths});\n",
       "      require([\"vega-embed\"], displayChart, err => showError(`Error loading script: ${err.message}`));\n",
       "    } else {\n",
       "      maybeLoadScript(\"vega\", \"5\")\n",
       "        .then(() => maybeLoadScript(\"vega-lite\", \"4.17.0\"))\n",
       "        .then(() => maybeLoadScript(\"vega-embed\", \"6\"))\n",
       "        .catch(showError)\n",
       "        .then(() => displayChart(vegaEmbed));\n",
       "    }\n",
       "  })({\"config\": {\"view\": {\"continuousWidth\": 400, \"continuousHeight\": 300}}, \"data\": {\"url\": \"http://localhost:15397/b42c233d9c833e712e6162acd8e38328.json\"}, \"mark\": \"line\", \"encoding\": {\"x\": {\"field\": \"Replicants\", \"type\": \"quantitative\"}, \"y\": {\"field\": \"Success Rate\", \"scale\": {\"domain\": [0.8, 0.9]}, \"type\": \"quantitative\"}}, \"height\": 300, \"width\": 800, \"$schema\": \"https://vega.github.io/schema/vega-lite/v4.17.0.json\"}, {\"mode\": \"vega-lite\"});\n",
       "</script>"
      ],
      "text/plain": [
       "alt.Chart(...)"
      ]
     },
     "execution_count": 7,
     "metadata": {},
     "output_type": "execute_result"
    }
   ],
   "source": [
    "alt.Chart(df).mark_line().encode(\n",
    "    x = alt.X(\"Replicants\"),\n",
    "    y = alt.Y(\"Success Rate\", scale=alt.Scale(domain=(0.8, 0.9)))\n",
    ").properties(\n",
    "    height = 300,\n",
    "    width=800\n",
    ")"
   ]
  },
  {
   "cell_type": "code",
   "execution_count": null,
   "metadata": {},
   "outputs": [],
   "source": []
  },
  {
   "cell_type": "code",
   "execution_count": null,
   "metadata": {},
   "outputs": [],
   "source": []
  }
 ],
 "metadata": {
  "interpreter": {
   "hash": "c0d584d2a29dccce9f0ca87671acea225be4f5a93d19dd18a0936eea46ef1c14"
  },
  "kernelspec": {
   "display_name": "Python 3.10.3 64-bit ('SpaceDES-3.10.3')",
   "language": "python",
   "name": "python3"
  },
  "language_info": {
   "codemirror_mode": {
    "name": "ipython",
    "version": 3
   },
   "file_extension": ".py",
   "mimetype": "text/x-python",
   "name": "python",
   "nbconvert_exporter": "python",
   "pygments_lexer": "ipython3",
   "version": "3.10.3"
  },
  "orig_nbformat": 4
 },
 "nbformat": 4,
 "nbformat_minor": 2
}
