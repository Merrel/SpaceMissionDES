{
 "cells": [
  {
   "cell_type": "markdown",
   "metadata": {},
   "source": [
    "*A demonstration of deploying a thread, partially completing, pausing, and resuming.*"
   ]
  },
  {
   "cell_type": "markdown",
   "metadata": {},
   "source": [
    "Desired behavior:\n",
    "\n",
    "<img src=\"../media/Threads-Concept-01.png\" width=500>"
   ]
  },
  {
   "cell_type": "markdown",
   "metadata": {},
   "source": [
    "Pseudo Code\n",
    "\n",
    "```\n",
    "# ----------------------------------------------- Scheduler\n",
    "for event in future:\n",
    "    update sim time\n",
    "    get process based on event\n",
    "    return control to process\n",
    "    # ------------------------------------------- Process\n",
    "    Do process things\n",
    "    Update process states\n",
    "    return control to scheduler\n",
    "    # ------------------------------------------- Scheduler\n",
    "    update system state\n",
    "    schedule next event\n",
    "    start next process?\n",
    "```"
   ]
  },
  {
   "cell_type": "markdown",
   "metadata": {},
   "source": [
    "---\n",
    "### Demo `ascyncio`"
   ]
  },
  {
   "cell_type": "code",
   "execution_count": 1,
   "metadata": {},
   "outputs": [],
   "source": [
    "import asyncio"
   ]
  },
  {
   "cell_type": "code",
   "execution_count": 2,
   "metadata": {},
   "outputs": [],
   "source": [
    "async def nested():\n",
    "    return 42\n",
    "\n",
    "async def main():\n",
    "    # Nothing happens if we just call \"nested()\".\n",
    "    # A coroutine object is created but not awaited,\n",
    "    # so it *won't run at all*.\n",
    "    nested()\n",
    "\n",
    "    # Let's do it differently now and await it:\n",
    "    print(await nested())  # will print \"42\".\n",
    "\n",
    "# asyncio.run(main())"
   ]
  },
  {
   "cell_type": "code",
   "execution_count": 3,
   "metadata": {},
   "outputs": [
    {
     "data": {
      "text/plain": [
       "42"
      ]
     },
     "execution_count": 3,
     "metadata": {},
     "output_type": "execute_result"
    }
   ],
   "source": [
    "await nested()"
   ]
  },
  {
   "cell_type": "markdown",
   "metadata": {},
   "source": [
    "Working with `Events`"
   ]
  },
  {
   "cell_type": "code",
   "execution_count": 4,
   "metadata": {},
   "outputs": [],
   "source": [
    "async def fly_mission(event, name): \n",
    "    print(f\"{name}: I'm flyin!\")\n",
    "\n",
    "    await event.wait()\n",
    "\n",
    "    print(f\"{name}: I'm done.\")"
   ]
  },
  {
   "cell_type": "code",
   "execution_count": 5,
   "metadata": {},
   "outputs": [
    {
     "name": "stdout",
     "output_type": "stream",
     "text": [
      "Start mission\n",
      "Vehicle A: I'm flyin!\n",
      "Vehicle B: I'm flyin!\n"
     ]
    }
   ],
   "source": [
    "print(\"Start mission\")\n",
    "\n",
    "# At the same time that we start a mission we will schedule a future event\n",
    "end_flightA = asyncio.Event()\n",
    "end_flightB = asyncio.Event()\n",
    "\n",
    "flightA = asyncio.create_task(fly_mission(end_flightA, \"Vehicle A\"), name=\"flightA\")\n",
    "flightB = asyncio.create_task(fly_mission(end_flightB, \"Vehicle B\"), name=\"flightB\")\n",
    "\n",
    "fel = [end_flightA, end_flightB]"
   ]
  },
  {
   "cell_type": "code",
   "execution_count": 6,
   "metadata": {},
   "outputs": [],
   "source": [
    "# end_mission.set()"
   ]
  },
  {
   "cell_type": "markdown",
   "metadata": {},
   "source": [
    "### Introspections -- what are the active tasks?"
   ]
  },
  {
   "cell_type": "code",
   "execution_count": 7,
   "metadata": {},
   "outputs": [
    {
     "data": {
      "text/plain": [
       "'Task-3'"
      ]
     },
     "execution_count": 7,
     "metadata": {},
     "output_type": "execute_result"
    }
   ],
   "source": [
    "asyncio.current_task().get_name()"
   ]
  },
  {
   "cell_type": "code",
   "execution_count": 8,
   "metadata": {},
   "outputs": [
    {
     "data": {
      "text/plain": [
       "{<Task pending name='Task-3' coro=<Kernel.dispatch_queue() running at /Users/ben/.pyenv/versions/3.10.3/envs/SpaceDES/lib/python3.10/site-packages/ipykernel/kernelbase.py:473> cb=[IOLoop.add_future.<locals>.<lambda>() at /Users/ben/.pyenv/versions/3.10.3/envs/SpaceDES/lib/python3.10/site-packages/tornado/ioloop.py:688]>,\n",
       " <Task pending name='flightA' coro=<fly_mission() running at /var/folders/d4/714vzybx28lcn2xx4n__4n8m0000gp/T/ipykernel_48598/333057138.py:4> wait_for=<Future pending cb=[Task.task_wakeup()]>>,\n",
       " <Task pending name='flightB' coro=<fly_mission() running at /var/folders/d4/714vzybx28lcn2xx4n__4n8m0000gp/T/ipykernel_48598/333057138.py:4> wait_for=<Future pending cb=[Task.task_wakeup()]>>}"
      ]
     },
     "execution_count": 8,
     "metadata": {},
     "output_type": "execute_result"
    }
   ],
   "source": [
    "asyncio.all_tasks()"
   ]
  },
  {
   "cell_type": "code",
   "execution_count": 9,
   "metadata": {},
   "outputs": [
    {
     "name": "stdout",
     "output_type": "stream",
     "text": [
      "Vehicle B: I'm done.\n"
     ]
    }
   ],
   "source": [
    "end_flightB.set()"
   ]
  },
  {
   "cell_type": "code",
   "execution_count": 11,
   "metadata": {},
   "outputs": [
    {
     "name": "stdout",
     "output_type": "stream",
     "text": [
      "Vehicle A: I'm done.\n"
     ]
    }
   ],
   "source": [
    "end_flightA.set()"
   ]
  },
  {
   "cell_type": "code",
   "execution_count": 10,
   "metadata": {},
   "outputs": [
    {
     "data": {
      "text/plain": [
       "{<Task pending name='Task-3' coro=<Kernel.dispatch_queue() running at /Users/ben/.pyenv/versions/3.10.3/envs/SpaceDES/lib/python3.10/site-packages/ipykernel/kernelbase.py:473> cb=[IOLoop.add_future.<locals>.<lambda>() at /Users/ben/.pyenv/versions/3.10.3/envs/SpaceDES/lib/python3.10/site-packages/tornado/ioloop.py:688]>,\n",
       " <Task pending name='flightA' coro=<fly_mission() running at /var/folders/d4/714vzybx28lcn2xx4n__4n8m0000gp/T/ipykernel_48598/333057138.py:4> wait_for=<Future pending cb=[Task.task_wakeup()]>>}"
      ]
     },
     "execution_count": 10,
     "metadata": {},
     "output_type": "execute_result"
    }
   ],
   "source": [
    "asyncio.all_tasks()"
   ]
  },
  {
   "cell_type": "markdown",
   "metadata": {},
   "source": [
    "#### Simple Demo"
   ]
  },
  {
   "cell_type": "code",
   "execution_count": null,
   "metadata": {},
   "outputs": [],
   "source": [
    "from dataclasses import dataclass\n",
    "\n",
    "@dataclass\n",
    "class Simulation:\n",
    "    future: list  # of events\n",
    "    active: list  # of tasks\n",
    "    complete: list  # of tasks\n",
    "\n",
    "async def fly_mission(event, name): \n",
    "    print(f\"{name}: I'm flyin!\")\n",
    "\n",
    "    await event.wait()\n",
    "\n",
    "    print(f\"{name}: I'm done.\")"
   ]
  },
  {
   "cell_type": "markdown",
   "metadata": {},
   "source": [
    "Start an empty sim"
   ]
  },
  {
   "cell_type": "code",
   "execution_count": null,
   "metadata": {},
   "outputs": [
    {
     "data": {
      "text/plain": [
       "Simulation(future=[], active=[], complete=[])"
      ]
     },
     "execution_count": 49,
     "metadata": {},
     "output_type": "execute_result"
    }
   ],
   "source": [
    "sim = Simulation([], [], [])\n",
    "sim"
   ]
  },
  {
   "cell_type": "markdown",
   "metadata": {},
   "source": [
    "Start a process and schedule an ending event"
   ]
  },
  {
   "cell_type": "code",
   "execution_count": null,
   "metadata": {},
   "outputs": [
    {
     "data": {
      "text/plain": [
       "Simulation(future=[<asyncio.locks.Event object at 0x10493f250 [unset]>], active=[<Task pending name='Task-10' coro=<fly_mission() running at /var/folders/d4/714vzybx28lcn2xx4n__4n8m0000gp/T/ipykernel_71677/3053018486.py:9>>], complete=[])"
      ]
     },
     "execution_count": 51,
     "metadata": {},
     "output_type": "execute_result"
    },
    {
     "name": "stdout",
     "output_type": "stream",
     "text": [
      "Vehicle A: I'm flyin!\n"
     ]
    }
   ],
   "source": [
    "# For some vehicle\n",
    "vehicle = \"Vehicle A\"\n",
    "\n",
    "# Get some process pair --> fly_mission, end_mission\n",
    "# - Create an instance of the ending event\n",
    "end_mission = asyncio.Event()\n",
    "# - Create the task object, this schedules the ending event\n",
    "mission = asyncio.create_task(fly_mission(end_mission, vehicle))\n",
    "\n",
    "# Update the sim with the events and missions\n",
    "sim.future.append(end_mission)\n",
    "sim.active.append(mission)\n",
    "\n",
    "# check the sim\n",
    "sim"
   ]
  },
  {
   "cell_type": "markdown",
   "metadata": {},
   "source": [
    "Now trigger the next event and update the appropriate task"
   ]
  },
  {
   "cell_type": "code",
   "execution_count": null,
   "metadata": {},
   "outputs": [
    {
     "name": "stdout",
     "output_type": "stream",
     "text": [
      "Vehicle A: I'm done.\n"
     ]
    }
   ],
   "source": [
    "# Get the next event\n",
    "next_event = sim.future[0]\n",
    "\n",
    "next_event.set()"
   ]
  },
  {
   "cell_type": "markdown",
   "metadata": {},
   "source": [
    "Process the task status"
   ]
  },
  {
   "cell_type": "code",
   "execution_count": null,
   "metadata": {},
   "outputs": [
    {
     "data": {
      "text/plain": [
       "Simulation(future=[<asyncio.locks.Event object at 0x10493f250 [set]>], active=[], complete=[<Task finished name='Task-10' coro=<fly_mission() done, defined at /var/folders/d4/714vzybx28lcn2xx4n__4n8m0000gp/T/ipykernel_71677/3053018486.py:9> result=None>])"
      ]
     },
     "execution_count": 53,
     "metadata": {},
     "output_type": "execute_result"
    }
   ],
   "source": [
    "completed_task =  sim.active[0]\n",
    "\n",
    "sim.active.remove(completed_task)\n",
    "sim.complete.append(completed_task)\n",
    "\n",
    "sim"
   ]
  },
  {
   "cell_type": "code",
   "execution_count": null,
   "metadata": {},
   "outputs": [],
   "source": [
    "@dataclass\n",
    "class Activity:\n",
    "    name: str\n",
    "    start: float\n",
    "    end: float\n",
    "    task: asyncio.Task"
   ]
  },
  {
   "cell_type": "code",
   "execution_count": null,
   "metadata": {},
   "outputs": [],
   "source": [
    "end_mission = asyncio.Event()\n",
    "# - Create the task object, this schedules the ending event\n",
    "mission = asyncio.create_task(fly_mission(end_mission, vehicle))\n",
    "\n",
    "a = Activity(\"Flight\", 0, 10, mission)"
   ]
  },
  {
   "cell_type": "markdown",
   "metadata": {},
   "source": [
    "---"
   ]
  },
  {
   "cell_type": "code",
   "execution_count": null,
   "metadata": {},
   "outputs": [],
   "source": [
    "@dataclass\n",
    "class Simulation:\n",
    "    future: list  # of events\n",
    "    active: list  # of tasks\n",
    "    complete: list  # of tasks\n",
    "    \n",
    "    def schedule(self, coro, event, vehicle):\n",
    "\n",
    "        new_task = asyncio.create_task(coro(event, vehicle))\n",
    "        # update the sim state\n",
    "        self.future.append(event)\n",
    "        self.active.append(new_task)\n",
    "\n",
    "        new_task.add_done_callback(self.update_state)\n",
    "\n",
    "        # self.complete(new_task)\n",
    "\n",
    "    def update_state(self, task):\n",
    "\n",
    "        self.future.remove(event)\n",
    "        self.active.remove(task)\n",
    "        self.complete.append(task)\n"
   ]
  },
  {
   "cell_type": "code",
   "execution_count": null,
   "metadata": {},
   "outputs": [],
   "source": [
    "async def fly_mission(event, name): \n",
    "    print(f\"{name}: I'm flyin!\")\n",
    "\n",
    "    await event.wait()\n",
    "\n",
    "    print(f\"{name}: I'm done.\")"
   ]
  },
  {
   "cell_type": "code",
   "execution_count": null,
   "metadata": {},
   "outputs": [
    {
     "data": {
      "text/plain": [
       "Simulation(future=[<asyncio.locks.Event object at 0x103d5aa40 [unset]>], active=[<Task pending name='Task-26' coro=<fly_mission() running at /var/folders/d4/714vzybx28lcn2xx4n__4n8m0000gp/T/ipykernel_71677/333057138.py:1> cb=[Simulation.update_state()]>], complete=[])"
      ]
     },
     "execution_count": 119,
     "metadata": {},
     "output_type": "execute_result"
    },
    {
     "name": "stdout",
     "output_type": "stream",
     "text": [
      "Vehicle A: I'm flyin!\n"
     ]
    }
   ],
   "source": [
    "sim = Simulation([], [], [])\n",
    "\n",
    "vehicle = \"Vehicle A\"\n",
    "\n",
    "event = asyncio.Event()\n",
    "\n",
    "sim.schedule(fly_mission, event, vehicle)\n",
    "\n",
    "sim"
   ]
  },
  {
   "cell_type": "code",
   "execution_count": null,
   "metadata": {},
   "outputs": [
    {
     "name": "stdout",
     "output_type": "stream",
     "text": [
      "Vehicle A: I'm done.\n"
     ]
    }
   ],
   "source": [
    "event.set()"
   ]
  },
  {
   "cell_type": "code",
   "execution_count": null,
   "metadata": {},
   "outputs": [
    {
     "data": {
      "text/plain": [
       "Simulation(future=[], active=[], complete=[<Task finished name='Task-26' coro=<fly_mission() done, defined at /var/folders/d4/714vzybx28lcn2xx4n__4n8m0000gp/T/ipykernel_71677/333057138.py:1> result=None>])"
      ]
     },
     "execution_count": 121,
     "metadata": {},
     "output_type": "execute_result"
    }
   ],
   "source": [
    "sim"
   ]
  },
  {
   "cell_type": "code",
   "execution_count": null,
   "metadata": {},
   "outputs": [],
   "source": []
  }
 ],
 "metadata": {
  "interpreter": {
   "hash": "e424518f93302f49c6cf3b0eb17b463a5ec23247dd7ad8a8782bd3c352e484ba"
  },
  "kernelspec": {
   "display_name": "Python 3.10.3 64-bit ('SpaceDES')",
   "language": "python",
   "name": "python3"
  },
  "language_info": {
   "codemirror_mode": {
    "name": "ipython",
    "version": 3
   },
   "file_extension": ".py",
   "mimetype": "text/x-python",
   "name": "python",
   "nbconvert_exporter": "python",
   "pygments_lexer": "ipython3",
   "version": "3.10.3"
  },
  "orig_nbformat": 4
 },
 "nbformat": 4,
 "nbformat_minor": 2
}
